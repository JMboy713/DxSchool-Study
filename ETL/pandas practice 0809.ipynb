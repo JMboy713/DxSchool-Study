{
 "cells": [
  {
   "cell_type": "code",
   "execution_count": 2,
   "id": "4b945f07",
   "metadata": {},
   "outputs": [],
   "source": [
    "import pandas as pd\n",
    "import numpy as np\n",
    "import lxml"
   ]
  },
  {
   "attachments": {},
   "cell_type": "markdown",
   "id": "dbe4ce47",
   "metadata": {},
   "source": [
    "### csv 저장"
   ]
  },
  {
   "cell_type": "code",
   "execution_count": 1,
   "id": "c88f557f",
   "metadata": {},
   "outputs": [
    {
     "ename": "NameError",
     "evalue": "name 'pd' is not defined",
     "output_type": "error",
     "traceback": [
      "\u001b[0;31m---------------------------------------------------------------------------\u001b[0m",
      "\u001b[0;31mNameError\u001b[0m                                 Traceback (most recent call last)",
      "Cell \u001b[0;32mIn[1], line 6\u001b[0m\n\u001b[1;32m      1\u001b[0m items\u001b[39m=\u001b[39m{\n\u001b[1;32m      2\u001b[0m     \u001b[39m'\u001b[39m\u001b[39mcode\u001b[39m\u001b[39m'\u001b[39m:[\u001b[39m1\u001b[39m,\u001b[39m2\u001b[39m,\u001b[39m3\u001b[39m],\n\u001b[1;32m      3\u001b[0m     \u001b[39m'\u001b[39m\u001b[39mname\u001b[39m\u001b[39m'\u001b[39m:[\u001b[39m'\u001b[39m\u001b[39mapple\u001b[39m\u001b[39m'\u001b[39m,\u001b[39m'\u001b[39m\u001b[39mwatermelon\u001b[39m\u001b[39m'\u001b[39m,\u001b[39m'\u001b[39m\u001b[39mkiwi\u001b[39m\u001b[39m'\u001b[39m]\n\u001b[1;32m      4\u001b[0m }\n\u001b[0;32m----> 6\u001b[0m df\u001b[39m=\u001b[39mpd\u001b[39m.\u001b[39mDataFrame(items)\n\u001b[1;32m      7\u001b[0m df\n",
      "\u001b[0;31mNameError\u001b[0m: name 'pd' is not defined"
     ]
    }
   ],
   "source": [
    "items={\n",
    "    'code':[1,2,3],\n",
    "    'name':['apple','watermelon','kiwi']\n",
    "}\n",
    "\n",
    "df=pd.DataFrame(items)\n",
    "df"
   ]
  },
  {
   "cell_type": "code",
   "execution_count": null,
   "id": "6cee0aca",
   "metadata": {},
   "outputs": [],
   "source": [
    "df.to_csv('./data/pddata.csv')"
   ]
  },
  {
   "attachments": {},
   "cell_type": "markdown",
   "id": "57147c03",
   "metadata": {},
   "source": [
    "### 엑셀 읽기 및 저장"
   ]
  },
  {
   "cell_type": "code",
   "execution_count": 3,
   "id": "515765c0",
   "metadata": {},
   "outputs": [
    {
     "data": {
      "text/html": [
       "<div>\n",
       "<style scoped>\n",
       "    .dataframe tbody tr th:only-of-type {\n",
       "        vertical-align: middle;\n",
       "    }\n",
       "\n",
       "    .dataframe tbody tr th {\n",
       "        vertical-align: top;\n",
       "    }\n",
       "\n",
       "    .dataframe thead th {\n",
       "        text-align: right;\n",
       "    }\n",
       "</style>\n",
       "<table border=\"1\" class=\"dataframe\">\n",
       "  <thead>\n",
       "    <tr style=\"text-align: right;\">\n",
       "      <th></th>\n",
       "      <th>이름</th>\n",
       "      <th>1과목</th>\n",
       "      <th>2과목</th>\n",
       "      <th>3과목</th>\n",
       "    </tr>\n",
       "    <tr>\n",
       "      <th>번호</th>\n",
       "      <th></th>\n",
       "      <th></th>\n",
       "      <th></th>\n",
       "      <th></th>\n",
       "    </tr>\n",
       "  </thead>\n",
       "  <tbody>\n",
       "    <tr>\n",
       "      <th>1</th>\n",
       "      <td>이효준</td>\n",
       "      <td>40.0</td>\n",
       "      <td>NaN</td>\n",
       "      <td>45.0</td>\n",
       "    </tr>\n",
       "    <tr>\n",
       "      <th>2</th>\n",
       "      <td>김성희</td>\n",
       "      <td>42.0</td>\n",
       "      <td>55.0</td>\n",
       "      <td>50.0</td>\n",
       "    </tr>\n",
       "    <tr>\n",
       "      <th>3</th>\n",
       "      <td>이연숙</td>\n",
       "      <td>NaN</td>\n",
       "      <td>60.0</td>\n",
       "      <td>55.0</td>\n",
       "    </tr>\n",
       "    <tr>\n",
       "      <th>4</th>\n",
       "      <td>노화현</td>\n",
       "      <td>50.0</td>\n",
       "      <td>70.0</td>\n",
       "      <td>60.0</td>\n",
       "    </tr>\n",
       "    <tr>\n",
       "      <th>5</th>\n",
       "      <td>최희순</td>\n",
       "      <td>55.0</td>\n",
       "      <td>75.0</td>\n",
       "      <td>NaN</td>\n",
       "    </tr>\n",
       "    <tr>\n",
       "      <th>6</th>\n",
       "      <td>정원주</td>\n",
       "      <td>60.0</td>\n",
       "      <td>80.0</td>\n",
       "      <td>70.0</td>\n",
       "    </tr>\n",
       "  </tbody>\n",
       "</table>\n",
       "</div>"
      ],
      "text/plain": [
       "                            이름   1과목   2과목   3과목\n",
       "번호                                              \n",
       "1                          이효준  40.0   NaN  45.0\n",
       "2                          김성희  42.0  55.0  50.0\n",
       "3                          이연숙   NaN  60.0  55.0\n",
       "4                          노화현  50.0  70.0  60.0\n",
       "5                          최희순  55.0  75.0   NaN\n",
       "6                          정원주  60.0  80.0  70.0"
      ]
     },
     "execution_count": 3,
     "metadata": {},
     "output_type": "execute_result"
    }
   ],
   "source": [
    "df=pd.read_excel('./data/excel.xlsx',index_col=0,sheet_name=\"Sheet1\")\n",
    "df"
   ]
  },
  {
   "cell_type": "code",
   "execution_count": 12,
   "id": "8720241d",
   "metadata": {},
   "outputs": [
    {
     "name": "stderr",
     "output_type": "stream",
     "text": [
      "/var/folders/jv/jrhq9b3j1r71dg847_hrmn_m0000gn/T/ipykernel_32230/4220103795.py:3: FutureWarning: save is not part of the public API, usage can give unexpected results and will be removed in a future version\n",
      "  writer.save()\n"
     ]
    }
   ],
   "source": [
    "writer=pd.ExcelWriter('./data/excel1.xlsx')\n",
    "df.to_excel(writer)\n",
    "writer.save()"
   ]
  },
  {
   "attachments": {},
   "cell_type": "markdown",
   "id": "2bc7543f",
   "metadata": {},
   "source": [
    "### html 의 테이블 읽기\n",
    "\n"
   ]
  },
  {
   "cell_type": "code",
   "execution_count": 8,
   "id": "c125d5e8",
   "metadata": {},
   "outputs": [
    {
     "name": "stdout",
     "output_type": "stream",
     "text": [
      "[       0        1           2       3  \\\n",
      "0      1       인도  1428630000  2023.0   \n",
      "1      2  중화인민공화국  1411750000  2023.0   \n",
      "2      3       미국   334805268  2021.0   \n",
      "3      4    인도네시아   279134505  2021.0   \n",
      "4      5     파키스탄   229488996  2021.0   \n",
      "..   ...      ...         ...     ...   \n",
      "236  237      니우에        1520     NaN   \n",
      "237  238     토켈라우        1501  2021.0   \n",
      "238  239   바티칸 시국         825  2019.0   \n",
      "239    -   코코스 제도         573  2020.0   \n",
      "240    -   핏케언 제도          46  2021.0   \n",
      "\n",
      "                                                     4  \n",
      "0                             공식 인구시계 UN 프로젝션[1][2][3]  \n",
      "1                                              공식 인구시계  \n",
      "2                                              공식 인구시계  \n",
      "3                                              공식 인구시계  \n",
      "4                                              공식 인구시계  \n",
      "..                                                 ...  \n",
      "236                                                NaN  \n",
      "237                                              연간 예측  \n",
      "238  월간 국가통계[13] 실거주자 453명, 비거주자 372명으로 세계에서 가장 인구가...  \n",
      "239                                              공식 추산  \n",
      "240                        공식 추산[14] 세계에서 가장 인구가 적은 속령  \n",
      "\n",
      "[241 rows x 5 columns],   vte나라 목록                                         vte나라 목록.1\n",
      "0       지리  면적 해안선 최고 고도 밀집도 해안 면적 비율 위도 최북단 최남단 경도 최동단 최서...\n",
      "1    인구 통계  인구 (그래프 인구 밀도) 평균 수명 영아 사망률 출생률 출산율 과거 출산율 사망률...\n",
      "2       경제  국내 총생산: 명목 GDP (일인당) PPP (일인당) (노동 시간 일인당) 과거 ...\n",
      "3   정치와 사회  정치자유 언론 자유 교육제도 대통령제/의원내각제 선거제도 사형제 동성결혼 낙태 국가...\n",
      "4       군사        군비지출 병력 모병제/징병제 전시 작전통제권 핵무기 보유 UN 평화유지군 파병\n",
      "5       환경  석유 생산 가채 석유 매장량 생산량 소비량 수출 수입 이산화탄소 배출량 (일인당) ...]\n"
     ]
    }
   ],
   "source": [
    "li= pd.read_html(\"https://ko.wikipedia.org/wiki/%EC%9D%B8%EA%B5%AC%EC%88%9C_%EB%82%98%EB%9D%BC_%EB%AA%A9%EB%A1%9D\")\n",
    "print(li)"
   ]
  },
  {
   "attachments": {},
   "cell_type": "markdown",
   "id": "bff93715",
   "metadata": {},
   "source": [
    "### 파이썬 기본 라이브러리 이용"
   ]
  },
  {
   "cell_type": "code",
   "execution_count": 7,
   "id": "88bc7abf",
   "metadata": {},
   "outputs": [
    {
     "name": "stdout",
     "output_type": "stream",
     "text": [
      "<!doctype html><html data-n-head-ssr lang=\"ko\" data-n-head=\"%7B%22lang%22:%7B%22ssr%22:%22ko%22%7D%7D\"><head ><title>카카오</title><meta data-n-head=\"ssr\" charset=\"utf-8\"><meta data-n-head=\"ssr\" name=\"viewport\" content=\"user-scalable=no, width=device-width, height=device-height, initial-scale=1, maximum-scale=1, minimum-scale=1.0, viewport-fit=cover\"><meta data-n-head=\"ssr\" property=\"og:type\" content=\"website\"><meta data-n-head=\"ssr\" property=\"og:site_name\" content=\"kakaocorp.com\"><meta data-n-head=\"ssr\" data-hid=\"url\" property=\"og:url\" content=\"//www.kakaocorp.com/page\"><meta data-n-head=\"ssr\" data-hid=\"title\" property=\"og:title\" content=\"Kakao\"><meta data-n-head=\"ssr\" data-hid=\"image\" property=\"og:image\" content=\"//t1.kakaocdn.net/kakaocorp/corp_thumbnail/Kakao.png\"><meta data-n-head=\"ssr\" data-hid=\"twitter\" name=\"twitter:image\" content=\"//t1.kakaocdn.net/kakaocorp/corp_thumbnail/Kakao.png\"><meta data-n-head=\"ssr\" name=\"naver-site-verification\" content=\"978574773c25b7ebacf3d4fb8308cba807def903\"><meta data-n-head=\"ssr\" name=\"google-site-verification\" content=\"1Xzj4wSdrqlorYybls1auuS_QH004opxKRrxvF7vAho\"><meta data-n-head=\"ssr\" data-hid=\"og:description\" property=\"og:description\" content=\"기술과 사람으로 더 나은 세상을 만듭니다\"><meta data-n-head=\"ssr\" data-hid=\"description\" name=\"description\" content=\"기술과 사람으로 더 나은 세상을 만듭니다\"><base href=\"/page/\"><link data-n-head=\"ssr\" rel=\"icon\" type=\"image/x-icon\" href=\"/page/favicon.ico\"><script data-n-head=\"ssr\" type=\"text/javascript\" src=\"//developers.kakao.com/sdk/js/kakao.min.js\"></script><script data-n-head=\"ssr\" type=\"text/javascript\" src=\"//t1.daumcdn.net/tiara/js/v1/tiara.min.js\"></script><link rel=\"preload\" href=\"/page/_nuxt/0ea2753.js\" as=\"script\"><link rel=\"preload\" href=\"/page/_nuxt/ba90d9e.js\" as=\"script\"><link rel=\"preload\" href=\"/page/_nuxt/css/7f2d63c.css\" as=\"style\"><link rel=\"preload\" href=\"/page/_nuxt/107d4d9.js\" as=\"script\"><link rel=\"preload\" href=\"/page/_nuxt/3b15d7c.js\" as=\"script\"><link rel=\"stylesheet\" href=\"/page/_nuxt/css/7f2d63c.css\"></head><body class=\"light mo  \" data-n-head=\"%7B%22class%22:%7B%22ssr%22:%5B%22light%22,%22mo%22,%22%22,%22%22%5D%7D%7D\"><noscript data-n-head=\"ssr\" data-pbody=\"true\">이 페이지를 실행하려면 자바스크립트를 사용해야 합니다.</noscript><div data-server-rendered=\"true\" id=\"__nuxt\"><div id=\"__layout\"><div data-v-681c0c75><div aria-hidden=\"true\" class=\"direct-link\" data-v-681c0c75><a href=\"#mainContent\" data-v-681c0c75>본문 바로가기</a> <a href=\"#gnbContent\" data-v-681c0c75>메뉴 바로가기</a></div> <div class=\"container-doc\" style=\"visibility:hidden;\" data-v-681c0c75><header class=\"doc-header head_type2\" data-v-242c9ccb data-v-681c0c75><div class=\"wrap_header\" data-v-242c9ccb><h1 class=\"doc-title\" data-v-242c9ccb><a href=\"/page\" data-v-242c9ccb><span class=\"screen_out\" data-v-242c9ccb>KaKao</span><!----></a></h1> <button type=\"button\" class=\"btn_hamburger\" data-v-242c9ccb><span class=\"screen_out\" data-v-242c9ccb>메인 메뉴 열기</span> <!----></button> <button type=\"button\" data-tiara-action-name=\"click_search_open\" class=\"btn_search\" data-v-242c9ccb><span class=\"screen_out\" data-v-242c9ccb>검색창 열기</span> <!----></button></div> <div aria-hidden=\"true\" class=\"area_gnb\" data-v-242c9ccb><div class=\"inner_gnb\" data-v-242c9ccb><strong class=\"gnb_logo\" data-v-242c9ccb><a href=\"/page\" data-v-242c9ccb><span class=\"screen_out\" data-v-242c9ccb>KaKao</span><!----></a></strong> <nav id=\"gnbContent\" class=\"doc-gnb\" data-v-242c9ccb><h2 class=\"screen_out\" data-v-242c9ccb>메인메뉴</h2> <ul class=\"list_gnb\" data-v-242c9ccb><li data-v-242c9ccb><a href=\"javascript;\" role=\"button\" aria-expanded=\"false\" data-v-242c9ccb><img src=\"data:image/gif;base64,R0lGODlhAQABAIAAAAAAAP///yH5BAEAAAAALAAAAAABAAEAAAIBRAA7\" alt=\"\" class=\"ico_menu\" data-v-a968263a data-v-242c9ccb> <span data-v-242c9ccb>소개</span></a> <ul role=\"list\" class=\"list_sub\" style=\"display:none;\" data-v-242c9ccb><li role=\"listitem\" data-v-242c9ccb><a href=\"/page/about/kakaoCulture\" data-v-242c9ccb>\n",
      "                      카카오 문화\n",
      "                    </a></li><li role=\"listitem\" data-v-242c9ccb><a href=\"/page/about/subsidiaryCompany\" data-v-242c9ccb>\n",
      "                      공동체\n",
      "                    </a></li><li role=\"listitem\" data-v-242c9ccb><a href=\"/page/about/milestones\" data-v-242c9ccb>\n",
      "                      연혁\n",
      "                    </a></li></ul></li><li data-v-242c9ccb><a href=\"javascript;\" role=\"button\" aria-expanded=\"false\" data-v-242c9ccb><img src=\"data:image/gif;base64,R0lGODlhAQABAIAAAAAAAP///yH5BAEAAAAALAAAAAABAAEAAAIBRAA7\" alt=\"\" class=\"ico_menu\" data-v-a968263a data-v-242c9ccb> <span data-v-242c9ccb>이야기</span></a> <ul role=\"list\" class=\"list_sub\" style=\"display:none;\" data-v-242c9ccb><li role=\"listitem\" data-v-242c9ccb><a href=\"/page/story/archives\" data-v-242c9ccb>\n",
      "                      콘텐츠 저장소\n",
      "                    </a></li><li role=\"listitem\" data-v-242c9ccb><a href=\"/page/story/history\" data-v-242c9ccb>\n",
      "                      뚝딱뚝딱 성장기\n",
      "                    </a></li><li role=\"listitem\" data-v-242c9ccb><a href=\"/page/story/bynumbers\" data-v-242c9ccb>\n",
      "                      숫자로 보는 카카오\n",
      "                    </a></li></ul></li><li data-v-242c9ccb><a href=\"/page/news\" class=\"link_direct\" data-v-242c9ccb><img src=\"data:image/gif;base64,R0lGODlhAQABAIAAAAAAAP///yH5BAEAAAAALAAAAAABAAEAAAIBRAA7\" alt=\"\" class=\"ico_menu\" data-v-a968263a data-v-242c9ccb> <span data-v-242c9ccb>뉴스</span></a> <!----></li><li data-v-242c9ccb><a href=\"javascript;\" role=\"button\" aria-expanded=\"false\" data-v-242c9ccb><img src=\"data:image/gif;base64,R0lGODlhAQABAIAAAAAAAP///yH5BAEAAAAALAAAAAABAAEAAAIBRAA7\" alt=\"\" class=\"ico_menu\" data-v-a968263a data-v-242c9ccb> <span data-v-242c9ccb>기술과 서비스</span></a> <ul role=\"list\" class=\"list_sub\" style=\"display:none;\" data-v-242c9ccb><li role=\"listitem\" data-v-242c9ccb><a href=\"/page/service/tech\" data-v-242c9ccb>\n",
      "                      기술\n",
      "                    </a></li><li role=\"listitem\" data-v-242c9ccb><a href=\"/page/service/service\" data-v-242c9ccb>\n",
      "                      서비스\n",
      "                    </a></li></ul></li><li data-v-242c9ccb><a href=\"javascript;\" role=\"button\" aria-expanded=\"false\" data-v-242c9ccb><img src=\"data:image/gif;base64,R0lGODlhAQABAIAAAAAAAP///yH5BAEAAAAALAAAAAABAAEAAAIBRAA7\" alt=\"\" class=\"ico_menu\" data-v-a968263a data-v-242c9ccb> <span data-v-242c9ccb>약속과 책임</span></a> <ul role=\"list\" class=\"list_sub\" style=\"display:none;\" data-v-242c9ccb><li role=\"listitem\" data-v-242c9ccb><a href=\"/page/responsible/promise\" data-v-242c9ccb>\n",
      "                      카카오의 다짐\n",
      "                    </a></li><li role=\"listitem\" data-v-242c9ccb><a href=\"/page/responsible/esg\" data-v-242c9ccb>\n",
      "                      ESG\n",
      "                    </a></li><li role=\"listitem\" data-v-242c9ccb><a href=\"/page/responsible/activegreen\" data-v-242c9ccb>\n",
      "                      액티브그린\n",
      "                    </a></li><li role=\"listitem\" data-v-242c9ccb><a href=\"/page/responsible/digital\" data-v-242c9ccb>\n",
      "                      디지털 권리\n",
      "                    </a></li><li role=\"listitem\" data-v-242c9ccb><a href=\"/page/responsible/aiEthics\" data-v-242c9ccb>\n",
      "                      AI 윤리\n",
      "                    </a></li></ul></li></ul></nav> <div class=\"group_relation\" data-v-242c9ccb><ul class=\"list_relation\" data-v-242c9ccb><li data-v-242c9ccb><a href=\"/ir/main\" target=\"_blank\" data-v-242c9ccb>투자정보</a></li><li data-v-242c9ccb><a href=\"https://careers.kakao.com/index\" target=\"_blank\" data-v-242c9ccb>인재영입</a></li><li data-v-242c9ccb><a href=\"javascript;\" role=\"button\" aria-expanded=\"false\" data-v-242c9ccb>\n",
      "                고객센터<!----></a> <ul class=\"list_subinfo\" data-v-242c9ccb><li data-v-242c9ccb><a href=\"https://cs.kakao.com/\" target=\"_blank\" data-v-242c9ccb><div role=\"text\" class=\"wrap_info\" data-v-242c9ccb><span data-v-242c9ccb>카카오 고객센터</span><!----></div></a></li><li data-v-242c9ccb><a href=\"https://cs.daum.net/\" target=\"_blank\" data-v-242c9ccb><div role=\"text\" class=\"wrap_info\" data-v-242c9ccb><span data-v-242c9ccb>Daum 고객센터</span><!----></div></a></li><li data-v-242c9ccb><a href=\"https://faqs2.melon.com/customer/index.htm\" target=\"_blank\" data-v-242c9ccb><div role=\"text\" class=\"wrap_info\" data-v-242c9ccb><span data-v-242c9ccb>멜론 고객센터</span><!----></div></a></li></ul></li></ul> <div class=\"wrap_util\" data-v-242c9ccb><button type=\"button\" data-tiara-action-name=\"click_darkmode\" class=\"btn_mode\" data-v-242c9ccb><span data-v-242c9ccb><span class=\"screen_out\" data-v-242c9ccb>다크모드로 변경하기</span> <!----></span></button> <button type=\"button\" data-tiara-action-name=\"click_language_en\" class=\"btn_language\" data-v-242c9ccb><span data-v-242c9ccb><span class=\"screen_out\" data-v-242c9ccb>영어로 보기</span> <!----></span></button></div></div> <button type=\"button\" class=\"btn_close\" style=\"display:none;\" data-v-242c9ccb><span class=\"screen_out\" data-v-242c9ccb>메인 메뉴 닫기</span> <!----></button></div></div></header> <main class=\"doc-main\" data-v-681c0c75><section id=\"mainContent\" class=\"inner-main\" data-v-681c0c75><h2 class=\"screen_out\">홈 본문</h2> <section class=\"content-feature\" style=\"display:none;\" data-v-9f06dbe6><div class=\"inner_path\" data-v-9f06dbe6><h3 class=\"screen_out\" data-v-9f06dbe6>현재 페이지 위치</h3> <div class=\"wrap_tit\" data-v-9f06dbe6><img src=\"data:image/gif;base64,R0lGODlhAQABAIAAAAAAAP///yH5BAEAAAAALAAAAAABAAEAAAIBRAA7\" alt=\"1일\" data-v-a968263a data-v-9f06dbe6> <strong class=\"tit_path\" data-v-9f06dbe6>카카오 소식</strong></div> <!----></div></section> <div class=\"main-content\"><article class=\"content-article\"><h3 role=\"text\" class=\"tit_main tit_home tit_date1\"><em class=\"emph_tit\">\n",
      "          8월 9일에 전하는\n",
      "        </em> <span class=\"txt_tit\">\n",
      "          카카오 소식입니다\n",
      "          <!----><span class=\"screen_out\">개의 업데이트된 소식</span></span></h3> <!----></article></div> <span class=\"dimmed_block\" data-v-448164c2></span></section></main> <footer class=\"doc-footer\" data-v-49e70738 data-v-681c0c75><div class=\"inner_footer\" data-v-49e70738><section class=\"section_service\" data-v-49e70738><h2 class=\"screen_out\" data-v-49e70738>하단 메뉴</h2> <div class=\"wrap_service\" data-v-49e70738><strong class=\"tit_service\" data-v-49e70738><a href=\"javascript;\" role=\"button\" aria-expanded=\"false\" data-v-49e70738>\n",
      "            소개<!----></a></strong> <ul role=\"list\" class=\"list_service\" data-v-49e70738><li role=\"listitem\" data-v-49e70738><a href=\"/page/about/kakaoCulture\" data-v-49e70738><span role=\"text\" data-v-49e70738>카카오 문화</span></a></li><li role=\"listitem\" data-v-49e70738><a href=\"/page/about/subsidiaryCompany\" data-v-49e70738><span role=\"text\" data-v-49e70738>공동체</span></a></li><li role=\"listitem\" data-v-49e70738><a href=\"/page/about/milestones\" data-v-49e70738><span role=\"text\" data-v-49e70738>연혁</span></a></li></ul></div><div class=\"wrap_service\" data-v-49e70738><strong class=\"tit_service\" data-v-49e70738><a href=\"javascript;\" role=\"button\" aria-expanded=\"false\" data-v-49e70738>\n",
      "            이야기<!----></a></strong> <ul role=\"list\" class=\"list_service\" data-v-49e70738><li role=\"listitem\" data-v-49e70738><a href=\"/page/story/archives\" data-v-49e70738><span role=\"text\" data-v-49e70738>콘텐츠 저장소</span></a></li><li role=\"listitem\" data-v-49e70738><a href=\"/page/story/history\" data-v-49e70738><span role=\"text\" data-v-49e70738>뚝딱뚝딱 성장기</span></a></li><li role=\"listitem\" data-v-49e70738><a href=\"/page/story/bynumbers\" data-v-49e70738><span role=\"text\" data-v-49e70738>숫자로 보는 카카오</span></a></li></ul></div><div class=\"wrap_service wrap_news\" data-v-49e70738><strong class=\"tit_service\" data-v-49e70738><a href=\"/page/news\" data-v-49e70738><span role=\"text\" data-v-49e70738>\n",
      "              뉴스<!----></span></a></strong> <!----></div><div class=\"wrap_service\" data-v-49e70738><strong class=\"tit_service\" data-v-49e70738><a href=\"javascript;\" role=\"button\" aria-expanded=\"false\" data-v-49e70738>\n",
      "            기술과 서비스<!----></a></strong> <ul role=\"list\" class=\"list_service\" data-v-49e70738><li role=\"listitem\" data-v-49e70738><a href=\"/page/service/tech\" data-v-49e70738><span role=\"text\" data-v-49e70738>기술</span></a></li><li role=\"listitem\" data-v-49e70738><a href=\"/page/service/service\" data-v-49e70738><span role=\"text\" data-v-49e70738>서비스</span></a></li></ul></div><div class=\"wrap_service\" data-v-49e70738><strong class=\"tit_service\" data-v-49e70738><a href=\"javascript;\" role=\"button\" aria-expanded=\"false\" data-v-49e70738>\n",
      "            약속과 책임<!----></a></strong> <ul role=\"list\" class=\"list_service\" data-v-49e70738><li role=\"listitem\" data-v-49e70738><a href=\"/page/responsible/promise\" data-v-49e70738><span role=\"text\" data-v-49e70738>카카오의 다짐</span></a></li><li role=\"listitem\" data-v-49e70738><a href=\"/page/responsible/esg\" data-v-49e70738><span role=\"text\" data-v-49e70738>ESG</span></a></li><li role=\"listitem\" data-v-49e70738><a href=\"/page/responsible/activegreen\" data-v-49e70738><span role=\"text\" data-v-49e70738>액티브그린</span></a></li><li role=\"listitem\" data-v-49e70738><a href=\"/page/responsible/digital\" data-v-49e70738><span role=\"text\" data-v-49e70738>디지털 권리</span></a></li><li role=\"listitem\" data-v-49e70738><a href=\"/page/responsible/aiEthics\" data-v-49e70738><span role=\"text\" data-v-49e70738>AI 윤리</span></a></li></ul></div> <div class=\"wrap_service\" data-v-49e70738><strong class=\"tit_service\" data-v-49e70738><a href=\"javascript;\" role=\"button\" aria-expanded=\"false\" data-v-49e70738>\n",
      "            투자정보<!----></a></strong> <ul role=\"list\" class=\"list_service\" data-v-49e70738><li role=\"listitem\" data-v-49e70738><a href=\"/ir/managementInformation/shareholderComposition\" target=\"_blank\" data-tiara-layer=\"M_IR01\" data-tiara-action-name=\"M_IR01\" data-v-49e70738><span role=\"text\" data-v-49e70738>기업지배구조</span></a></li><li role=\"listitem\" data-v-49e70738><a href=\"/ir/stockInformation\" target=\"_blank\" data-tiara-layer=\"M_IR02\" data-tiara-action-name=\"M_IR02\" data-v-49e70738><span role=\"text\" data-v-49e70738>주가정보</span></a></li><li role=\"listitem\" data-v-49e70738><a href=\"/ir/financialInformation/consolidatedFinancialStatements\" target=\"_blank\" data-tiara-layer=\"M_IR03\" data-tiara-action-name=\"M_IR03\" data-v-49e70738><span role=\"text\" data-v-49e70738>재무정보</span></a></li><li role=\"listitem\" data-v-49e70738><a href=\"/ir/referenceRoom/earningsAnnouncement\" target=\"_blank\" data-tiara-layer=\"M_IR04\" data-tiara-action-name=\"M_IR04\" data-v-49e70738><span role=\"text\" data-v-49e70738>IR행사</span></a></li><li role=\"listitem\" data-v-49e70738><a href=\"/ir/disclosureInformation\" target=\"_blank\" data-tiara-layer=\"M_IR05\" data-tiara-action-name=\"M_IR05\" data-v-49e70738><span role=\"text\" data-v-49e70738>공시정보</span></a></li><li role=\"listitem\" data-v-49e70738><a href=\"/ir/noticeList\" target=\"_blank\" data-tiara-layer=\"M_IR06\" data-tiara-action-name=\"M_IR06\" data-v-49e70738><span role=\"text\" data-v-49e70738>공고</span></a></li></ul></div> <div class=\"group_service\" data-v-49e70738><div class=\"wrap_service\" data-v-49e70738><strong class=\"tit_service\" data-v-49e70738><a href=\"javascript;\" role=\"button\" aria-expanded=\"false\" data-tiara-layer=\"M_Daum_Customer\" data-tiara-action-name=\"M_Daum_Customer\" data-v-49e70738>\n",
      "              고객센터<!----></a></strong> <ul role=\"list\" class=\"list_service\" data-v-49e70738><li role=\"listitem\" data-v-49e70738><a href=\"https://cs.kakao.com/\" target=\"_blank\" data-tiara-layer=\"M_Customer\" data-tiara-action-name=\"M_Customer\" data-v-49e70738><span role=\"text\" data-v-49e70738><!---->\n",
      "                  카카오 고객센터<span class=\"screen_out\" data-v-49e70738>사이트 바로가기</span><!----></span></a></li><li role=\"listitem\" data-v-49e70738><a href=\"https://cs.daum.net/\" target=\"_blank\" data-tiara-layer=\"M_Daum_Customer\" data-tiara-action-name=\"M_Daum_Customer\" data-v-49e70738><span role=\"text\" data-v-49e70738><!---->\n",
      "                  Daum 고객센터<span class=\"screen_out\" data-v-49e70738>사이트 바로가기</span><!----></span></a></li></ul></div> <strong class=\"tit_service\" data-v-49e70738><a href=\"https://careers.kakao.com/index\" target=\"_blank\" data-tiara-layer=\"M_Career\" data-tiara-action-name=\"M_Career\" data-v-49e70738><span role=\"text\" data-v-49e70738><!---->\n",
      "              인재영입<span class=\"screen_out\" data-v-49e70738>사이트 바로가기</span><!----></span></a></strong> <strong class=\"tit_service\" data-v-49e70738><a href=\"https://accounts.kakao.com\" target=\"_blank\" data-v-49e70738><span role=\"text\" data-v-49e70738><!---->\n",
      "              카카오계정<span class=\"screen_out\" data-v-49e70738>사이트 바로가기</span><!----></span></a></strong></div></section> <section class=\"section_relation\" data-v-49e70738><h2 class=\"screen_out\" data-v-49e70738>서비스 이용정보</h2> <div class=\"group_info\" data-v-49e70738><div class=\"wrap_info\" data-v-49e70738><a href=\"javascript;\" role=\"button\" aria-expanded=\"false\" class=\"link_info\" data-v-49e70738>\n",
      "              이용약관<!----></a> <ul class=\"list_subinfo\" data-v-49e70738><li data-v-49e70738><a href=\"https://www.kakao.com/policy/terms?type=a&amp;amp;lang=ko\" target=\"_blank\" data-tiara-action-name=\"click_footer_01_1\" data-v-49e70738><span role=\"text\" data-v-49e70738>\n",
      "                    카카오계정 서비스<span class=\"screen_out\" data-v-49e70738>사이트 바로가기</span><!----></span></a></li><li data-v-49e70738><a href=\"https://www.kakao.com/policy/terms?type=ts&amp;amp;lang=ko\" target=\"_blank\" data-tiara-action-name=\"click_footer_01_2\" data-v-49e70738><span role=\"text\" data-v-49e70738>\n",
      "                    카카오 서비스<span class=\"screen_out\" data-v-49e70738>사이트 바로가기</span><!----></span></a></li><li data-v-49e70738><a href=\"http://policy.daum.net/info/info\" target=\"_blank\" data-tiara-action-name=\"click_footer_01_3\" data-v-49e70738><span role=\"text\" data-v-49e70738>\n",
      "                    Daum 서비스<span class=\"screen_out\" data-v-49e70738>사이트 바로가기</span><!----></span></a></li></ul></div><div class=\"wrap_info\" data-v-49e70738><a href=\"javascript;\" role=\"button\" aria-expanded=\"false\" class=\"link_info link_emph\" data-v-49e70738>\n",
      "              위치정보 이용약관<!----></a> <ul class=\"list_subinfo\" data-v-49e70738><li data-v-49e70738><a href=\"https://www.kakao.com/policy/location?lang=ko\" target=\"_blank\" data-tiara-action-name=\"click_footer_02_1\" data-v-49e70738><span role=\"text\" data-v-49e70738>\n",
      "                    카카오 서비스<span class=\"screen_out\" data-v-49e70738>사이트 바로가기</span><!----></span></a></li><li data-v-49e70738><a href=\"http://policy.daum.net/mobile_info/mobile_info\" target=\"_blank\" data-tiara-action-name=\"click_footer_02_2\" data-v-49e70738><span role=\"text\" data-v-49e70738>\n",
      "                    Daum 서비스<span class=\"screen_out\" data-v-49e70738>사이트 바로가기</span><!----></span></a></li></ul></div><div class=\"wrap_info\" data-v-49e70738><a href=\"javascript;\" role=\"button\" aria-expanded=\"false\" class=\"link_info link_emph\" data-v-49e70738>\n",
      "              개인정보처리방침<!----></a> <ul class=\"list_subinfo\" data-v-49e70738><li data-v-49e70738><a href=\"https://www.kakaocorp.com/policy/privacyPolicy/corporateSitePrivacyPolicy\" target=\"_blank\" data-tiara-action-name=\"click_footer_03_1\" data-v-49e70738><span role=\"text\" data-v-49e70738>\n",
      "                    기업사이트<span class=\"screen_out\" data-v-49e70738>사이트 바로가기</span><!----></span></a></li><li data-v-49e70738><a href=\"https://www.kakao.com/policy/privacy?lang=ko\" target=\"_blank\" data-tiara-action-name=\"click_footer_03_2\" data-v-49e70738><span role=\"text\" data-v-49e70738>\n",
      "                    카카오 서비스<span class=\"screen_out\" data-v-49e70738>사이트 바로가기</span><!----></span></a></li></ul></div><div class=\"wrap_info\" data-v-49e70738><a href=\"https://www.kakao.com/policy/oppolicy?lang=ko\" target=\"_blank\" data-tiara-action-name=\"click_footer_04\" class=\"link_info\" data-v-49e70738><span role=\"text\" data-v-49e70738>운영정책</span></a> <!----></div><div class=\"wrap_info\" data-v-49e70738><a href=\"javascript;\" role=\"button\" aria-expanded=\"false\" class=\"link_info\" data-v-49e70738>\n",
      "              청소년보호정책<!----></a> <ul class=\"list_subinfo\" data-v-49e70738><li data-v-49e70738><a href=\"https://www.kakao.com/policy/safeguard?lang=ko\" target=\"_blank\" data-tiara-action-name=\"click_footer_05_1\" data-v-49e70738><span role=\"text\" data-v-49e70738>\n",
      "                    카카오 서비스<span class=\"screen_out\" data-v-49e70738>사이트 바로가기</span><!----></span></a></li><li data-v-49e70738><a href=\"http://policy.daum.net/youthpolicy/youthpolicy\" target=\"_blank\" data-tiara-action-name=\"click_footer_05_2\" data-v-49e70738><span role=\"text\" data-v-49e70738>\n",
      "                    Daum 서비스<span class=\"screen_out\" data-v-49e70738>사이트 바로가기</span><!----></span></a></li></ul></div><div class=\"wrap_info\" data-v-49e70738><a href=\"https://kakao.com/policy/brand/trademark?lang=ko\" target=\"_blank\" data-tiara-action-name=\"click_footer_06\" class=\"link_info\" data-v-49e70738><span role=\"text\" data-v-49e70738>브랜드보호정책</span></a> <!----></div><div class=\"wrap_info\" data-v-49e70738><a href=\"https://www.kakao.com/policy/right?lang=ko\" target=\"_blank\" data-tiara-action-name=\"click_footer_07\" class=\"link_info\" data-v-49e70738><span role=\"text\" data-v-49e70738>권리침해신고안내</span></a> <!----></div><div class=\"wrap_info\" data-v-49e70738><a href=\"javascript;\" role=\"button\" aria-expanded=\"false\" class=\"link_info\" data-v-49e70738>\n",
      "              공지사항<!----></a> <ul class=\"list_subinfo\" data-v-49e70738><li data-v-49e70738><a href=\"https://www.kakaocorp.com/policy/notice/kakaocorp/list\" target=\"_blank\" data-tiara-action-name=\"click_footer_08_1\" data-v-49e70738><span role=\"text\" data-v-49e70738>\n",
      "                    투자정보 공지<span class=\"screen_out\" data-v-49e70738>사이트 바로가기</span><!----></span></a></li><li data-v-49e70738><a href=\"https://www.kakao.com/notices?lang=ko\" target=\"_blank\" data-tiara-action-name=\"click_footer_08_2\" data-v-49e70738><span role=\"text\" data-v-49e70738>\n",
      "                    카카오 서비스<span class=\"screen_out\" data-v-49e70738>사이트 바로가기</span><!----></span></a></li><li data-v-49e70738><a href=\"https://m.daum.net/channel/new/notice\" target=\"_blank\" data-tiara-action-name=\"click_footer_08_3\" data-v-49e70738><span role=\"text\" data-v-49e70738>\n",
      "                    Daum 서비스<span class=\"screen_out\" data-v-49e70738>사이트 바로가기</span><!----></span></a></li></ul></div><div class=\"wrap_info\" data-v-49e70738><a href=\"https://www.kakaocorp.com/policy/cyberEthics/info\" target=\"_blank\" data-tiara-action-name=\"click_footer_09\" class=\"link_info\" data-v-49e70738><span role=\"text\" data-v-49e70738>사이버윤리실</span></a> <!----></div><div class=\"wrap_info\" data-v-49e70738><a href=\"https://www.kakaocorp.com/ir/wayToCome\" target=\"_blank\" data-tiara-action-name=\"click_footer_010\" class=\"link_info\" data-v-49e70738><span role=\"text\" data-v-49e70738>Contact Us</span></a> <!----></div></div> <div class=\"wrap_relation\" data-v-49e70738><strong class=\"tit_relation\" data-v-49e70738><a href=\"javascript;\" role=\"button\" aria-expanded=\"false\" data-v-49e70738>\n",
      "            관련사이트<!----></a></strong> <ul class=\"list_subinfo\" data-v-49e70738><li data-v-49e70738><a href=\"https://kakao.ai/\" target=\"_blank\" data-v-49e70738><span role=\"text\" data-v-49e70738><!---->\n",
      "                  카카오 AI<span class=\"screen_out\" data-v-49e70738>사이트 바로가기</span><!----></span></a></li><li data-v-49e70738><a href=\"https://privacy.kakao.com/main?lang=ko\" target=\"_blank\" data-v-49e70738><span role=\"text\" data-v-49e70738><!---->\n",
      "                  카카오 프라이버시<span class=\"screen_out\" data-v-49e70738>사이트 바로가기</span><!----></span></a></li><li data-v-49e70738><a href=\"https://developers.kakao.com/\" target=\"_blank\" data-v-49e70738><span role=\"text\" data-v-49e70738><!---->\n",
      "                  카카오 디벨로퍼스<span class=\"screen_out\" data-v-49e70738>사이트 바로가기</span><!----></span></a></li><li data-v-49e70738><a href=\"https://www.daum.net/\" target=\"_blank\" data-v-49e70738><span role=\"text\" data-v-49e70738><!---->\n",
      "                  다음 포털 사이트<span class=\"screen_out\" data-v-49e70738>사이트 바로가기</span><!----></span></a></li><li data-v-49e70738><a href=\"https://winwin.kakao.com/index\" target=\"_blank\" data-v-49e70738><span role=\"text\" data-v-49e70738><!---->\n",
      "                  동반 성장 사이트<span class=\"screen_out\" data-v-49e70738>사이트 바로가기</span><!----></span></a></li><li data-v-49e70738><a href=\"https://jeju.kakao.com/\" target=\"_blank\" data-v-49e70738><span role=\"text\" data-v-49e70738><!---->\n",
      "                  제주 with kakao<span class=\"screen_out\" data-v-49e70738>사이트 바로가기</span><!----></span></a></li></ul></div> <small class=\"txt_copyright\" data-v-49e70738>\n",
      "        © <a href=\"https://www.kakaocorp.com/page\" data-v-49e70738>Kakao Corp.</a> All\n",
      "        rights reserved.\n",
      "      </small></section></div></footer> <!----> <!----></div></div></div></div><script>window.__NUXT__=(function(a,b,c,d){return {layout:\"default\",data:[{}],fetch:{},error:b,state:{isDesktop:a,windowWidth:c,isDarkMode:a,isEnglish:a,isSearchLayerShow:a,isSearchLoading:a,searchKeyword:d,searchData:{},isDetailLayerShow:a,layerData:{},recommendKeywordList:[],categoryData:{},isNavigationShow:a,serviceDetailPcActiveIdx:c,newsCurrentNum:b,newsCurrentTab:d,fromNewsDetail:a},serverRendered:true,routePath:\"\\u002F\",config:{_app:{basePath:\"\\u002Fpage\\u002F\",assetsPath:\"\\u002Fpage\\u002F_nuxt\\u002F\",cdnURL:b}}}}(false,null,0,\"\"));</script><script src=\"/page/_nuxt/0ea2753.js\" defer></script><script src=\"/page/_nuxt/ba90d9e.js\" defer></script><script src=\"/page/_nuxt/107d4d9.js\" defer></script><script src=\"/page/_nuxt/3b15d7c.js\" defer></script><script data-n-head=\"ssr\" type=\"application/ld+json\" data-body=\"true\">\n",
      "        {\n",
      "          \"@context\": \"http://schema.org\",\n",
      "          \"@type\": \"Organization\",\n",
      "          \"name\": \"Kakao Corp\",\n",
      "          \"url\": \"https://www.kakaocorp.com\",\n",
      "          \"sameAs\": [\n",
      "            \"https://www.facebook.com/kakao.brandmedia\",\n",
      "            \"https://www.instagram.com/kakao.today\",\n",
      "            \"https://www.youtube.com/c/Kakaobrandmedia\"\n",
      "          ]\n",
      "        }\n",
      "      </script></body></html>\n"
     ]
    }
   ],
   "source": [
    "import urllib.request\n",
    "\n",
    "response=urllib.request.urlopen(\"https://www.kakao.com/\")\n",
    "data=response.read()\n",
    "\n",
    "encoding=response.info().get_content_charset()\n",
    "html=data.decode(encoding)\n",
    "print(html)"
   ]
  },
  {
   "attachments": {},
   "cell_type": "markdown",
   "id": "20223ead",
   "metadata": {},
   "source": [
    "### request 모듈- 파이썬의 기본 모듈이 아님"
   ]
  },
  {
   "cell_type": "code",
   "execution_count": null,
   "id": "7682f5ac",
   "metadata": {},
   "outputs": [
    {
     "name": "stdout",
     "output_type": "stream",
     "text": [
      "{\n",
      "  \"args\": {}, \n",
      "  \"headers\": {\n",
      "    \"Accept\": \"*/*\", \n",
      "    \"Accept-Encoding\": \"gzip, deflate, br\", \n",
      "    \"Host\": \"httpbin.org\", \n",
      "    \"User-Agent\": \"python-requests/2.29.0\", \n",
      "    \"X-Amzn-Trace-Id\": \"Root=1-64d2f06d-677dfe806eedd9202fe131af\"\n",
      "  }, \n",
      "  \"origin\": \"1.220.201.110\", \n",
      "  \"url\": \"http://httpbin.org/get\"\n",
      "}\n",
      "\n"
     ]
    }
   ],
   "source": [
    "import requests\n",
    "\n",
    "response=requests.get('http://httpbin.org/get')\n",
    "print(response.text)\n",
    "\n"
   ]
  },
  {
   "cell_type": "code",
   "execution_count": null,
   "id": "033ee2ef",
   "metadata": {},
   "outputs": [
    {
     "name": "stdout",
     "output_type": "stream",
     "text": [
      "{\n",
      "  \"args\": {}, \n",
      "  \"data\": \"\", \n",
      "  \"files\": {}, \n",
      "  \"form\": {\n",
      "    \"alias\": \"jmboy\", \n",
      "    \"id\": \"jason\", \n",
      "    \"name\": \"jimin\"\n",
      "  }, \n",
      "  \"headers\": {\n",
      "    \"Accept\": \"*/*\", \n",
      "    \"Accept-Encoding\": \"gzip, deflate, br\", \n",
      "    \"Content-Length\": \"31\", \n",
      "    \"Content-Type\": \"application/x-www-form-urlencoded\", \n",
      "    \"Host\": \"httpbin.org\", \n",
      "    \"User-Agent\": \"python-requests/2.29.0\", \n",
      "    \"X-Amzn-Trace-Id\": \"Root=1-64d2f0b3-15ebb9135c9feb2247f443e9\"\n",
      "  }, \n",
      "  \"json\": null, \n",
      "  \"origin\": \"1.220.201.110\", \n",
      "  \"url\": \"http://httpbin.org/post\"\n",
      "}\n",
      "\n"
     ]
    }
   ],
   "source": [
    "dic={\"id\":\"jason\",\"name\":\"jimin\",\"alias\":\"jmboy\"}\n",
    "\n",
    "response=requests.post('http://httpbin.org/post',data=dic)\n",
    "print(response.text)"
   ]
  },
  {
   "cell_type": "code",
   "execution_count": 13,
   "id": "65902c6a",
   "metadata": {},
   "outputs": [],
   "source": [
    "import requests,bs4"
   ]
  },
  {
   "cell_type": "code",
   "execution_count": 15,
   "id": "c77294d9",
   "metadata": {},
   "outputs": [
    {
     "name": "stdout",
     "output_type": "stream",
     "text": [
      "금융\n"
     ]
    }
   ],
   "source": [
    "try:\n",
    "\t# url 이 잘못되었거나 네트워크 연결이 안되면 예외\n",
    "\tresponse=requests.get('http://finance.daum.net')\n",
    "\t# 파싱 가능한지 확인 - 파싱이 불가능하면 예외\n",
    "\tbs=bs4.BeautifulSoup(response.text,'html.parser')\n",
    "\n",
    "except Exception as e:\n",
    "\tprint(\"예외발생:\",e)\n",
    "\n",
    "else:\n",
    "\tprint(bs.body.span.get_text())"
   ]
  },
  {
   "attachments": {},
   "cell_type": "markdown",
   "id": "31d9b7e1",
   "metadata": {},
   "source": [
    "### 네이버 팟 캐스트에서 타이틀을 가져오기 "
   ]
  },
  {
   "cell_type": "code",
   "execution_count": 26,
   "id": "abe5eabe",
   "metadata": {},
   "outputs": [
    {
     "name": "stdout",
     "output_type": "stream",
     "text": [
      "[스페셜] '이대호 4연타석 홈런 모음집' 단언컨대, 이 경기의 주인공은 이대호입니다. | JTBC 230807 방송\n",
      "[수요동물원] 괴물 뱀의 배를 갈랐더니...모두가 할 말을 잃었다\n",
      "흉기난동범 발차기로 제압…정당방위 아닌 '폭행 피의자'?\n"
     ]
    }
   ],
   "source": [
    "try:\n",
    "    response=requests.get(\"https://tv.naver.com/r/category/drama\")\n",
    "    html=response.text\n",
    "    bs=bs4.BeautifulSoup(html,\"html.parser\")\n",
    "    tags=bs.select(\"div > div > dl > dt > a > strong > span\")\n",
    "    for i in tags:\n",
    "        print(i.getText())\n",
    "\n",
    "except Exception as e:\n",
    "    print(\"예외발생 : \", e)\n"
   ]
  },
  {
   "cell_type": "code",
   "execution_count": null,
   "id": "516f9dd8",
   "metadata": {},
   "outputs": [],
   "source": [
    "from selenium import webdriver\n",
    "from selenium.webdriver.common.by import By\n",
    "import time\n",
    "\n",
    "import os\n",
    "os.environ['webdriver.chrome.driver']='/Users/kimjimin/Downloads/chromedriver-mac-x64'\n",
    "driver=webdriver.Chrome()\n",
    "driver.get(\"https://smartid.ssu.ac.kr/Symtra_sso/smln.asp?apiReturnUrl=https%3A%2F%2Fsaint.ssu.ac.kr%2FwebSSO%2Fsso.jsp\")\n",
    "driver.find_element(By.XPATH,'//*[@id=\"userid\"]').send_keys(\"20182471\")\n",
    "time.sleep(3)\n",
    "driver.find_element(By.XPATH,'//*[@id=\"pwd\"]').send_keys(\"wlals980713!\")\n",
    "time.sleep(3)\n",
    "driver.find_element(By.XPATH,'//*[@id=\"sLogin\"]/div/div[1]/form/div/div[2]/a').click()\n",
    "time.sleep(3)\n",
    "\n",
    "\n",
    "\n",
    "while(True):\n",
    "    pass"
   ]
  },
  {
   "cell_type": "code",
   "execution_count": 2,
   "id": "b6f06f5e",
   "metadata": {},
   "outputs": [
    {
     "ename": "NoSuchWindowException",
     "evalue": "Message: no such window: target window already closed\nfrom unknown error: web view not found\n  (Session info: chrome=115.0.5790.170)\nStacktrace:\n0   chromedriver                        0x00000001030eea6c chromedriver + 4303468\n1   chromedriver                        0x00000001030e7198 chromedriver + 4272536\n2   chromedriver                        0x0000000102d1b594 chromedriver + 292244\n3   chromedriver                        0x0000000102cf323c chromedriver + 127548\n4   chromedriver                        0x0000000102d7e758 chromedriver + 698200\n5   chromedriver                        0x0000000102d90eb8 chromedriver + 773816\n6   chromedriver                        0x0000000102d4cb40 chromedriver + 494400\n7   chromedriver                        0x0000000102d4d988 chromedriver + 498056\n8   chromedriver                        0x00000001030af924 chromedriver + 4045092\n9   chromedriver                        0x00000001030b3e68 chromedriver + 4062824\n10  chromedriver                        0x00000001030ba088 chromedriver + 4087944\n11  chromedriver                        0x00000001030b496c chromedriver + 4065644\n12  chromedriver                        0x000000010308ce64 chromedriver + 3903076\n13  chromedriver                        0x00000001030d055c chromedriver + 4179292\n14  chromedriver                        0x00000001030d06b4 chromedriver + 4179636\n15  chromedriver                        0x00000001030e0978 chromedriver + 4245880\n16  libsystem_pthread.dylib             0x000000019e44bfa8 _pthread_start + 148\n17  libsystem_pthread.dylib             0x000000019e446da0 thread_start + 8\n",
     "output_type": "error",
     "traceback": [
      "\u001b[0;31m---------------------------------------------------------------------------\u001b[0m",
      "\u001b[0;31mNoSuchWindowException\u001b[0m                     Traceback (most recent call last)",
      "Cell \u001b[0;32mIn[2], line 15\u001b[0m\n\u001b[1;32m     12\u001b[0m num_of_page\u001b[39m=\u001b[39m\u001b[39m10\u001b[39m\n\u001b[1;32m     13\u001b[0m \u001b[39mwhile\u001b[39;00m num_of_page:\n\u001b[1;32m     14\u001b[0m     \u001b[39m# body 태그에 PAGEDOWN 을 전송해서 하단으로 드래그\u001b[39;00m\n\u001b[0;32m---> 15\u001b[0m     driver\u001b[39m.\u001b[39mfind_element(By\u001b[39m.\u001b[39mTAG_NAME,\u001b[39m'\u001b[39m\u001b[39mbody\u001b[39m\u001b[39m'\u001b[39m)\u001b[39m.\u001b[39msend_keys(Keys\u001b[39m.\u001b[39mPAGE_DOWN)\n\u001b[1;32m     16\u001b[0m     time\u001b[39m.\u001b[39msleep(\u001b[39m1\u001b[39m)\n\u001b[1;32m     17\u001b[0m     num_of_page\u001b[39m-\u001b[39m\u001b[39m=\u001b[39m\u001b[39m1\u001b[39m\n",
      "File \u001b[0;32m~/anaconda3/lib/python3.11/site-packages/selenium/webdriver/remote/webdriver.py:739\u001b[0m, in \u001b[0;36mWebDriver.find_element\u001b[0;34m(self, by, value)\u001b[0m\n\u001b[1;32m    736\u001b[0m     by \u001b[39m=\u001b[39m By\u001b[39m.\u001b[39mCSS_SELECTOR\n\u001b[1;32m    737\u001b[0m     value \u001b[39m=\u001b[39m \u001b[39mf\u001b[39m\u001b[39m'\u001b[39m\u001b[39m[name=\u001b[39m\u001b[39m\"\u001b[39m\u001b[39m{\u001b[39;00mvalue\u001b[39m}\u001b[39;00m\u001b[39m\"\u001b[39m\u001b[39m]\u001b[39m\u001b[39m'\u001b[39m\n\u001b[0;32m--> 739\u001b[0m \u001b[39mreturn\u001b[39;00m \u001b[39mself\u001b[39m\u001b[39m.\u001b[39mexecute(Command\u001b[39m.\u001b[39mFIND_ELEMENT, {\u001b[39m\"\u001b[39m\u001b[39musing\u001b[39m\u001b[39m\"\u001b[39m: by, \u001b[39m\"\u001b[39m\u001b[39mvalue\u001b[39m\u001b[39m\"\u001b[39m: value})[\u001b[39m\"\u001b[39m\u001b[39mvalue\u001b[39m\u001b[39m\"\u001b[39m]\n",
      "File \u001b[0;32m~/anaconda3/lib/python3.11/site-packages/selenium/webdriver/remote/webdriver.py:345\u001b[0m, in \u001b[0;36mWebDriver.execute\u001b[0;34m(self, driver_command, params)\u001b[0m\n\u001b[1;32m    343\u001b[0m response \u001b[39m=\u001b[39m \u001b[39mself\u001b[39m\u001b[39m.\u001b[39mcommand_executor\u001b[39m.\u001b[39mexecute(driver_command, params)\n\u001b[1;32m    344\u001b[0m \u001b[39mif\u001b[39;00m response:\n\u001b[0;32m--> 345\u001b[0m     \u001b[39mself\u001b[39m\u001b[39m.\u001b[39merror_handler\u001b[39m.\u001b[39mcheck_response(response)\n\u001b[1;32m    346\u001b[0m     response[\u001b[39m\"\u001b[39m\u001b[39mvalue\u001b[39m\u001b[39m\"\u001b[39m] \u001b[39m=\u001b[39m \u001b[39mself\u001b[39m\u001b[39m.\u001b[39m_unwrap_value(response\u001b[39m.\u001b[39mget(\u001b[39m\"\u001b[39m\u001b[39mvalue\u001b[39m\u001b[39m\"\u001b[39m, \u001b[39mNone\u001b[39;00m))\n\u001b[1;32m    347\u001b[0m     \u001b[39mreturn\u001b[39;00m response\n",
      "File \u001b[0;32m~/anaconda3/lib/python3.11/site-packages/selenium/webdriver/remote/errorhandler.py:229\u001b[0m, in \u001b[0;36mErrorHandler.check_response\u001b[0;34m(self, response)\u001b[0m\n\u001b[1;32m    227\u001b[0m         alert_text \u001b[39m=\u001b[39m value[\u001b[39m\"\u001b[39m\u001b[39malert\u001b[39m\u001b[39m\"\u001b[39m]\u001b[39m.\u001b[39mget(\u001b[39m\"\u001b[39m\u001b[39mtext\u001b[39m\u001b[39m\"\u001b[39m)\n\u001b[1;32m    228\u001b[0m     \u001b[39mraise\u001b[39;00m exception_class(message, screen, stacktrace, alert_text)  \u001b[39m# type: ignore[call-arg]  # mypy is not smart enough here\u001b[39;00m\n\u001b[0;32m--> 229\u001b[0m \u001b[39mraise\u001b[39;00m exception_class(message, screen, stacktrace)\n",
      "\u001b[0;31mNoSuchWindowException\u001b[0m: Message: no such window: target window already closed\nfrom unknown error: web view not found\n  (Session info: chrome=115.0.5790.170)\nStacktrace:\n0   chromedriver                        0x00000001030eea6c chromedriver + 4303468\n1   chromedriver                        0x00000001030e7198 chromedriver + 4272536\n2   chromedriver                        0x0000000102d1b594 chromedriver + 292244\n3   chromedriver                        0x0000000102cf323c chromedriver + 127548\n4   chromedriver                        0x0000000102d7e758 chromedriver + 698200\n5   chromedriver                        0x0000000102d90eb8 chromedriver + 773816\n6   chromedriver                        0x0000000102d4cb40 chromedriver + 494400\n7   chromedriver                        0x0000000102d4d988 chromedriver + 498056\n8   chromedriver                        0x00000001030af924 chromedriver + 4045092\n9   chromedriver                        0x00000001030b3e68 chromedriver + 4062824\n10  chromedriver                        0x00000001030ba088 chromedriver + 4087944\n11  chromedriver                        0x00000001030b496c chromedriver + 4065644\n12  chromedriver                        0x000000010308ce64 chromedriver + 3903076\n13  chromedriver                        0x00000001030d055c chromedriver + 4179292\n14  chromedriver                        0x00000001030d06b4 chromedriver + 4179636\n15  chromedriver                        0x00000001030e0978 chromedriver + 4245880\n16  libsystem_pthread.dylib             0x000000019e44bfa8 _pthread_start + 148\n17  libsystem_pthread.dylib             0x000000019e446da0 thread_start + 8\n"
     ]
    }
   ],
   "source": [
    "from selenium import webdriver\n",
    "from selenium.webdriver.common.by import By\n",
    "from selenium.webdriver.common.keys import Keys\n",
    "\n",
    "\n",
    "import os\n",
    "os.environ['webdriver.chrome.driver']='/Users/kimjimin/Downloads/chromedriver-mac-x64'\n",
    "driver=webdriver.Chrome()\n",
    "driver.get(\"https://www.youtube.com/results?search_query=%ED%94%BC%EC%8B%9D%EC%87%BC\")\n",
    "\n",
    "# 스크롤 할 개수를 설정.\n",
    "num_of_page=10\n",
    "while num_of_page:\n",
    "    # body 태그에 PAGEDOWN 을 전송해서 하단으로 드래그\n",
    "    driver.find_element(By.TAG_NAME,'body').send_keys(Keys.PAGE_DOWN)\n",
    "    time.sleep(1)\n",
    "    num_of_page-=1\n",
    "    \n",
    "# 10번 스크롤 한 결과를 읽어오기\n",
    "html=bs4.BeautifulSoup(driver.page_source,'html.parser')\n",
    "print(html)\n",
    "\n",
    "while(True):\n",
    "    pass"
   ]
  },
  {
   "attachments": {},
   "cell_type": "markdown",
   "id": "7b5ad287",
   "metadata": {},
   "source": [
    "### 한겨레에서 title과 link 태그의 내용을 읽어서 DF 생성 - https://www.hani.co.kr/rss/sports"
   ]
  },
  {
   "cell_type": "code",
   "execution_count": 29,
   "id": "18d8cd0f",
   "metadata": {},
   "outputs": [],
   "source": [
    "import xml.etree.ElementTree as et # XML 파싱을 위한 import\n",
    "import urllib.request # 웹에서 문자열 다운로드 받기 위해서 import"
   ]
  },
  {
   "cell_type": "code",
   "execution_count": 60,
   "id": "d6f8693b",
   "metadata": {},
   "outputs": [],
   "source": [
    "# 데이터 다운로드\n",
    "url= 'https://www.hani.co.kr/rss/sports/'\n",
    "requests=urllib.request.Request(url)\n",
    "response=urllib.request.urlopen(requests)\n",
    "# print(response.read())"
   ]
  },
  {
   "cell_type": "code",
   "execution_count": 61,
   "id": "26e1a2e6",
   "metadata": {},
   "outputs": [],
   "source": [
    "tree=et.parse(response)\n",
    "xroot=tree.getroot()\n",
    "# print(xroot)"
   ]
  },
  {
   "cell_type": "code",
   "execution_count": 62,
   "id": "3d5feaf7",
   "metadata": {},
   "outputs": [],
   "source": [
    "# 찾고자 하는 태그 가져오기\n",
    "channel=xroot.findall('channel')\n",
    "# print(channel)"
   ]
  },
  {
   "cell_type": "code",
   "execution_count": 75,
   "id": "03693ac0",
   "metadata": {},
   "outputs": [
    {
     "name": "stdout",
     "output_type": "stream",
     "text": [
      "[{'제목': '홈런 1위 노시환, 한화 선수 5년 만의 월간 MVP', 'link': 'http://www.hani.co.kr/arti/sports/baseball/1103633.html'}, {'제목': '장현석, 다저스와 90만달러 입단 계약…“명문 구단 입단 영광”', 'link': 'http://www.hani.co.kr/arti/sports/baseball/1103621.html'}, {'제목': '리빌딩 나선 PSG, 메시·음바페 이어 네이마르도 ‘헤어질 결심’', 'link': 'http://www.hani.co.kr/arti/sports/soccer/1103468.html'}, {'제목': '강습 타구 맞은 류현진 “무릎에 멍들었지만 괜찮다”', 'link': 'http://www.hani.co.kr/arti/sports/baseball/1103465.html'}, {'제목': '김하성 15경기 연속 멀티 출루…이치로와 타이 기록', 'link': 'http://www.hani.co.kr/arti/sports/baseball/1103449.html'}, {'제목': '클리블랜드전 무피안타 류현진, 강습 타구에 무릎 맞고 교체', 'link': 'http://www.hani.co.kr/arti/sports/baseball/1103415.html'}, {'제목': '수원FC 공격수 라스 음주운전 적발…“징계·후속 조치할 것”', 'link': 'http://www.hani.co.kr/arti/sports/soccer/1103324.html'}, {'제목': '류현진, 시즌 첫 승 노린다…8일 클리블랜드전 등판', 'link': 'http://www.hani.co.kr/arti/sports/baseball/1103293.html'}, {'제목': '조규성, 덴마크 데뷔 뒤 3경기 연속골…팀 열세 속 빛난 만회포', 'link': 'http://www.hani.co.kr/arti/sports/soccer/1103255.html'}, {'제목': '‘부상 투혼’ 김효주, LPGA 스코틀랜드 여자오픈 준우승', 'link': 'http://www.hani.co.kr/arti/sports/golf/1103254.html'}, {'제목': '‘최강’ 미국 여자축구, 16강 승부차기 끝에 스웨덴에 패배', 'link': 'http://www.hani.co.kr/arti/sports/soccer/1103235.html'}, {'제목': '‘제주의 딸’ 임진희, 삼다수 마스터스 우승', 'link': 'http://www.hani.co.kr/arti/sports/golf/1103202.html'}, {'제목': '궤도 오른 프로당구…‘심야 편성’에 팬 반발 커져', 'link': 'http://www.hani.co.kr/arti/sports/sports_general/1103201.html'}, {'제목': '결승전서 21점 뽑아낸 강소휘…MVP도 3번째 수상', 'link': 'http://www.hani.co.kr/arti/sports//1103188.html'}, {'제목': '공격 돌파구 날린 천가람 “더 강한 선수 되겠다”', 'link': 'http://www.hani.co.kr/arti/sports/soccer/1103145.html'}, {'제목': 'GS칼텍스, 기업은행에 3-1 설욕…6번째 KOVO컵 정상', 'link': 'http://www.hani.co.kr/arti/sports//1103131.html'}, {'제목': '승패 가른 김가영 샷…“초클루와 연습한 공 나와 짜릿했어요”', 'link': 'http://www.hani.co.kr/arti/sports/sports_general/1103099.html'}, {'제목': 'KBO리그 500만 관중 돌파…평균 관중 1만1033명', 'link': 'http://www.hani.co.kr/arti/sports/baseball/1103095.html'}, {'제목': '기업은행, 3-1로 인삼공사 꺾고 결승행…GS칼텍스와 맞대결', 'link': 'http://www.hani.co.kr/arti/sports//1103093.html'}, {'제목': '김연경·박인비 등 6명, IOC 선수위원 ‘국내 후보’ 등록', 'link': 'http://www.hani.co.kr/arti/sports/sports_general/1103092.html'}, {'제목': 'GS칼텍스, 3-1로 현대건설 꺾고 결승행…KOVO컵 2연패 도전', 'link': 'http://www.hani.co.kr/arti/sports//1103079.html'}, {'제목': '기적도 치욕도 반복된다…여자월드컵 강타한 ‘언더도그 돌풍’', 'link': 'http://www.hani.co.kr/arti/sports/soccer/1103055.html'}, {'제목': '오타니, 시즌 40호 홈런…오른손 경련으로 투구는 4이닝만', 'link': 'http://www.hani.co.kr/arti/sports/baseball/1103047.html'}, {'제목': 'KBO리그 500만 관중 오늘 돌파…10개 구단 관중수입 762억', 'link': 'http://www.hani.co.kr/arti/sports/baseball/1103042.html'}, {'제목': '에스와이 여성 삼총사 “산체스 정말 ‘진국’…팀 분위기 최고”', 'link': 'http://www.hani.co.kr/arti/sports/sports_general/1103014.html'}, {'제목': '‘오기상’이 그리는 안산의 새로운 배구…웃으면서 해도 “OK”', 'link': 'http://www.hani.co.kr/arti/sports//1102999.html'}, {'제목': '여자축구 조소현, 한국 첫·마지막 골 쐈다…독일 탈락시켜', 'link': 'http://www.hani.co.kr/arti/sports/soccer/1102962.html'}, {'제목': '네이마르 2골1도움·이강인 24분…PSG, 부산을 파리로 만들다', 'link': 'http://www.hani.co.kr/arti/sports/soccer/1102946.html'}, {'제목': '조기성, 세계장애인선수권 개인혼영 150ｍ 은메달', 'link': 'http://www.hani.co.kr/arti/sports/sports_general/1102897.html'}, {'제목': '여자축구 1년 수입 ‘톱’ 15명 합쳐도…호날두 3분의 1도 안 돼', 'link': 'http://www.hani.co.kr/arti/sports/soccer/1102887.html'}]\n"
     ]
    },
    {
     "data": {
      "text/html": [
       "<div>\n",
       "<style scoped>\n",
       "    .dataframe tbody tr th:only-of-type {\n",
       "        vertical-align: middle;\n",
       "    }\n",
       "\n",
       "    .dataframe tbody tr th {\n",
       "        vertical-align: top;\n",
       "    }\n",
       "\n",
       "    .dataframe thead th {\n",
       "        text-align: right;\n",
       "    }\n",
       "</style>\n",
       "<table border=\"1\" class=\"dataframe\">\n",
       "  <thead>\n",
       "    <tr style=\"text-align: right;\">\n",
       "      <th></th>\n",
       "      <th>제목</th>\n",
       "      <th>링크</th>\n",
       "    </tr>\n",
       "  </thead>\n",
       "  <tbody>\n",
       "    <tr>\n",
       "      <th>0</th>\n",
       "      <td>홈런 1위 노시환, 한화 선수 5년 만의 월간 MVP</td>\n",
       "      <td>NaN</td>\n",
       "    </tr>\n",
       "    <tr>\n",
       "      <th>1</th>\n",
       "      <td>장현석, 다저스와 90만달러 입단 계약…“명문 구단 입단 영광”</td>\n",
       "      <td>NaN</td>\n",
       "    </tr>\n",
       "    <tr>\n",
       "      <th>2</th>\n",
       "      <td>리빌딩 나선 PSG, 메시·음바페 이어 네이마르도 ‘헤어질 결심’</td>\n",
       "      <td>NaN</td>\n",
       "    </tr>\n",
       "    <tr>\n",
       "      <th>3</th>\n",
       "      <td>강습 타구 맞은 류현진 “무릎에 멍들었지만 괜찮다”</td>\n",
       "      <td>NaN</td>\n",
       "    </tr>\n",
       "    <tr>\n",
       "      <th>4</th>\n",
       "      <td>김하성 15경기 연속 멀티 출루…이치로와 타이 기록</td>\n",
       "      <td>NaN</td>\n",
       "    </tr>\n",
       "    <tr>\n",
       "      <th>5</th>\n",
       "      <td>클리블랜드전 무피안타 류현진, 강습 타구에 무릎 맞고 교체</td>\n",
       "      <td>NaN</td>\n",
       "    </tr>\n",
       "    <tr>\n",
       "      <th>6</th>\n",
       "      <td>수원FC 공격수 라스 음주운전 적발…“징계·후속 조치할 것”</td>\n",
       "      <td>NaN</td>\n",
       "    </tr>\n",
       "    <tr>\n",
       "      <th>7</th>\n",
       "      <td>류현진, 시즌 첫 승 노린다…8일 클리블랜드전 등판</td>\n",
       "      <td>NaN</td>\n",
       "    </tr>\n",
       "    <tr>\n",
       "      <th>8</th>\n",
       "      <td>조규성, 덴마크 데뷔 뒤 3경기 연속골…팀 열세 속 빛난 만회포</td>\n",
       "      <td>NaN</td>\n",
       "    </tr>\n",
       "    <tr>\n",
       "      <th>9</th>\n",
       "      <td>‘부상 투혼’ 김효주, LPGA 스코틀랜드 여자오픈 준우승</td>\n",
       "      <td>NaN</td>\n",
       "    </tr>\n",
       "    <tr>\n",
       "      <th>10</th>\n",
       "      <td>‘최강’ 미국 여자축구, 16강 승부차기 끝에 스웨덴에 패배</td>\n",
       "      <td>NaN</td>\n",
       "    </tr>\n",
       "    <tr>\n",
       "      <th>11</th>\n",
       "      <td>‘제주의 딸’ 임진희, 삼다수 마스터스 우승</td>\n",
       "      <td>NaN</td>\n",
       "    </tr>\n",
       "    <tr>\n",
       "      <th>12</th>\n",
       "      <td>궤도 오른 프로당구…‘심야 편성’에 팬 반발 커져</td>\n",
       "      <td>NaN</td>\n",
       "    </tr>\n",
       "    <tr>\n",
       "      <th>13</th>\n",
       "      <td>결승전서 21점 뽑아낸 강소휘…MVP도 3번째 수상</td>\n",
       "      <td>NaN</td>\n",
       "    </tr>\n",
       "    <tr>\n",
       "      <th>14</th>\n",
       "      <td>공격 돌파구 날린 천가람 “더 강한 선수 되겠다”</td>\n",
       "      <td>NaN</td>\n",
       "    </tr>\n",
       "    <tr>\n",
       "      <th>15</th>\n",
       "      <td>GS칼텍스, 기업은행에 3-1 설욕…6번째 KOVO컵 정상</td>\n",
       "      <td>NaN</td>\n",
       "    </tr>\n",
       "    <tr>\n",
       "      <th>16</th>\n",
       "      <td>승패 가른 김가영 샷…“초클루와 연습한 공 나와 짜릿했어요”</td>\n",
       "      <td>NaN</td>\n",
       "    </tr>\n",
       "    <tr>\n",
       "      <th>17</th>\n",
       "      <td>KBO리그 500만 관중 돌파…평균 관중 1만1033명</td>\n",
       "      <td>NaN</td>\n",
       "    </tr>\n",
       "    <tr>\n",
       "      <th>18</th>\n",
       "      <td>기업은행, 3-1로 인삼공사 꺾고 결승행…GS칼텍스와 맞대결</td>\n",
       "      <td>NaN</td>\n",
       "    </tr>\n",
       "    <tr>\n",
       "      <th>19</th>\n",
       "      <td>김연경·박인비 등 6명, IOC 선수위원 ‘국내 후보’ 등록</td>\n",
       "      <td>NaN</td>\n",
       "    </tr>\n",
       "    <tr>\n",
       "      <th>20</th>\n",
       "      <td>GS칼텍스, 3-1로 현대건설 꺾고 결승행…KOVO컵 2연패 도전</td>\n",
       "      <td>NaN</td>\n",
       "    </tr>\n",
       "    <tr>\n",
       "      <th>21</th>\n",
       "      <td>기적도 치욕도 반복된다…여자월드컵 강타한 ‘언더도그 돌풍’</td>\n",
       "      <td>NaN</td>\n",
       "    </tr>\n",
       "    <tr>\n",
       "      <th>22</th>\n",
       "      <td>오타니, 시즌 40호 홈런…오른손 경련으로 투구는 4이닝만</td>\n",
       "      <td>NaN</td>\n",
       "    </tr>\n",
       "    <tr>\n",
       "      <th>23</th>\n",
       "      <td>KBO리그 500만 관중 오늘 돌파…10개 구단 관중수입 762억</td>\n",
       "      <td>NaN</td>\n",
       "    </tr>\n",
       "    <tr>\n",
       "      <th>24</th>\n",
       "      <td>에스와이 여성 삼총사 “산체스 정말 ‘진국’…팀 분위기 최고”</td>\n",
       "      <td>NaN</td>\n",
       "    </tr>\n",
       "    <tr>\n",
       "      <th>25</th>\n",
       "      <td>‘오기상’이 그리는 안산의 새로운 배구…웃으면서 해도 “OK”</td>\n",
       "      <td>NaN</td>\n",
       "    </tr>\n",
       "    <tr>\n",
       "      <th>26</th>\n",
       "      <td>여자축구 조소현, 한국 첫·마지막 골 쐈다…독일 탈락시켜</td>\n",
       "      <td>NaN</td>\n",
       "    </tr>\n",
       "    <tr>\n",
       "      <th>27</th>\n",
       "      <td>네이마르 2골1도움·이강인 24분…PSG, 부산을 파리로 만들다</td>\n",
       "      <td>NaN</td>\n",
       "    </tr>\n",
       "    <tr>\n",
       "      <th>28</th>\n",
       "      <td>조기성, 세계장애인선수권 개인혼영 150ｍ 은메달</td>\n",
       "      <td>NaN</td>\n",
       "    </tr>\n",
       "    <tr>\n",
       "      <th>29</th>\n",
       "      <td>여자축구 1년 수입 ‘톱’ 15명 합쳐도…호날두 3분의 1도 안 돼</td>\n",
       "      <td>NaN</td>\n",
       "    </tr>\n",
       "  </tbody>\n",
       "</table>\n",
       "</div>"
      ],
      "text/plain": [
       "                                       제목  링크\n",
       "0           홈런 1위 노시환, 한화 선수 5년 만의 월간 MVP NaN\n",
       "1     장현석, 다저스와 90만달러 입단 계약…“명문 구단 입단 영광” NaN\n",
       "2    리빌딩 나선 PSG, 메시·음바페 이어 네이마르도 ‘헤어질 결심’ NaN\n",
       "3            강습 타구 맞은 류현진 “무릎에 멍들었지만 괜찮다” NaN\n",
       "4            김하성 15경기 연속 멀티 출루…이치로와 타이 기록 NaN\n",
       "5        클리블랜드전 무피안타 류현진, 강습 타구에 무릎 맞고 교체 NaN\n",
       "6       수원FC 공격수 라스 음주운전 적발…“징계·후속 조치할 것” NaN\n",
       "7            류현진, 시즌 첫 승 노린다…8일 클리블랜드전 등판 NaN\n",
       "8     조규성, 덴마크 데뷔 뒤 3경기 연속골…팀 열세 속 빛난 만회포 NaN\n",
       "9        ‘부상 투혼’ 김효주, LPGA 스코틀랜드 여자오픈 준우승 NaN\n",
       "10      ‘최강’ 미국 여자축구, 16강 승부차기 끝에 스웨덴에 패배 NaN\n",
       "11               ‘제주의 딸’ 임진희, 삼다수 마스터스 우승 NaN\n",
       "12            궤도 오른 프로당구…‘심야 편성’에 팬 반발 커져 NaN\n",
       "13           결승전서 21점 뽑아낸 강소휘…MVP도 3번째 수상 NaN\n",
       "14            공격 돌파구 날린 천가람 “더 강한 선수 되겠다” NaN\n",
       "15       GS칼텍스, 기업은행에 3-1 설욕…6번째 KOVO컵 정상 NaN\n",
       "16      승패 가른 김가영 샷…“초클루와 연습한 공 나와 짜릿했어요” NaN\n",
       "17         KBO리그 500만 관중 돌파…평균 관중 1만1033명 NaN\n",
       "18      기업은행, 3-1로 인삼공사 꺾고 결승행…GS칼텍스와 맞대결 NaN\n",
       "19      김연경·박인비 등 6명, IOC 선수위원 ‘국내 후보’ 등록 NaN\n",
       "20   GS칼텍스, 3-1로 현대건설 꺾고 결승행…KOVO컵 2연패 도전 NaN\n",
       "21       기적도 치욕도 반복된다…여자월드컵 강타한 ‘언더도그 돌풍’ NaN\n",
       "22       오타니, 시즌 40호 홈런…오른손 경련으로 투구는 4이닝만 NaN\n",
       "23   KBO리그 500만 관중 오늘 돌파…10개 구단 관중수입 762억 NaN\n",
       "24     에스와이 여성 삼총사 “산체스 정말 ‘진국’…팀 분위기 최고” NaN\n",
       "25     ‘오기상’이 그리는 안산의 새로운 배구…웃으면서 해도 “OK” NaN\n",
       "26        여자축구 조소현, 한국 첫·마지막 골 쐈다…독일 탈락시켜 NaN\n",
       "27    네이마르 2골1도움·이강인 24분…PSG, 부산을 파리로 만들다 NaN\n",
       "28            조기성, 세계장애인선수권 개인혼영 150ｍ 은메달 NaN\n",
       "29  여자축구 1년 수입 ‘톱’ 15명 합쳐도…호날두 3분의 1도 안 돼 NaN"
      ]
     },
     "execution_count": 75,
     "metadata": {},
     "output_type": "execute_result"
    }
   ],
   "source": [
    "items=channel[0].findall('item')\n",
    "# print(items)\n",
    "rows=[]\n",
    "for node in items:\n",
    "    s_title=node.find('title').text if node is not None else None\n",
    "    s_link=node.find('link').text\n",
    "    rows.append({\"제목\":s_title,\"link\":s_link})\n",
    "print(rows)\n",
    "df=pd.DataFrame(rows,columns=[\"제목\",\"링크\"])\n",
    "df"
   ]
  },
  {
   "attachments": {},
   "cell_type": "markdown",
   "id": "0a288e6c",
   "metadata": {},
   "source": [
    "### JSON 데이터를 이용해서 DF 생성 \n",
    "* http://swiftapi.rubypaper.co.kr:2029/hoppin/movies?version=1&page=1&count=30&genreId=&order=releasedateasc"
   ]
  },
  {
   "cell_type": "code",
   "execution_count": 57,
   "id": "98c3f4f4",
   "metadata": {},
   "outputs": [
    {
     "data": {
      "text/html": [
       "<div>\n",
       "<style scoped>\n",
       "    .dataframe tbody tr th:only-of-type {\n",
       "        vertical-align: middle;\n",
       "    }\n",
       "\n",
       "    .dataframe tbody tr th {\n",
       "        vertical-align: top;\n",
       "    }\n",
       "\n",
       "    .dataframe thead th {\n",
       "        text-align: right;\n",
       "    }\n",
       "</style>\n",
       "<table border=\"1\" class=\"dataframe\">\n",
       "  <thead>\n",
       "    <tr style=\"text-align: right;\">\n",
       "      <th></th>\n",
       "      <th>hoppin</th>\n",
       "    </tr>\n",
       "  </thead>\n",
       "  <tbody>\n",
       "    <tr>\n",
       "      <th>movies</th>\n",
       "      <td>{'movie': [{'genreNames': '코미디,드라마', 'genreIds...</td>\n",
       "    </tr>\n",
       "    <tr>\n",
       "      <th>totalCount</th>\n",
       "      <td>4266</td>\n",
       "    </tr>\n",
       "  </tbody>\n",
       "</table>\n",
       "</div>"
      ],
      "text/plain": [
       "                                                       hoppin\n",
       "movies      {'movie': [{'genreNames': '코미디,드라마', 'genreIds...\n",
       "totalCount                                               4266"
      ]
     },
     "execution_count": 57,
     "metadata": {},
     "output_type": "execute_result"
    }
   ],
   "source": [
    "df=pd.read_json('http://swiftapi.rubypaper.co.kr:2029/hoppin/movies?version=1&page=1&count=30&genreId=&order=releasedateasc')\n",
    "df"
   ]
  },
  {
   "cell_type": "code",
   "execution_count": 59,
   "id": "a1aeb496",
   "metadata": {},
   "outputs": [
    {
     "name": "stdout",
     "output_type": "stream",
     "text": [
      "movies        {'movie': [{'genreNames': '코미디,드라마', 'genreIds...\n",
      "totalCount                                                 4266\n",
      "Name: hoppin, dtype: object\n",
      "인포먼트\n",
      "엣지 오브 다크니스\n",
      "베이비 돌\n",
      "황야의 역마차\n",
      "전원 교향곡\n",
      "아버지의 깃발\n",
      "여덟번의감정\n",
      "레드\n",
      "영광의 탈출\n",
      "크로싱\n",
      "맨 인 블랙\n",
      "차형사\n",
      "에이지 오브 드래곤\n",
      "로드 오브 워리어\n",
      "[메이킹 다큐] 도둑들 영화를 만들다!\n",
      "괜찮아요 수달씨\n",
      "파파\n",
      "이케맨 뱅크\n",
      "다중인격소녀 ISOLA\n",
      "위조지폐\n",
      "카인과 아벨\n",
      "돌핀 블루\n",
      "더 코드\n",
      "철권 블러드 벤전스\n",
      "블루 엘리펀트 (우리말 더빙)\n",
      "해결사 (2010)\n",
      "하나오니 2: 사랑의 시작\n",
      "하나오니 3: 복수의 시간\n",
      "아테나 전쟁의 여신 극장판\n",
      "아이스 프린세스\n"
     ]
    }
   ],
   "source": [
    "hoppin=df[\"hoppin\"]\n",
    "print(hoppin)\n",
    "movies=hoppin[\"movies\"]\n",
    "movie=movies[\"movie\"]\n",
    "for temp in movie:\n",
    "    print(temp[\"title\"])"
   ]
  },
  {
   "cell_type": "code",
   "execution_count": 68,
   "id": "5ff6497d",
   "metadata": {},
   "outputs": [
    {
     "data": {
      "text/html": [
       "<div>\n",
       "<style scoped>\n",
       "    .dataframe tbody tr th:only-of-type {\n",
       "        vertical-align: middle;\n",
       "    }\n",
       "\n",
       "    .dataframe tbody tr th {\n",
       "        vertical-align: top;\n",
       "    }\n",
       "\n",
       "    .dataframe thead th {\n",
       "        text-align: right;\n",
       "    }\n",
       "</style>\n",
       "<table border=\"1\" class=\"dataframe\">\n",
       "  <thead>\n",
       "    <tr style=\"text-align: right;\">\n",
       "      <th></th>\n",
       "      <th>integer</th>\n",
       "      <th>datetime</th>\n",
       "      <th>category</th>\n",
       "    </tr>\n",
       "  </thead>\n",
       "  <tbody>\n",
       "    <tr>\n",
       "      <th>0</th>\n",
       "      <td>5</td>\n",
       "      <td>2015-01-01 00:00:00</td>\n",
       "      <td>0</td>\n",
       "    </tr>\n",
       "    <tr>\n",
       "      <th>1</th>\n",
       "      <td>5</td>\n",
       "      <td>2015-01-01 00:00:01</td>\n",
       "      <td>0</td>\n",
       "    </tr>\n",
       "    <tr>\n",
       "      <th>2</th>\n",
       "      <td>9</td>\n",
       "      <td>2015-01-01 00:00:02</td>\n",
       "      <td>0</td>\n",
       "    </tr>\n",
       "    <tr>\n",
       "      <th>3</th>\n",
       "      <td>6</td>\n",
       "      <td>2015-01-01 00:00:03</td>\n",
       "      <td>0</td>\n",
       "    </tr>\n",
       "    <tr>\n",
       "      <th>4</th>\n",
       "      <td>6</td>\n",
       "      <td>2015-01-01 00:00:04</td>\n",
       "      <td>0</td>\n",
       "    </tr>\n",
       "    <tr>\n",
       "      <th>...</th>\n",
       "      <td>...</td>\n",
       "      <td>...</td>\n",
       "      <td>...</td>\n",
       "    </tr>\n",
       "    <tr>\n",
       "      <th>95</th>\n",
       "      <td>9</td>\n",
       "      <td>2015-01-01 00:01:35</td>\n",
       "      <td>0</td>\n",
       "    </tr>\n",
       "    <tr>\n",
       "      <th>96</th>\n",
       "      <td>8</td>\n",
       "      <td>2015-01-01 00:01:36</td>\n",
       "      <td>0</td>\n",
       "    </tr>\n",
       "    <tr>\n",
       "      <th>97</th>\n",
       "      <td>6</td>\n",
       "      <td>2015-01-01 00:01:37</td>\n",
       "      <td>0</td>\n",
       "    </tr>\n",
       "    <tr>\n",
       "      <th>98</th>\n",
       "      <td>8</td>\n",
       "      <td>2015-01-01 00:01:38</td>\n",
       "      <td>0</td>\n",
       "    </tr>\n",
       "    <tr>\n",
       "      <th>99</th>\n",
       "      <td>1</td>\n",
       "      <td>2015-01-01 00:01:39</td>\n",
       "      <td>0</td>\n",
       "    </tr>\n",
       "  </tbody>\n",
       "</table>\n",
       "<p>100 rows × 3 columns</p>\n",
       "</div>"
      ],
      "text/plain": [
       "    integer            datetime  category\n",
       "0         5 2015-01-01 00:00:00         0\n",
       "1         5 2015-01-01 00:00:01         0\n",
       "2         9 2015-01-01 00:00:02         0\n",
       "3         6 2015-01-01 00:00:03         0\n",
       "4         6 2015-01-01 00:00:04         0\n",
       "..      ...                 ...       ...\n",
       "95        9 2015-01-01 00:01:35         0\n",
       "96        8 2015-01-01 00:01:36         0\n",
       "97        6 2015-01-01 00:01:37         0\n",
       "98        8 2015-01-01 00:01:38         0\n",
       "99        1 2015-01-01 00:01:39         0\n",
       "\n",
       "[100 rows x 3 columns]"
      ]
     },
     "execution_count": 68,
     "metadata": {},
     "output_type": "execute_result"
    }
   ],
   "source": [
    "# 최신 라이브러리를 사용하면 이런 경우에도 데이터프레임으로 잘 변환이 되지만 컬럼에 객체가 존재하는 경우 제대로 파싱이 수행되지 않는 경우가 있다. \n",
    "# 컬럼 이름에 객체가 존재하는 경우는 orient 옵션에 columns 를 설정하면 된다. \n",
    "df=pd.read_json('https://raw.githubusercontent.com/chrisalbon/simulated_datasets/master/data.json')\n",
    "df"
   ]
  },
  {
   "attachments": {},
   "cell_type": "markdown",
   "id": "ce4086fa",
   "metadata": {},
   "source": [
    "### 카카오 open api 사용하기 \n",
    "* API KEY = 5744b58eb5dac17a561b8e1983fe4440"
   ]
  },
  {
   "cell_type": "code",
   "execution_count": 89,
   "id": "6528e45a",
   "metadata": {},
   "outputs": [
    {
     "name": "stdout",
     "output_type": "stream",
     "text": [
      "보령약국\n",
      "온유약국\n",
      "신림4번출구약국\n",
      "남시약국\n",
      "오거리약국\n",
      "세명약국\n",
      "종로약국\n",
      "진정주약국\n",
      "강남약국\n",
      "부전약국\n",
      "부부온누리약국\n",
      "방약국\n",
      "큰사랑약국\n",
      "종로백제약국\n",
      "고은약국\n"
     ]
    }
   ],
   "source": [
    "import requests\n",
    "import json\n",
    "\n",
    "REST_API_KEY=''\n",
    "\n",
    "Head={'Authorization': 'KakaoAK 5744b58eb5dac17a561b8e1983fe4440'}\n",
    "\n",
    "\n",
    "x='37.496237122' \n",
    "y='126.953697779'\n",
    "\n",
    "url=\"https://dapi.kakao.com/v2/local/search/category.json?category_group_code=PM9&x=37.496237122&y=126.953697779&radius=500\"\n",
    "response=requests.post(url,headers=Head)\n",
    "response=json.loads(response.text)\n",
    "for i in response['documents']:\n",
    "    print(i['place_name'])\n",
    "\n",
    "\n"
   ]
  },
  {
   "cell_type": "code",
   "execution_count": null,
   "id": "59937c8c",
   "metadata": {},
   "outputs": [],
   "source": []
  }
 ],
 "metadata": {
  "kernelspec": {
   "display_name": "Python 3 (ipykernel)",
   "language": "python",
   "name": "python3"
  },
  "language_info": {
   "codemirror_mode": {
    "name": "ipython",
    "version": 3
   },
   "file_extension": ".py",
   "mimetype": "text/x-python",
   "name": "python",
   "nbconvert_exporter": "python",
   "pygments_lexer": "ipython3",
   "version": "3.11.3"
  }
 },
 "nbformat": 4,
 "nbformat_minor": 5
}
