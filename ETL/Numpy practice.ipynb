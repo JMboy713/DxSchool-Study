{
 "cells": [
  {
   "cell_type": "markdown",
   "id": "8f68e622",
   "metadata": {},
   "source": [
    "# 속도 비교"
   ]
  },
  {
   "cell_type": "code",
   "execution_count": 3,
   "id": "eac2bcf0",
   "metadata": {},
   "outputs": [
    {
     "name": "stdout",
     "output_type": "stream",
     "text": [
      "10\n"
     ]
    }
   ],
   "source": [
    "print(10)"
   ]
  },
  {
   "cell_type": "code",
   "execution_count": 5,
   "id": "2cc4dc57",
   "metadata": {},
   "outputs": [
    {
     "name": "stdout",
     "output_type": "stream",
     "text": [
      "10\n"
     ]
    }
   ],
   "source": [
    "a=10\n",
    "print(a)"
   ]
  },
  {
   "cell_type": "code",
   "execution_count": 7,
   "id": "72a7aff8",
   "metadata": {},
   "outputs": [
    {
     "data": {
      "text/plain": [
       "10"
      ]
     },
     "execution_count": 7,
     "metadata": {},
     "output_type": "execute_result"
    }
   ],
   "source": [
    "a # jupyter 에서는 마지막에선 변수명만 써도 출력이 가능하다. "
   ]
  },
  {
   "cell_type": "code",
   "execution_count": 8,
   "id": "7754dab4",
   "metadata": {},
   "outputs": [],
   "source": [
    "import numpy as np\n",
    "import datetime\n",
    "import time"
   ]
  },
  {
   "cell_type": "code",
   "execution_count": 15,
   "id": "fb60a7fd",
   "metadata": {},
   "outputs": [
    {
     "name": "stdout",
     "output_type": "stream",
     "text": [
      "수행시간 :  0:00:00.084485\n"
     ]
    }
   ],
   "source": [
    "# list 의 작업시간\n",
    "li=range(1,1000000)\n",
    "\n",
    "# 현재 시간 저장\n",
    "start_time=datetime.datetime.now()\n",
    "\n",
    "\n",
    "# 모든 요소에 10을 곱해서 list 를 수정\n",
    "for i in li:\n",
    "    i=i*10\n",
    "    \n",
    "# 현재 시간 저장\n",
    "end_time=datetime.datetime.now()\n",
    "\n",
    "print(\"수행시간 : \", end_time-start_time)"
   ]
  },
  {
   "cell_type": "code",
   "execution_count": 17,
   "id": "561ba745",
   "metadata": {},
   "outputs": [
    {
     "name": "stdout",
     "output_type": "stream",
     "text": [
      "수행시간 :  0:00:00.002880\n"
     ]
    }
   ],
   "source": [
    "ar=np.arange(1,1000000)\n",
    "s=datetime.datetime.now()\n",
    "ar=ar*10\n",
    "e=datetime.datetime.now()\n",
    "print(\"수행시간 : \",e-s)"
   ]
  },
  {
   "cell_type": "markdown",
   "id": "d645e5c2",
   "metadata": {},
   "source": [
    "###  배열 정보 확인"
   ]
  },
  {
   "cell_type": "code",
   "execution_count": 21,
   "id": "b9fe2a11",
   "metadata": {},
   "outputs": [
    {
     "name": "stdout",
     "output_type": "stream",
     "text": [
      "<class 'numpy.ndarray'>\n",
      "int64\n",
      "1\n",
      "(3,)\n"
     ]
    }
   ],
   "source": [
    "ar=np.array([1,2,3])\n",
    "print(type(ar)) # ar의 자료형\n",
    "print((ar.dtype)) #ar 에 저장된 요소의 자료형\n",
    "print(ar.ndim) # 1차원 배열\n",
    "print(ar.shape) # 3개의 행으로 구성. ( 행과 열의 개수를 알려준다. )"
   ]
  },
  {
   "cell_type": "code",
   "execution_count": 24,
   "id": "1272ebe5",
   "metadata": {},
   "outputs": [
    {
     "name": "stdout",
     "output_type": "stream",
     "text": [
      "2\n",
      "(2, 3)\n"
     ]
    }
   ],
   "source": [
    "ar=np.array([[1,2,3],[4,5,6]])\n",
    "print(ar.ndim) # 1차원 배열\n",
    "print(ar.shape) # 3개의 행으로 구성. ( 행과 열의 개수를 알려준다. )\n",
    "#이미지를 가져왔을 떄 반드시 ndim 과 shape를 확인하자. "
   ]
  },
  {
   "cell_type": "code",
   "execution_count": 26,
   "id": "bb2f7db2",
   "metadata": {},
   "outputs": [
    {
     "name": "stdout",
     "output_type": "stream",
     "text": [
      "[ 1  3  5  7  9 11 13 15 17 19 21 23 25 27 29 31 33 35 37 39 41 43 45 47\n",
      " 49 51 53 55 57 59 61 63 65 67 69 71 73 75 77 79 81 83 85 87 89 91 93 95\n",
      " 97 99]\n",
      "[  1.  12.  23.  34.  45.  56.  67.  78.  89. 100.]\n"
     ]
    }
   ],
   "source": [
    "ar=np.arange(1,100,2)\n",
    "print(ar)\n",
    "ar=np.linspace(1,100,10)\n",
    "print(ar)"
   ]
  },
  {
   "cell_type": "markdown",
   "id": "d9727824",
   "metadata": {},
   "source": [
    "### 특수 함수"
   ]
  },
  {
   "cell_type": "code",
   "execution_count": 32,
   "id": "11601667",
   "metadata": {},
   "outputs": [
    {
     "name": "stdout",
     "output_type": "stream",
     "text": [
      "[[1. 1. 1.]]\n"
     ]
    }
   ],
   "source": [
    "ar=np.ones((1,3))\n",
    "print(ar)"
   ]
  },
  {
   "cell_type": "code",
   "execution_count": 41,
   "id": "adc589f9",
   "metadata": {},
   "outputs": [
    {
     "name": "stdout",
     "output_type": "stream",
     "text": [
      "[[1. 0. 0.]\n",
      " [0. 1. 0.]\n",
      " [0. 0. 1.]]\n",
      "[[0. 1. 0.]\n",
      " [0. 0. 1.]\n",
      " [0. 0. 0.]]\n",
      "--------------\n",
      "[[1. 0. 0.]\n",
      " [0. 1. 0.]\n",
      " [0. 0. 1.]]\n",
      "[1. 1. 1.]\n"
     ]
    }
   ],
   "source": [
    "ar=np.eye(3) # 대각선 방향으로 1을 채운 행렬\n",
    "print(ar) # 3*3 행렬\n",
    "\n",
    "ar=np.eye(3,k=1) # 대각선 방향으로 1을 채운 행렬\n",
    "print(ar) # 3*3 행렬\n",
    "print(\"--------------\")\n",
    "\n",
    "\n",
    "\n",
    "ar=np.identity(3)\n",
    "print(ar)\n",
    "\n",
    "print(np.diag(ar))"
   ]
  },
  {
   "cell_type": "code",
   "execution_count": 51,
   "id": "3f527caf",
   "metadata": {},
   "outputs": [
    {
     "name": "stdout",
     "output_type": "stream",
     "text": [
      "[[1 2 3]\n",
      " [4 5 6]\n",
      " [7 8 9]]\n",
      "[4 8]\n"
     ]
    }
   ],
   "source": [
    "ar=np.array([[1,2,3],[4,5,6],[7,8,9]])\n",
    "print(ar)\n",
    "print(np.diag(ar,k=-1)) # 왼쪽 대각선 방향으로 하나 아래 내려감. "
   ]
  },
  {
   "cell_type": "code",
   "execution_count": 56,
   "id": "f0c25d23",
   "metadata": {},
   "outputs": [
    {
     "name": "stdout",
     "output_type": "stream",
     "text": [
      "['1' '2' '3']\n",
      "[1 2 3]\n",
      "[1 2 3]\n"
     ]
    }
   ],
   "source": [
    "ar=np.array([1,2,'3']) # 문자열로 배열 생성\n",
    "print(ar)\n",
    "\n",
    "ar=np.array([1,2,'3'],dtype=np.int32) #배열의 자료형 지정. \n",
    "print(ar)\n",
    "\n",
    "ar=np.array([1,2,'3'])\n",
    "br=ar.astype(np.int32)\n",
    "print(br) # 자료형 변경. "
   ]
  },
  {
   "cell_type": "code",
   "execution_count": 61,
   "id": "9bae6de7",
   "metadata": {},
   "outputs": [
    {
     "name": "stdout",
     "output_type": "stream",
     "text": [
      "[[1 2 3]\n",
      " [4 5 6]\n",
      " [7 8 9]]\n",
      "[1 2 3 4 5 6 7 8 9]\n",
      "[[101   2   3]\n",
      " [  4   5   6]\n",
      " [  7   8   9]]\n"
     ]
    }
   ],
   "source": [
    "mat=np.array([[1,2,3],[4,5,6],[7,8,9]])\n",
    "print(mat)\n",
    "ar=mat.reshape(-1)\n",
    "print(ar)\n",
    "ar[0]=101\n",
    "print(mat)# 메모리의 주소가 같아 원본도 데이터가 바뀌어버린다. "
   ]
  },
  {
   "cell_type": "code",
   "execution_count": 62,
   "id": "d72e4211",
   "metadata": {},
   "outputs": [
    {
     "name": "stdout",
     "output_type": "stream",
     "text": [
      "[101   2   3   4   5   6   7   8   9]\n",
      "[[101   2   3]\n",
      " [  4   5   6]\n",
      " [  7   8   9]]\n",
      "[201   2   3   4   5   6   7   8   9]\n"
     ]
    }
   ],
   "source": [
    "br=mat.flatten()\n",
    "print(br)\n",
    "br[0]=201\n",
    "print(mat)\n",
    "print(br)"
   ]
  },
  {
   "cell_type": "code",
   "execution_count": 63,
   "id": "7951dd28",
   "metadata": {},
   "outputs": [
    {
     "name": "stdout",
     "output_type": "stream",
     "text": [
      "[1 2 3]\n"
     ]
    }
   ],
   "source": [
    "matrix=np.array([[1,2,3],[4,5,6],[7,8,9]])\n",
    "print(matrix[0])"
   ]
  },
  {
   "cell_type": "code",
   "execution_count": 66,
   "id": "03b5dc76",
   "metadata": {},
   "outputs": [
    {
     "name": "stdout",
     "output_type": "stream",
     "text": [
      "1\n",
      "1\n",
      "1004\n",
      "1\n"
     ]
    }
   ],
   "source": [
    "x=matrix[0][0]\n",
    "print(x)\n",
    "print(matrix[0][0])\n",
    "\n",
    "x=1004\n",
    "print(x)\n",
    "print(matrix[0][0])\n",
    "# [행번호][열번호]\\ 이렇게 접근하는 경우는 슬라이싱이라고 하고 \n",
    "# [행번호,열번호] 가 인덱싱이다. "
   ]
  },
  {
   "cell_type": "code",
   "execution_count": 72,
   "id": "9d05f1f1",
   "metadata": {},
   "outputs": [
    {
     "name": "stdout",
     "output_type": "stream",
     "text": [
      "[1 2 3] [1 2 3]\n",
      "[100   2   3]\n",
      "[100   2   3]\n",
      "[[100   2   3]\n",
      " [  4   5   6]\n",
      " [  7   8   9]]\n"
     ]
    }
   ],
   "source": [
    "matrix=np.array([[1,2,3],[4,5,6],[7,8,9]])\n",
    "# 일반 인덱싱\n",
    "ar=matrix[0]\n",
    "br=matrix[0,]\n",
    "print(ar,br)\n",
    "ar[0]=100\n",
    "print(ar)\n",
    "print(br)\n",
    "print(matrix)\n",
    "\n",
    "\n"
   ]
  },
  {
   "cell_type": "code",
   "execution_count": 70,
   "id": "2c575ea0",
   "metadata": {},
   "outputs": [
    {
     "name": "stdout",
     "output_type": "stream",
     "text": [
      "[[1 2 3]]\n",
      "[1 2 3]\n"
     ]
    }
   ],
   "source": [
    "matrix=np.array([[1,2,3],[4,5,6],[7,8,9]])\n",
    "\n",
    "# list를 이용한 인덱싱 - fancy 인덱싱\n",
    "cr=matrix[[0]]\n",
    "\n",
    "# 범위를 이용하는 형태 - 슬라이싱\n",
    "dr=matrix[0][:]\n",
    "print(cr)\n",
    "print(dr)"
   ]
  },
  {
   "cell_type": "markdown",
   "id": "f652244b",
   "metadata": {},
   "source": [
    "### Boolean 값으로 indexing"
   ]
  },
  {
   "cell_type": "code",
   "execution_count": 76,
   "id": "e29ab6c2",
   "metadata": {},
   "outputs": [
    {
     "name": "stdout",
     "output_type": "stream",
     "text": [
      "[ 7 53]\n"
     ]
    }
   ],
   "source": [
    "ar=np.array([10,2,3,46,12,41])\n",
    "br=np.array([3,65,23,7,1,53])\n",
    "print(br[ar>=30])"
   ]
  },
  {
   "cell_type": "code",
   "execution_count": null,
   "id": "ac6169b6",
   "metadata": {},
   "outputs": [],
   "source": []
  }
 ],
 "metadata": {
  "kernelspec": {
   "display_name": "Python 3 (ipykernel)",
   "language": "python",
   "name": "python3"
  },
  "language_info": {
   "codemirror_mode": {
    "name": "ipython",
    "version": 3
   },
   "file_extension": ".py",
   "mimetype": "text/x-python",
   "name": "python",
   "nbconvert_exporter": "python",
   "pygments_lexer": "ipython3",
   "version": "3.11.2"
  }
 },
 "nbformat": 4,
 "nbformat_minor": 5
}
