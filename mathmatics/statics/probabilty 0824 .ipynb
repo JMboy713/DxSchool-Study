{
 "cells": [
  {
   "cell_type": "code",
   "execution_count": 1,
   "metadata": {},
   "outputs": [],
   "source": [
    "# 공통 코드\n",
    "import pandas as pd\n",
    "import numpy as np\n",
    "import matplotlib.pyplot as plt\n",
    "import platform\n",
    "from matplotlib import font_manager,rc\n",
    "import seaborn as sns\n",
    "\n",
    "\n",
    "\n",
    "if platform.system()=='Darwin':\n",
    "\trc('font',family='AppleGothic')\n",
    "elif platform.system()=='Windows':\n",
    "\tfont_name=font_manager.FontProperties(fname='c:/windows/Fonts/malgun.ttf').get_name()\n",
    "\n",
    "\trc('font',family=font_name)\n",
    "\n",
    "\t\n",
    "\n",
    "# 그래프에 음수를 사용하기 위한 설정\n",
    "plt.rcParams['axes.unicode_minus']=False\n",
    "\n",
    "%precision 3\n",
    "\n",
    "import seaborn as sns\n",
    "import scipy as sp\n",
    "import scipy.stats"
   ]
  },
  {
   "attachments": {},
   "cell_type": "markdown",
   "metadata": {},
   "source": [
    "# 이항분포의 확률질량 함수"
   ]
  },
  {
   "cell_type": "code",
   "execution_count": 2,
   "metadata": {},
   "outputs": [
    {
     "name": "stdout",
     "output_type": "stream",
     "text": [
      "0.04165649414062496\n"
     ]
    },
    {
     "data": {
      "image/png": "[encoded data removed]",
      "text/plain": [
       "<Figure size 640x480 with 1 Axes>"
      ]
     },
     "metadata": {},
     "output_type": "display_data"
    },
    {
     "name": "stdout",
     "output_type": "stream",
     "text": [
      "0.03515625\n"
     ]
    }
   ],
   "source": [
    "# 시행횟수\n",
    "\n",
    "N=15\n",
    "# 앞면이 나올 확률\n",
    "p=0.5\n",
    "\n",
    "# 이항분포 생성\n",
    "rv=sp.stats.binom(N,p)\n",
    "\n",
    "# 그래프 범위\n",
    "xx=np.arange(N+1)\n",
    "# 확률 질량 함수를 출력\n",
    "plt.subplot(211)\n",
    "\n",
    "\n",
    "plt.stem(xx,rv.pmf(xx)) # pmf : 확률질량함수 , cdf : 누적 밀도 함수. \n",
    "plt.ylabel(\"확률질량함수\")\n",
    "plt.title(\"N=15인 이항분포의 확률질량함수\")\n",
    "plt.annotate('검정통계량 t=12',xy=(12,0.1),xytext=(12,0.1),arrowprops={\"facecolor\":\"black\"})\n",
    "print(rv.pmf(12-1))\n",
    "plt.show()\n",
    "\n",
    "# 유의 확률\n",
    "x=2*(1-rv.cdf(12-1))\n",
    "print(x)"
   ]
  },
  {
   "attachments": {},
   "cell_type": "markdown",
   "metadata": {},
   "source": [
    "# t검정"
   ]
  },
  {
   "cell_type": "code",
   "execution_count": 3,
   "metadata": {},
   "outputs": [
    {
     "data": {
      "text/html": [
       "<div>\n",
       "<style scoped>\n",
       "    .dataframe tbody tr th:only-of-type {\n",
       "        vertical-align: middle;\n",
       "    }\n",
       "\n",
       "    .dataframe tbody tr th {\n",
       "        vertical-align: top;\n",
       "    }\n",
       "\n",
       "    .dataframe thead th {\n",
       "        text-align: right;\n",
       "    }\n",
       "</style>\n",
       "<table border=\"1\" class=\"dataframe\">\n",
       "  <thead>\n",
       "    <tr style=\"text-align: right;\">\n",
       "      <th></th>\n",
       "      <th>번호</th>\n",
       "      <th>성적</th>\n",
       "    </tr>\n",
       "  </thead>\n",
       "  <tbody>\n",
       "    <tr>\n",
       "      <th>0</th>\n",
       "      <td>1</td>\n",
       "      <td>77</td>\n",
       "    </tr>\n",
       "    <tr>\n",
       "      <th>1</th>\n",
       "      <td>2</td>\n",
       "      <td>85</td>\n",
       "    </tr>\n",
       "    <tr>\n",
       "      <th>2</th>\n",
       "      <td>3</td>\n",
       "      <td>63</td>\n",
       "    </tr>\n",
       "    <tr>\n",
       "      <th>3</th>\n",
       "      <td>4</td>\n",
       "      <td>69</td>\n",
       "    </tr>\n",
       "    <tr>\n",
       "      <th>4</th>\n",
       "      <td>5</td>\n",
       "      <td>82</td>\n",
       "    </tr>\n",
       "    <tr>\n",
       "      <th>5</th>\n",
       "      <td>6</td>\n",
       "      <td>78</td>\n",
       "    </tr>\n",
       "    <tr>\n",
       "      <th>6</th>\n",
       "      <td>7</td>\n",
       "      <td>73</td>\n",
       "    </tr>\n",
       "    <tr>\n",
       "      <th>7</th>\n",
       "      <td>8</td>\n",
       "      <td>87</td>\n",
       "    </tr>\n",
       "    <tr>\n",
       "      <th>8</th>\n",
       "      <td>9</td>\n",
       "      <td>65</td>\n",
       "    </tr>\n",
       "    <tr>\n",
       "      <th>9</th>\n",
       "      <td>10</td>\n",
       "      <td>92</td>\n",
       "    </tr>\n",
       "  </tbody>\n",
       "</table>\n",
       "</div>"
      ],
      "text/plain": [
       "   번호  성적\n",
       "0   1  77\n",
       "1   2  85\n",
       "2   3  63\n",
       "3   4  69\n",
       "4   5  82\n",
       "5   6  78\n",
       "6   7  73\n",
       "7   8  87\n",
       "8   9  65\n",
       "9  10  92"
      ]
     },
     "execution_count": 3,
     "metadata": {},
     "output_type": "execute_result"
    }
   ],
   "source": [
    "# Tdata.csv 파일의 성적을 읽어서 평균이 75점 이라고 할수 있는지 유의수준 5% 검정\n",
    "items=pd.read_csv('./data/tdata.csv',encoding='cp949')\n",
    "items"
   ]
  },
  {
   "cell_type": "code",
   "execution_count": 5,
   "metadata": {},
   "outputs": [
    {
     "name": "stdout",
     "output_type": "stream",
     "text": [
      "유의확률이 유의수준보다 높으므로 귀무가설을 채택한다.\n",
      "75점이라고 할수있다.\n"
     ]
    }
   ],
   "source": [
    "# 성적의 평균이 75점이라고 할 때 유의 확류류 \n",
    "result=sp.stats.ttest_1samp(items['성적'],popmean=75).pvalue\n",
    "H0= '유의확률이 유의수준보다 높으므로 귀무가설을 채택한다.'\n",
    "H1= '유의확률이 유의수준보다 낮으므로 귀무가설을 기각한다.'\n",
    "\n",
    "\n",
    "if result>=0.05:\n",
    "    print(H0)\n",
    "    print(\"75점이라고 할수있다.\")\n",
    "else:\n",
    "    print(H1)\n",
    "    print(\"75점이라고 할수없다\")"
   ]
  },
  {
   "attachments": {},
   "cell_type": "markdown",
   "metadata": {},
   "source": [
    "### t 검정 및 2종 오류"
   ]
  },
  {
   "cell_type": "code",
   "execution_count": 15,
   "metadata": {},
   "outputs": [
    {
     "name": "stdout",
     "output_type": "stream",
     "text": [
      "Ttest_indResult(statistic=-0.4139968526988655, pvalue=0.6843504889824326)\n"
     ]
    }
   ],
   "source": [
    "# 제 2종 오류\n",
    "\n",
    "# 첫번째 데이터 집단\n",
    "N_1=10\n",
    "mu_1=0\n",
    "sigma_1=1\n",
    "\n",
    "# 두번째 데이터 집단\n",
    "N_2=10\n",
    "mu_2=0.5\n",
    "sigma_2=1\n",
    "\n",
    "# 데이터 생성\n",
    "np.random.seed(0)\n",
    "x1=sp.stats.norm(mu_1,sigma_1).rvs(N_1)\n",
    "x2=sp.stats.norm(mu_2,sigma_2).rvs(N_2)\n",
    "# print(x1)\n",
    "# print(x2)\n",
    "\n",
    "# ax=sns.distplot(x1,kde=False,fit=sp.stats.norm,label='1번 집단')\n",
    "# ax=sns.distplot(x2,kde=False,fit=sp.stats.norm,label='2번 집단')\n",
    "# ax.lines[0].set_linestyle(':')\n",
    "# plt.show()\n",
    "\n",
    "\n",
    "print(sp.stats.ttest_ind(x1,x2,equal_var=False))\n",
    "# 유의확률이 0.684\n",
    "# 유의수준을 얼마로 지정하더라도 귀무가설을 기각할 수 없다. \n",
    "# # 평균이 0과 0.5 다른데도 두 집단의 평균이 같다라는 유의 확률이 0.684 \n",
    "# 귀무가설이 거짓인데 참 -> 2종오류라고 한다. \n",
    "# 원인은 보통 데이터 개수의 부족"
   ]
  },
  {
   "attachments": {},
   "cell_type": "markdown",
   "metadata": {},
   "source": [
    "### 2종 오류 제거\n",
    "- 데이터의 개수를 늘려서 2종 오류를 제거 할 수 있다."
   ]
  },
  {
   "cell_type": "code",
   "execution_count": 16,
   "metadata": {},
   "outputs": [
    {
     "name": "stdout",
     "output_type": "stream",
     "text": [
      "Ttest_indResult(statistic=-3.597192759749613, pvalue=0.0004063422259488094)\n"
     ]
    }
   ],
   "source": [
    "# 제 2종 오류\n",
    "\n",
    "# 첫번째 데이터 집단\n",
    "N_1=100\n",
    "mu_1=0\n",
    "sigma_1=1\n",
    "\n",
    "# 두번째 데이터 집단\n",
    "N_2=100\n",
    "mu_2=0.5\n",
    "sigma_2=1\n",
    "\n",
    "# 데이터 생성\n",
    "np.random.seed(0)\n",
    "x1=sp.stats.norm(mu_1,sigma_1).rvs(N_1)\n",
    "x2=sp.stats.norm(mu_2,sigma_2).rvs(N_2)\n",
    "# print(x1)\n",
    "# print(x2)\n",
    "\n",
    "# ax=sns.distplot(x1,kde=False,fit=sp.stats.norm,label='1번 집단')\n",
    "# ax=sns.distplot(x2,kde=False,fit=sp.stats.norm,label='2번 집단')\n",
    "# ax.lines[0].set_linestyle(':')\n",
    "# plt.show()\n",
    "\n",
    "\n",
    "print(sp.stats.ttest_ind(x1,x2,equal_var=False))\n",
    "# 유의확률이 0.684\n",
    "# 유의수준을 얼마로 지정하더라도 귀무가설을 기각할 수 없다. \n",
    "# # 평균이 0과 0.5 다른데도 두 집단의 평균이 같다라는 유의 확률이 0.684 \n",
    "# 귀무가설이 거짓인데 참 -> 2종오류라고 한다. \n",
    "# 원인은 보통 데이터 개수의 부족"
   ]
  },
  {
   "attachments": {},
   "cell_type": "markdown",
   "metadata": {},
   "source": [
    "### 서로 다른 10명에게 수면제 1을 복용했을때 수면 증가 시간과 수면제 2를 복용했을때 수면 증가 시간을 조사한 경우 수면제 1과 수면제 2의 성능이 같다고 할 수 있는지 여부를 판단. \n"
   ]
  },
  {
   "cell_type": "code",
   "execution_count": 21,
   "metadata": {},
   "outputs": [
    {
     "name": "stdout",
     "output_type": "stream",
     "text": [
      "유의확률이 유의수준보다 높으므로 귀무가설을 채택한다.\n",
      "2개의 평균은 같다\n"
     ]
    }
   ],
   "source": [
    "# 서로 다른 수면제를 복용한 경우 약의 효과가 다른지 여부를 판단. - 유의수준 5%\n",
    "# p-v 가 0.05 보다 크면 귀무가설 채택 - 같다\n",
    "\n",
    "np.random.seed(123)\n",
    "x1=[10*np.random.rand() for _ in range(10)]\n",
    "x2=[10*np.random.rand() for _ in range(10)]\n",
    "\n",
    "r=sp.stats.ttest_ind(x1,x2,equal_var=True)\n",
    "if r.pvalue >=0.05:\n",
    "    print(H0)\n",
    "    print(\"2개의 평균은 같다\")\n",
    "else:\n",
    "    print(H1)\n",
    "    print(\"2개의 평균은 다르다.\")\n",
    "\n",
    "\n"
   ]
  },
  {
   "cell_type": "code",
   "execution_count": 25,
   "metadata": {},
   "outputs": [
    {
     "name": "stdout",
     "output_type": "stream",
     "text": [
      "TtestResult(statistic=0.6250586735613676, pvalue=0.5474511457798449, df=9)\n",
      "유의확률이 유의수준보다 높으므로 귀무가설을 채택한다.\n",
      "2개의 평균은 같다\n"
     ]
    }
   ],
   "source": [
    "# 동일한 집단에게 수면제 1과 2를 복용했을때 수면시간의 변화\n",
    "\n",
    "# 서로 다른 수면제를 복용한 경우 약의 효과가 다른지 여부를 판단. - 유의수준 5%\n",
    "# p-v 가 0.05 보다 크면 귀무가설 채택 - 같다\n",
    "\n",
    "np.random.seed(0)\n",
    "x1=[10*np.random.rand() for _ in range(10)]\n",
    "x2=[10*np.random.rand() for _ in range(10)]\n",
    "\n",
    "r=sp.stats.ttest_rel(x1,x2)\n",
    "print(r)\n",
    "if r.pvalue >=0.05:\n",
    "    print(H0)\n",
    "    print(\"2개의 평균은 같다\")\n",
    "else:\n",
    "    print(H1)\n",
    "    print(\"2개의 평균은 다르다.\")\n",
    "\n",
    "\n"
   ]
  },
  {
   "attachments": {},
   "cell_type": "markdown",
   "metadata": {},
   "source": [
    "### 윌콕슨의 부호 순위 검정"
   ]
  },
  {
   "cell_type": "code",
   "execution_count": 30,
   "metadata": {},
   "outputs": [
    {
     "name": "stdout",
     "output_type": "stream",
     "text": [
      "8 13\n"
     ]
    }
   ],
   "source": [
    "training_rel=pd.read_csv('./data/training_rel.csv')\n",
    "# print(training_rel.head())\n",
    "\n",
    "toy_df=training_rel[:6].copy()\n",
    "# print(toy_df)\n",
    "\n",
    "# 2개 데이터의 차이를 구하기\n",
    "toy_df['차']=toy_df['후']-toy_df['전']\n",
    "\n",
    "\n",
    "# 차의 절댓값을 가지고 순위를 구한다.\n",
    "toy_df['순위']=sp.stats.rankdata(abs(toy_df['차'])).astype(int)\n",
    "toy_df\n",
    "\n",
    "# 차이가 음수일 때 와 양수일 때의 순위 합을 구하기\n",
    "r_minus=np.sum((toy_df['차']<0)*toy_df['순위'])\n",
    "r_plus=np.sum((toy_df['차']>0)*toy_df['순위'])\n",
    "print(r_minus,r_plus)\n",
    "\n",
    "# 2개 중 작은 값이 검정 통계량이다.. \n",
    "# 이 값과 임계값(직접 설정 한 값)과 비교해서 임계값 보다 작은 경우 귀무가설이 기각되는 단측 검정 "
   ]
  },
  {
   "attachments": {},
   "cell_type": "markdown",
   "metadata": {},
   "source": [
    "#### 5가지 음료를 각각 선택하도록 만들었을떄 사람들이 선호하는 음료가 있는지 여부 검정\n",
    "- 41,30,51,61,71\n",
    "- 유의수준 5% 카이제곱 검정 - t-test 와 반대로 해석한다.\n",
    "- 유의 수준이 유의 확률보다 크다=> 귀무가설 채택 - 선호도 차이가 없다. "
   ]
  },
  {
   "cell_type": "code",
   "execution_count": 33,
   "metadata": {},
   "outputs": [
    {
     "name": "stdout",
     "output_type": "stream",
     "text": [
      "Power_divergenceResult(statistic=20.488188976377955, pvalue=0.00039991784008227194)\n"
     ]
    }
   ],
   "source": [
    "data=[30,41,51,61,71]\n",
    "# 카이제곱 검정 수행\n",
    "print(sp.stats.chisquare(data))\n",
    "# 유의수준 5프로 미만이기 때문에 선호도의 차이가 있다. \n",
    "# 평균을 가지고 하는 검정과 분산을 가지고 하는 검정은 결과 해석을 반대로 ㅎ나다. "
   ]
  }
 ],
 "metadata": {
  "kernelspec": {
   "display_name": "base",
   "language": "python",
   "name": "python3"
  },
  "language_info": {
   "codemirror_mode": {
    "name": "ipython",
    "version": 3
   },
   "file_extension": ".py",
   "mimetype": "text/x-python",
   "name": "python",
   "nbconvert_exporter": "python",
   "pygments_lexer": "ipython3",
   "version": "3.11.3"
  },
  "orig_nbformat": 4
 },
 "nbformat": 4,
 "nbformat_minor": 2
}
