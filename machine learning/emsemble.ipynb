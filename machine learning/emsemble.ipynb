{
 "cells": [
  {
   "attachments": {},
   "cell_type": "markdown",
   "metadata": {},
   "source": [
    "# Ensemble"
   ]
  },
  {
   "cell_type": "code",
   "execution_count": 141,
   "metadata": {},
   "outputs": [],
   "source": [
    "# 파이썬 ≥3.5 필수\n",
    "import sys\n",
    "assert sys.version_info >= (3, 5)\n",
    "\n",
    "# 사이킷런 ≥0.20 필수\n",
    "import sklearn\n",
    "assert sklearn.__version__ >= \"0.20\"\n",
    "\n",
    "# 공통 모듈 임포트\n",
    "import numpy as np\n",
    "import pandas as pd\n",
    "import seaborn as sns\n",
    "\n",
    "import os\n",
    "\n",
    "# 노트북 실행 결과를 동일하게 유지하기 위해\n",
    "np.random.seed(42)\n",
    "\n",
    "# 깔끔한 그래프 출력을 위해\n",
    "%matplotlib inline\n",
    "import matplotlib as mpl\n",
    "import matplotlib.pyplot as plt\n",
    "mpl.rc('axes', labelsize=14)\n",
    "mpl.rc('xtick', labelsize=12)\n",
    "mpl.rc('ytick', labelsize=12)\n",
    "\n",
    "# 그림을 저장할 위치\n",
    "PROJECT_ROOT_DIR = \".\"\n",
    "CHAPTER_ID = \"regression\"\n",
    "IMAGES_PATH = os.path.join(PROJECT_ROOT_DIR, \"images\", CHAPTER_ID)\n",
    "os.makedirs(IMAGES_PATH, exist_ok=True)\n",
    "\n",
    "import platform\n",
    "from matplotlib import font_manager, rc\n",
    "\n",
    "#매킨토시의 경우\n",
    "if platform.system() == 'Darwin':\n",
    "    rc('font', family='AppleGothic')\n",
    "#윈도우의 경우\n",
    "elif platform.system() == 'Windows':\n",
    "    font_name = font_manager.FontProperties(fname=\"c:/Windows/Fonts/malgun.ttf\").get_name()\n",
    "    rc('font', family=font_name)\n",
    "\n",
    "mpl.rcParams['axes.unicode_minus'] = False\n",
    "\n",
    "\n",
    "def save_fig(fig_id, tight_layout=True, fig_extension=\"png\", resolution=300):\n",
    "    path = os.path.join(IMAGES_PATH, fig_id + \".\" + fig_extension)\n",
    "    print(\"그림 저장:\", fig_id)\n",
    "    if tight_layout:\n",
    "        plt.tight_layout()\n",
    "    plt.savefig(path, format=fig_extension, dpi=resolution)\n",
    "    \n",
    "import warnings\n",
    "warnings.filterwarnings(action='ignore')"
   ]
  },
  {
   "attachments": {},
   "cell_type": "markdown",
   "metadata": {},
   "source": [
    "# 투표 기반 분류기"
   ]
  },
  {
   "attachments": {},
   "cell_type": "markdown",
   "metadata": {},
   "source": [
    "## 여러 분류기를 이용한 sklearn 의 투표 기반 분류기"
   ]
  },
  {
   "cell_type": "code",
   "execution_count": 142,
   "metadata": {},
   "outputs": [
    {
     "data": {
      "text/html": [
       "<style>#sk-container-id-8 {color: black;background-color: white;}#sk-container-id-8 pre{padding: 0;}#sk-container-id-8 div.sk-toggleable {background-color: white;}#sk-container-id-8 label.sk-toggleable__label {cursor: pointer;display: block;width: 100%;margin-bottom: 0;padding: 0.3em;box-sizing: border-box;text-align: center;}#sk-container-id-8 label.sk-toggleable__label-arrow:before {content: \"▸\";float: left;margin-right: 0.25em;color: #696969;}#sk-container-id-8 label.sk-toggleable__label-arrow:hover:before {color: black;}#sk-container-id-8 div.sk-estimator:hover label.sk-toggleable__label-arrow:before {color: black;}#sk-container-id-8 div.sk-toggleable__content {max-height: 0;max-width: 0;overflow: hidden;text-align: left;background-color: #f0f8ff;}#sk-container-id-8 div.sk-toggleable__content pre {margin: 0.2em;color: black;border-radius: 0.25em;background-color: #f0f8ff;}#sk-container-id-8 input.sk-toggleable__control:checked~div.sk-toggleable__content {max-height: 200px;max-width: 100%;overflow: auto;}#sk-container-id-8 input.sk-toggleable__control:checked~label.sk-toggleable__label-arrow:before {content: \"▾\";}#sk-container-id-8 div.sk-estimator input.sk-toggleable__control:checked~label.sk-toggleable__label {background-color: #d4ebff;}#sk-container-id-8 div.sk-label input.sk-toggleable__control:checked~label.sk-toggleable__label {background-color: #d4ebff;}#sk-container-id-8 input.sk-hidden--visually {border: 0;clip: rect(1px 1px 1px 1px);clip: rect(1px, 1px, 1px, 1px);height: 1px;margin: -1px;overflow: hidden;padding: 0;position: absolute;width: 1px;}#sk-container-id-8 div.sk-estimator {font-family: monospace;background-color: #f0f8ff;border: 1px dotted black;border-radius: 0.25em;box-sizing: border-box;margin-bottom: 0.5em;}#sk-container-id-8 div.sk-estimator:hover {background-color: #d4ebff;}#sk-container-id-8 div.sk-parallel-item::after {content: \"\";width: 100%;border-bottom: 1px solid gray;flex-grow: 1;}#sk-container-id-8 div.sk-label:hover label.sk-toggleable__label {background-color: #d4ebff;}#sk-container-id-8 div.sk-serial::before {content: \"\";position: absolute;border-left: 1px solid gray;box-sizing: border-box;top: 0;bottom: 0;left: 50%;z-index: 0;}#sk-container-id-8 div.sk-serial {display: flex;flex-direction: column;align-items: center;background-color: white;padding-right: 0.2em;padding-left: 0.2em;position: relative;}#sk-container-id-8 div.sk-item {position: relative;z-index: 1;}#sk-container-id-8 div.sk-parallel {display: flex;align-items: stretch;justify-content: center;background-color: white;position: relative;}#sk-container-id-8 div.sk-item::before, #sk-container-id-8 div.sk-parallel-item::before {content: \"\";position: absolute;border-left: 1px solid gray;box-sizing: border-box;top: 0;bottom: 0;left: 50%;z-index: -1;}#sk-container-id-8 div.sk-parallel-item {display: flex;flex-direction: column;z-index: 1;position: relative;background-color: white;}#sk-container-id-8 div.sk-parallel-item:first-child::after {align-self: flex-end;width: 50%;}#sk-container-id-8 div.sk-parallel-item:last-child::after {align-self: flex-start;width: 50%;}#sk-container-id-8 div.sk-parallel-item:only-child::after {width: 0;}#sk-container-id-8 div.sk-dashed-wrapped {border: 1px dashed gray;margin: 0 0.4em 0.5em 0.4em;box-sizing: border-box;padding-bottom: 0.4em;background-color: white;}#sk-container-id-8 div.sk-label label {font-family: monospace;font-weight: bold;display: inline-block;line-height: 1.2em;}#sk-container-id-8 div.sk-label-container {text-align: center;}#sk-container-id-8 div.sk-container {/* jupyter's `normalize.less` sets `[hidden] { display: none; }` but bootstrap.min.css set `[hidden] { display: none !important; }` so we also need the `!important` here to be able to override the default hidden behavior on the sphinx rendered scikit-learn.org. See: https://github.com/scikit-learn/scikit-learn/issues/21755 */display: inline-block !important;position: relative;}#sk-container-id-8 div.sk-text-repr-fallback {display: none;}</style><div id=\"sk-container-id-8\" class=\"sk-top-container\"><div class=\"sk-text-repr-fallback\"><pre>VotingClassifier(estimators=[(&#x27;lr&#x27;, LogisticRegression(random_state=42)),\n",
       "                             (&#x27;rf&#x27;, RandomForestClassifier(random_state=42)),\n",
       "                             (&#x27;svc&#x27;, SVC(random_state=42))])</pre><b>In a Jupyter environment, please rerun this cell to show the HTML representation or trust the notebook. <br />On GitHub, the HTML representation is unable to render, please try loading this page with nbviewer.org.</b></div><div class=\"sk-container\" hidden><div class=\"sk-item sk-dashed-wrapped\"><div class=\"sk-label-container\"><div class=\"sk-label sk-toggleable\"><input class=\"sk-toggleable__control sk-hidden--visually\" id=\"sk-estimator-id-14\" type=\"checkbox\" ><label for=\"sk-estimator-id-14\" class=\"sk-toggleable__label sk-toggleable__label-arrow\">VotingClassifier</label><div class=\"sk-toggleable__content\"><pre>VotingClassifier(estimators=[(&#x27;lr&#x27;, LogisticRegression(random_state=42)),\n",
       "                             (&#x27;rf&#x27;, RandomForestClassifier(random_state=42)),\n",
       "                             (&#x27;svc&#x27;, SVC(random_state=42))])</pre></div></div></div><div class=\"sk-parallel\"><div class=\"sk-parallel-item\"><div class=\"sk-item\"><div class=\"sk-label-container\"><div class=\"sk-label sk-toggleable\"><label>lr</label></div></div><div class=\"sk-serial\"><div class=\"sk-item\"><div class=\"sk-estimator sk-toggleable\"><input class=\"sk-toggleable__control sk-hidden--visually\" id=\"sk-estimator-id-15\" type=\"checkbox\" ><label for=\"sk-estimator-id-15\" class=\"sk-toggleable__label sk-toggleable__label-arrow\">LogisticRegression</label><div class=\"sk-toggleable__content\"><pre>LogisticRegression(random_state=42)</pre></div></div></div></div></div></div><div class=\"sk-parallel-item\"><div class=\"sk-item\"><div class=\"sk-label-container\"><div class=\"sk-label sk-toggleable\"><label>rf</label></div></div><div class=\"sk-serial\"><div class=\"sk-item\"><div class=\"sk-estimator sk-toggleable\"><input class=\"sk-toggleable__control sk-hidden--visually\" id=\"sk-estimator-id-16\" type=\"checkbox\" ><label for=\"sk-estimator-id-16\" class=\"sk-toggleable__label sk-toggleable__label-arrow\">RandomForestClassifier</label><div class=\"sk-toggleable__content\"><pre>RandomForestClassifier(random_state=42)</pre></div></div></div></div></div></div><div class=\"sk-parallel-item\"><div class=\"sk-item\"><div class=\"sk-label-container\"><div class=\"sk-label sk-toggleable\"><label>svc</label></div></div><div class=\"sk-serial\"><div class=\"sk-item\"><div class=\"sk-estimator sk-toggleable\"><input class=\"sk-toggleable__control sk-hidden--visually\" id=\"sk-estimator-id-17\" type=\"checkbox\" ><label for=\"sk-estimator-id-17\" class=\"sk-toggleable__label sk-toggleable__label-arrow\">SVC</label><div class=\"sk-toggleable__content\"><pre>SVC(random_state=42)</pre></div></div></div></div></div></div></div></div></div></div>"
      ],
      "text/plain": [
       "VotingClassifier(estimators=[('lr', LogisticRegression(random_state=42)),\n",
       "                             ('rf', RandomForestClassifier(random_state=42)),\n",
       "                             ('svc', SVC(random_state=42))])"
      ]
     },
     "execution_count": 142,
     "metadata": {},
     "output_type": "execute_result"
    }
   ],
   "source": [
    "# 데이터 생성\n",
    "from sklearn.model_selection import train_test_split\n",
    "from sklearn.datasets import make_moons\n",
    "\n",
    "X, y = make_moons(n_samples=500, noise=0.30, random_state=42)\n",
    "X_train, X_test, y_train, y_test = train_test_split(X, y, random_state=42)\n",
    "# print(X[0:5]) # x는 2행\n",
    "# print(y[0:5]) # y는 2개의 feature\n",
    "#모델 생성 및 훈련\n",
    "from sklearn.ensemble import RandomForestClassifier\n",
    "from sklearn.ensemble import VotingClassifier\n",
    "from sklearn.linear_model import LogisticRegression\n",
    "from sklearn.svm import SVC\n",
    "\n",
    "log_clf = LogisticRegression(solver=\"lbfgs\", random_state=42)\n",
    "rnd_clf = RandomForestClassifier(n_estimators=100, random_state=42)\n",
    "svm_clf = SVC(gamma=\"scale\", random_state=42)\n",
    "\n",
    "voting_clf = VotingClassifier(\n",
    "    estimators=[('lr', log_clf), ('rf', rnd_clf), ('svc', svm_clf)],\n",
    "    voting='hard')\n",
    "\n",
    "voting_clf.fit(X_train, y_train)\n"
   ]
  },
  {
   "cell_type": "code",
   "execution_count": 143,
   "metadata": {},
   "outputs": [
    {
     "name": "stdout",
     "output_type": "stream",
     "text": [
      "LogisticRegression 0.864\n",
      "RandomForestClassifier 0.896\n",
      "SVC 0.896\n",
      "VotingClassifier 0.912\n"
     ]
    }
   ],
   "source": [
    "#평가 지표 확인\n",
    "from sklearn.metrics import accuracy_score\n",
    "\n",
    "for clf in (log_clf, rnd_clf, svm_clf, voting_clf):\n",
    "    clf.fit(X_train, y_train)\n",
    "    y_pred = clf.predict(X_test)\n",
    "    print(clf.__class__.__name__, accuracy_score(y_test, y_pred))"
   ]
  },
  {
   "attachments": {},
   "cell_type": "markdown",
   "metadata": {},
   "source": [
    "### 간접 투표 방식으로 변경"
   ]
  },
  {
   "cell_type": "code",
   "execution_count": 144,
   "metadata": {},
   "outputs": [
    {
     "name": "stdout",
     "output_type": "stream",
     "text": [
      "LogisticRegression 0.864\n",
      "RandomForestClassifier 0.896\n",
      "SVC 0.896\n",
      "VotingClassifier 0.92\n"
     ]
    }
   ],
   "source": [
    "log_clf = LogisticRegression(solver=\"lbfgs\", random_state=42)\n",
    "rnd_clf = RandomForestClassifier(n_estimators=100, random_state=42)\n",
    "svm_clf = SVC(gamma=\"scale\", probability=True, random_state=42)\n",
    "\n",
    "voting_clf = VotingClassifier(\n",
    "    estimators=[('lr', log_clf), ('rf', rnd_clf), ('svc', svm_clf)],\n",
    "    voting='soft')\n",
    "voting_clf.fit(X_train, y_train)\n",
    "from sklearn.metrics import accuracy_score\n",
    "\n",
    "for clf in (log_clf, rnd_clf, svm_clf, voting_clf):\n",
    "    clf.fit(X_train, y_train)\n",
    "    y_pred = clf.predict(X_test)\n",
    "    print(clf.__class__.__name__, accuracy_score(y_test, y_pred))"
   ]
  },
  {
   "attachments": {},
   "cell_type": "markdown",
   "metadata": {},
   "source": [
    "## 배깅 과 페이스팅"
   ]
  },
  {
   "cell_type": "code",
   "execution_count": 145,
   "metadata": {},
   "outputs": [
    {
     "name": "stdout",
     "output_type": "stream",
     "text": [
      "0.904\n"
     ]
    }
   ],
   "source": [
    "from sklearn.ensemble import BaggingClassifier\n",
    "from sklearn.tree import DecisionTreeClassifier\n",
    "\n",
    "bag_clf = BaggingClassifier(\n",
    "    DecisionTreeClassifier(), n_estimators=500,\n",
    "    max_samples=100, bootstrap=True, random_state=42)\n",
    "bag_clf.fit(X_train, y_train)\n",
    "y_pred = bag_clf.predict(X_test)\n",
    "\n",
    "from sklearn.metrics import accuracy_score\n",
    "print(accuracy_score(y_test, y_pred))"
   ]
  },
  {
   "attachments": {},
   "cell_type": "markdown",
   "metadata": {},
   "source": [
    "### 간접 투표 방식"
   ]
  },
  {
   "cell_type": "code",
   "execution_count": 146,
   "metadata": {},
   "outputs": [
    {
     "name": "stdout",
     "output_type": "stream",
     "text": [
      "0.856\n"
     ]
    }
   ],
   "source": [
    "tree_clf = DecisionTreeClassifier(random_state=42)\n",
    "tree_clf.fit(X_train, y_train)\n",
    "y_pred_tree = tree_clf.predict(X_test)\n",
    "print(accuracy_score(y_test, y_pred_tree))"
   ]
  },
  {
   "attachments": {},
   "cell_type": "markdown",
   "metadata": {},
   "source": [
    "#### oob 평가"
   ]
  },
  {
   "cell_type": "code",
   "execution_count": 147,
   "metadata": {},
   "outputs": [
    {
     "data": {
      "text/plain": [
       "0.8986666666666666"
      ]
     },
     "execution_count": 147,
     "metadata": {},
     "output_type": "execute_result"
    }
   ],
   "source": [
    "bag_clf = BaggingClassifier(\n",
    "    DecisionTreeClassifier(), n_estimators=500,\n",
    "    bootstrap=True, oob_score=True, random_state=40)\n",
    "bag_clf.fit(X_train, y_train)\n",
    "bag_clf.oob_score_"
   ]
  },
  {
   "attachments": {},
   "cell_type": "markdown",
   "metadata": {},
   "source": [
    "## RandomForest"
   ]
  },
  {
   "attachments": {},
   "cell_type": "markdown",
   "metadata": {},
   "source": [
    "### 배깅 과 랜덤 포리스트 분류기 비교"
   ]
  },
  {
   "cell_type": "code",
   "execution_count": 148,
   "metadata": {},
   "outputs": [],
   "source": [
    "#배깅을 이용한 random forest 만들기\n",
    "bag_clf = BaggingClassifier(\n",
    "    DecisionTreeClassifier(max_features=\"sqrt\", max_leaf_nodes=16),\n",
    "    n_estimators=500, random_state=42)\n",
    "\n",
    "bag_clf.fit(X_train, y_train)\n",
    "y_pred = bag_clf.predict(X_test)"
   ]
  },
  {
   "cell_type": "code",
   "execution_count": 149,
   "metadata": {},
   "outputs": [],
   "source": [
    "#random forest 분류기\n",
    "from sklearn.ensemble import RandomForestClassifier\n",
    "\n",
    "rnd_clf = RandomForestClassifier(n_estimators=500, max_leaf_nodes=16, random_state=42)\n",
    "rnd_clf.fit(X_train, y_train)\n",
    "\n",
    "y_pred_rf = rnd_clf.predict(X_test)"
   ]
  },
  {
   "cell_type": "code",
   "execution_count": 150,
   "metadata": {},
   "outputs": [
    {
     "name": "stdout",
     "output_type": "stream",
     "text": [
      "1.0\n"
     ]
    }
   ],
   "source": [
    "print(np.sum(y_pred == y_pred_rf) / len(y_pred))"
   ]
  },
  {
   "cell_type": "code",
   "execution_count": 151,
   "metadata": {},
   "outputs": [
    {
     "name": "stdout",
     "output_type": "stream",
     "text": [
      "[0 0 1 0 0 1 1 0 0 0]\n",
      "[0 0 1 0 0 1 1 1 0 0]\n",
      "\n",
      "\n",
      "[[106  19]\n",
      " [ 27  63]]\n",
      "\n",
      "\n",
      "              precision    recall  f1-score   support\n",
      "\n",
      "           0       0.80      0.85      0.82       125\n",
      "           1       0.77      0.70      0.73        90\n",
      "\n",
      "    accuracy                           0.79       215\n",
      "   macro avg       0.78      0.77      0.78       215\n",
      "weighted avg       0.78      0.79      0.78       215\n",
      "\n",
      "accuracy: 0.786046511627907\n"
     ]
    }
   ],
   "source": [
    "# load_dataset 함수를 사용하여 데이터프레임으로 변환\n",
    "df = sns.load_dataset('titanic')\n",
    "#  IPython 디스플레이 설정 - 출력할 열의 개수 한도 늘리기\n",
    "pd.set_option('display.max_columns', 15)\n",
    "\n",
    "# NaN값이 많은 deck 열을 삭제, embarked와 내용이 겹치는 embark_town 열을 삭제\n",
    "rdf = df.drop(['deck', 'embark_town'], axis=1)  \n",
    "\n",
    "# age 열에 나이 데이터가 없는 모든 행을 삭제 - age 열(891개 중 177개의 NaN 값)\n",
    "rdf = rdf.dropna(subset=['age'], how='any', axis=0)  \n",
    "\n",
    "# embarked 열의 NaN값을 승선도시 중에서 가장 많이 출현한 값으로 치환하기\n",
    "most_freq = rdf['embarked'].value_counts(dropna=True).idxmax()   \n",
    "rdf['embarked'].fillna(most_freq, inplace=True)\n",
    "\n",
    "# 분석에 활용할 열(속성)을 선택 \n",
    "ndf = rdf[['survived', 'pclass', 'sex', 'age', 'sibsp', 'parch', 'embarked']]\n",
    "\n",
    "# 원핫인코딩 - 범주형 데이터를 모형이 인식할 수 있도록 숫자형으로 변환\n",
    "onehot_sex = pd.get_dummies(ndf['sex'])\n",
    "ndf = pd.concat([ndf, onehot_sex], axis=1)\n",
    "\n",
    "onehot_embarked = pd.get_dummies(ndf['embarked'], prefix='town')\n",
    "ndf = pd.concat([ndf, onehot_embarked], axis=1)\n",
    "\n",
    "ndf.drop(['sex', 'embarked'], axis=1, inplace=True)\n",
    "\n",
    "# 속성(변수) 선택\n",
    "X=ndf[['pclass', 'age', 'sibsp', 'parch', 'female', 'male', \n",
    "       'town_C', 'town_Q', 'town_S']]  #독립 변수 X\n",
    "y=ndf['survived']                      #종속 변수 Y\n",
    "\n",
    "# 설명 변수 데이터를 정규화(normalization)\n",
    "from sklearn import preprocessing\n",
    "X = preprocessing.StandardScaler().fit(X).transform(X)\n",
    "\n",
    "# train data 와 test data로 구분(7:3 비율)\n",
    "from sklearn.model_selection import train_test_split\n",
    "X_train, X_test, y_train, y_test = train_test_split(X, y, test_size=0.3, random_state=10) \n",
    "\n",
    "#n_estimators는 나무의 개수\n",
    "#n_jobs는 모델 훈련을 할 때의 코어의 개수\n",
    "forest = RandomForestClassifier(criterion='entropy',\n",
    "                                n_estimators=25, \n",
    "                                random_state=1,\n",
    "                                n_jobs=2)\n",
    "forest.fit(X_train, y_train)\n",
    "\n",
    "# test data를 가지고 y_hat을 예측 (분류) \n",
    "y_hat = forest.predict(X_test) \n",
    "\n",
    "print(y_hat[0:10])\n",
    "print(y_test.values[0:10])\n",
    "print('\\n')\n",
    "\n",
    "# 모형 성능 평가 - Confusion Matrix 계산\n",
    "from sklearn import metrics \n",
    "tree_matrix = metrics.confusion_matrix(y_test, y_hat)  \n",
    "print(tree_matrix)\n",
    "print('\\n')\n",
    "\n",
    "# 모형 성능 평가 - 평가지표 계산\n",
    "tree_report = metrics.classification_report(y_test, y_hat)            \n",
    "print(tree_report)\n",
    "\n",
    "\n",
    "print('accuracy:',(tree_matrix[0,0]+tree_matrix[1,1])/np.sum(tree_matrix))"
   ]
  },
  {
   "cell_type": "code",
   "execution_count": 152,
   "metadata": {},
   "outputs": [
    {
     "data": {
      "text/plain": [
       "(-1.0, 9.0)"
      ]
     },
     "execution_count": 152,
     "metadata": {},
     "output_type": "execute_result"
    },
    {
     "data": {
      "image/png": "[encoded data removed]",
      "text/plain": [
       "<Figure size 640x480 with 1 Axes>"
      ]
     },
     "metadata": {},
     "output_type": "display_data"
    }
   ],
   "source": [
    "n_features = X.data.shape[1]\n",
    "plt.barh(np.arange(n_features), forest.feature_importances_, align='center')\n",
    "plt.yticks(np.arange(n_features), ['pclass', 'age', 'sibsp', 'parch', 'female', 'male', \n",
    "       'town_C', 'town_Q', 'town_S'])\n",
    "plt.xlabel(\"특성 중요도\")\n",
    "plt.ylabel(\"특성\")\n",
    "plt.ylim(-1, n_features)"
   ]
  },
  {
   "cell_type": "code",
   "execution_count": 153,
   "metadata": {},
   "outputs": [
    {
     "data": {
      "text/plain": [
       "array([0.13939992, 0.45307888, 0.06777061, 0.05378157, 0.14575955,\n",
       "       0.1039795 , 0.0129322 , 0.00660981, 0.01668796])"
      ]
     },
     "execution_count": 153,
     "metadata": {},
     "output_type": "execute_result"
    }
   ],
   "source": [
    "forest.feature_importances_  # 특성중요도지만 index 가 없어 알 수 없다."
   ]
  },
  {
   "attachments": {},
   "cell_type": "markdown",
   "metadata": {},
   "source": [
    "# Boosting"
   ]
  },
  {
   "attachments": {},
   "cell_type": "markdown",
   "metadata": {},
   "source": [
    "## ada boost"
   ]
  },
  {
   "cell_type": "code",
   "execution_count": 154,
   "metadata": {},
   "outputs": [
    {
     "name": "stdout",
     "output_type": "stream",
     "text": [
      "[0 1 1 0 1 0 1 1 0 0]\n",
      "[0 0 1 0 0 1 1 1 0 0]\n"
     ]
    }
   ],
   "source": [
    "# ada Boost\n",
    "from sklearn.ensemble import AdaBoostClassifier\n",
    "# algorithms 은 확률을 계산할 수 있으면 SAMME.R\n",
    "# 없다면 SAMME\n",
    "# learning Rate = 학습률\n",
    "# 학습률이 너무 크면 최적화 되지 않을 확률이 높고 너무 작으면 훈련 속도가 너무 느려지게 된다.또한 overfitting 우려가 있다. \n",
    "\n",
    "ada_clf=AdaBoostClassifier(\n",
    "    DecisionTreeClassifier(max_depth=1),\n",
    "    n_estimators=200,\n",
    "    algorithm=\"SAMME.R\",\n",
    "    learning_rate=0.5,\n",
    "    random_state=42\n",
    ")\n",
    "\n",
    "ada_clf.fit(X_train, y_train)\n",
    "\n",
    "y_hat=ada_clf.predict(X_test)\n",
    "print(y_hat[0:10])\n",
    "print(y_test.values[0:10])"
   ]
  },
  {
   "attachments": {},
   "cell_type": "markdown",
   "metadata": {},
   "source": [
    "## Gradient Boosting"
   ]
  },
  {
   "cell_type": "code",
   "execution_count": 155,
   "metadata": {},
   "outputs": [
    {
     "name": "stdout",
     "output_type": "stream",
     "text": [
      "[0 1 1 0 0 1 1 1 0 0]\n",
      "[0 0 1 0 0 1 1 1 0 0]\n",
      "GBM 정확도: 0.7953\n"
     ]
    }
   ],
   "source": [
    "from sklearn.ensemble import GradientBoostingClassifier\n",
    "\n",
    "gb_clf = GradientBoostingClassifier(random_state=0)\n",
    "gb_clf.fit(X_train , y_train)\n",
    "gb_pred = gb_clf.predict(X_test)\n",
    "gb_accuracy = accuracy_score(y_test, gb_pred)\n",
    "\n",
    "print(gb_pred[0:10])\n",
    "print(y_test.values[0:10])\n",
    "\n",
    "\n",
    "print('GBM 정확도: {0:.4f}'.format(gb_accuracy))\n"
   ]
  },
  {
   "cell_type": "code",
   "execution_count": 156,
   "metadata": {},
   "outputs": [
    {
     "name": "stdout",
     "output_type": "stream",
     "text": [
      "Fitting 2 folds for each of 4 candidates, totalling 8 fits\n",
      "최적 하이퍼 파라미터:\n",
      " {'learning_rate': 0.05, 'n_estimators': 100}\n",
      "최고 예측 정확도: 0.7896\n"
     ]
    }
   ],
   "source": [
    "from sklearn.model_selection import GridSearchCV\n",
    "\n",
    "params = {\n",
    "    'n_estimators':[100, 500],\n",
    "    'learning_rate' : [ 0.05, 0.1]\n",
    "}\n",
    "grid_cv = GridSearchCV(gb_clf , param_grid=params , cv=2 ,verbose=1)\n",
    "grid_cv.fit(X_train , y_train)\n",
    "print('최적 하이퍼 파라미터:\\n', grid_cv.best_params_)\n",
    "print('최고 예측 정확도: {0:.4f}'.format(grid_cv.best_score_))"
   ]
  },
  {
   "cell_type": "code",
   "execution_count": 157,
   "metadata": {},
   "outputs": [
    {
     "name": "stdout",
     "output_type": "stream",
     "text": [
      "GBM 정확도: 0.8372\n"
     ]
    }
   ],
   "source": [
    "# GridSearchCV를 이용하여 최적으로 학습된 estimator로 predict 수행. \n",
    "gb_pred = grid_cv.best_estimator_.predict(X_test)\n",
    "gb_accuracy = accuracy_score(y_test, gb_pred)\n",
    "print('GBM 정확도: {0:.4f}'.format(gb_accuracy))"
   ]
  },
  {
   "cell_type": "code",
   "execution_count": null,
   "metadata": {},
   "outputs": [],
   "source": []
  },
  {
   "cell_type": "code",
   "execution_count": 158,
   "metadata": {},
   "outputs": [
    {
     "name": "stdout",
     "output_type": "stream",
     "text": [
      "              precision    recall  f1-score   support\n",
      "\n",
      "           0       0.81      0.94      0.87       125\n",
      "           1       0.89      0.70      0.78        90\n",
      "\n",
      "    accuracy                           0.84       215\n",
      "   macro avg       0.85      0.82      0.83       215\n",
      "weighted avg       0.84      0.84      0.83       215\n",
      "\n"
     ]
    }
   ],
   "source": [
    "gbm_predict=metrics.classification_report(y_test,gb_pred)\n",
    "print(gbm_predict)"
   ]
  },
  {
   "cell_type": "markdown",
   "metadata": {},
   "source": [
    "## xgboost"
   ]
  },
  {
   "cell_type": "markdown",
   "metadata": {},
   "source": [
    "#### 위스콘신 데이터에 xgboost 적용"
   ]
  },
  {
   "cell_type": "code",
   "execution_count": 159,
   "metadata": {},
   "outputs": [
    {
     "data": {
      "text/html": [
       "<div>\n",
       "<style scoped>\n",
       "    .dataframe tbody tr th:only-of-type {\n",
       "        vertical-align: middle;\n",
       "    }\n",
       "\n",
       "    .dataframe tbody tr th {\n",
       "        vertical-align: top;\n",
       "    }\n",
       "\n",
       "    .dataframe thead th {\n",
       "        text-align: right;\n",
       "    }\n",
       "</style>\n",
       "<table border=\"1\" class=\"dataframe\">\n",
       "  <thead>\n",
       "    <tr style=\"text-align: right;\">\n",
       "      <th></th>\n",
       "      <th>mean radius</th>\n",
       "      <th>mean texture</th>\n",
       "      <th>mean perimeter</th>\n",
       "      <th>mean area</th>\n",
       "      <th>mean smoothness</th>\n",
       "      <th>mean compactness</th>\n",
       "      <th>mean concavity</th>\n",
       "      <th>...</th>\n",
       "      <th>worst smoothness</th>\n",
       "      <th>worst compactness</th>\n",
       "      <th>worst concavity</th>\n",
       "      <th>worst concave points</th>\n",
       "      <th>worst symmetry</th>\n",
       "      <th>worst fractal dimension</th>\n",
       "      <th>target</th>\n",
       "    </tr>\n",
       "  </thead>\n",
       "  <tbody>\n",
       "    <tr>\n",
       "      <th>0</th>\n",
       "      <td>17.99</td>\n",
       "      <td>10.38</td>\n",
       "      <td>122.80</td>\n",
       "      <td>1001.0</td>\n",
       "      <td>0.11840</td>\n",
       "      <td>0.27760</td>\n",
       "      <td>0.3001</td>\n",
       "      <td>...</td>\n",
       "      <td>0.1622</td>\n",
       "      <td>0.6656</td>\n",
       "      <td>0.7119</td>\n",
       "      <td>0.2654</td>\n",
       "      <td>0.4601</td>\n",
       "      <td>0.11890</td>\n",
       "      <td>0</td>\n",
       "    </tr>\n",
       "    <tr>\n",
       "      <th>1</th>\n",
       "      <td>20.57</td>\n",
       "      <td>17.77</td>\n",
       "      <td>132.90</td>\n",
       "      <td>1326.0</td>\n",
       "      <td>0.08474</td>\n",
       "      <td>0.07864</td>\n",
       "      <td>0.0869</td>\n",
       "      <td>...</td>\n",
       "      <td>0.1238</td>\n",
       "      <td>0.1866</td>\n",
       "      <td>0.2416</td>\n",
       "      <td>0.1860</td>\n",
       "      <td>0.2750</td>\n",
       "      <td>0.08902</td>\n",
       "      <td>0</td>\n",
       "    </tr>\n",
       "    <tr>\n",
       "      <th>2</th>\n",
       "      <td>19.69</td>\n",
       "      <td>21.25</td>\n",
       "      <td>130.00</td>\n",
       "      <td>1203.0</td>\n",
       "      <td>0.10960</td>\n",
       "      <td>0.15990</td>\n",
       "      <td>0.1974</td>\n",
       "      <td>...</td>\n",
       "      <td>0.1444</td>\n",
       "      <td>0.4245</td>\n",
       "      <td>0.4504</td>\n",
       "      <td>0.2430</td>\n",
       "      <td>0.3613</td>\n",
       "      <td>0.08758</td>\n",
       "      <td>0</td>\n",
       "    </tr>\n",
       "    <tr>\n",
       "      <th>3</th>\n",
       "      <td>11.42</td>\n",
       "      <td>20.38</td>\n",
       "      <td>77.58</td>\n",
       "      <td>386.1</td>\n",
       "      <td>0.14250</td>\n",
       "      <td>0.28390</td>\n",
       "      <td>0.2414</td>\n",
       "      <td>...</td>\n",
       "      <td>0.2098</td>\n",
       "      <td>0.8663</td>\n",
       "      <td>0.6869</td>\n",
       "      <td>0.2575</td>\n",
       "      <td>0.6638</td>\n",
       "      <td>0.17300</td>\n",
       "      <td>0</td>\n",
       "    </tr>\n",
       "    <tr>\n",
       "      <th>4</th>\n",
       "      <td>20.29</td>\n",
       "      <td>14.34</td>\n",
       "      <td>135.10</td>\n",
       "      <td>1297.0</td>\n",
       "      <td>0.10030</td>\n",
       "      <td>0.13280</td>\n",
       "      <td>0.1980</td>\n",
       "      <td>...</td>\n",
       "      <td>0.1374</td>\n",
       "      <td>0.2050</td>\n",
       "      <td>0.4000</td>\n",
       "      <td>0.1625</td>\n",
       "      <td>0.2364</td>\n",
       "      <td>0.07678</td>\n",
       "      <td>0</td>\n",
       "    </tr>\n",
       "  </tbody>\n",
       "</table>\n",
       "<p>5 rows × 31 columns</p>\n",
       "</div>"
      ],
      "text/plain": [
       "   mean radius  mean texture  mean perimeter  mean area  mean smoothness  \\\n",
       "0        17.99         10.38          122.80     1001.0          0.11840   \n",
       "1        20.57         17.77          132.90     1326.0          0.08474   \n",
       "2        19.69         21.25          130.00     1203.0          0.10960   \n",
       "3        11.42         20.38           77.58      386.1          0.14250   \n",
       "4        20.29         14.34          135.10     1297.0          0.10030   \n",
       "\n",
       "   mean compactness  mean concavity  ...  worst smoothness  worst compactness  \\\n",
       "0           0.27760          0.3001  ...            0.1622             0.6656   \n",
       "1           0.07864          0.0869  ...            0.1238             0.1866   \n",
       "2           0.15990          0.1974  ...            0.1444             0.4245   \n",
       "3           0.28390          0.2414  ...            0.2098             0.8663   \n",
       "4           0.13280          0.1980  ...            0.1374             0.2050   \n",
       "\n",
       "   worst concavity  worst concave points  worst symmetry  \\\n",
       "0           0.7119                0.2654          0.4601   \n",
       "1           0.2416                0.1860          0.2750   \n",
       "2           0.4504                0.2430          0.3613   \n",
       "3           0.6869                0.2575          0.6638   \n",
       "4           0.4000                0.1625          0.2364   \n",
       "\n",
       "   worst fractal dimension  target  \n",
       "0                  0.11890       0  \n",
       "1                  0.08902       0  \n",
       "2                  0.08758       0  \n",
       "3                  0.17300       0  \n",
       "4                  0.07678       0  \n",
       "\n",
       "[5 rows x 31 columns]"
      ]
     },
     "execution_count": 159,
     "metadata": {},
     "output_type": "execute_result"
    }
   ],
   "source": [
    "from sklearn.datasets import load_breast_cancer\n",
    "\n",
    "dataset=load_breast_cancer()\n",
    "\n",
    "X_features=dataset.data\n",
    "y_label=dataset.target\n",
    "\n",
    "cancer_df=pd.DataFrame(data=X_features,columns=dataset.feature_names)\n",
    "cancer_df['target']=y_label\n",
    "cancer_df.head()"
   ]
  },
  {
   "cell_type": "code",
   "execution_count": 160,
   "metadata": {},
   "outputs": [
    {
     "name": "stdout",
     "output_type": "stream",
     "text": [
      "1    357\n",
      "0    212\n",
      "Name: target, dtype: int64\n"
     ]
    }
   ],
   "source": [
    "# 데이터의 분포 확인\n",
    "# 데이터의 비율이 한쪽으로 치우치면 가중치를 적용하던가, 층화추출을 고려해보아야 한다. \n",
    "print(cancer_df['target'].value_counts())"
   ]
  },
  {
   "cell_type": "code",
   "execution_count": 161,
   "metadata": {},
   "outputs": [
    {
     "name": "stdout",
     "output_type": "stream",
     "text": [
      "(512, 30) (57, 30)\n",
      "(512,) (57,)\n"
     ]
    }
   ],
   "source": [
    "# 학습 데이터와 훈련 데이터 분할.\n",
    "from sklearn.model_selection import train_test_split\n",
    "X_train,X_test,y_train,y_test=train_test_split(X_features,y_label,test_size=0.1,random_state=42)\n",
    "print(X_train.shape,X_test.shape)\n",
    "print(y_train.shape,y_test.shape)"
   ]
  },
  {
   "cell_type": "code",
   "execution_count": 162,
   "metadata": {},
   "outputs": [],
   "source": [
    "# xgboost 를 이용하는 경우의 데이터 생성\n",
    "import xgboost as xgb\n",
    "\n",
    "dtrain=xgb.DMatrix(data=X_train,label=y_train)\n",
    "dtest=xgb.DMatrix(data=X_test,label=y_test)"
   ]
  },
  {
   "cell_type": "code",
   "execution_count": 163,
   "metadata": {},
   "outputs": [],
   "source": [
    "# 하이퍼 파라미터\n",
    "params={\n",
    "\t'max_depth':3,\n",
    "\t'eta':0.1,\n",
    "    'objective':'binary:logistic',\n",
    "    'eval_metric':'logloss'\n",
    "}\n",
    "num_rounds=400"
   ]
  },
  {
   "cell_type": "code",
   "execution_count": 164,
   "metadata": {},
   "outputs": [
    {
     "name": "stdout",
     "output_type": "stream",
     "text": [
      "[0]\ttrain-logloss:0.61037\teval-logloss:0.61558\n",
      "[1]\ttrain-logloss:0.54069\teval-logloss:0.54872\n",
      "[2]\ttrain-logloss:0.48296\teval-logloss:0.49537\n",
      "[3]\ttrain-logloss:0.43301\teval-logloss:0.44731\n",
      "[4]\ttrain-logloss:0.39087\teval-logloss:0.40909\n",
      "[5]\ttrain-logloss:0.35407\teval-logloss:0.37329\n",
      "[6]\ttrain-logloss:0.32249\teval-logloss:0.34289\n",
      "[7]\ttrain-logloss:0.29438\teval-logloss:0.31772\n",
      "[8]\ttrain-logloss:0.26826\teval-logloss:0.29340\n",
      "[9]\ttrain-logloss:0.24606\teval-logloss:0.27084\n",
      "[10]\ttrain-logloss:0.22697\teval-logloss:0.25421\n",
      "[11]\ttrain-logloss:0.20917\teval-logloss:0.23491\n",
      "[12]\ttrain-logloss:0.19273\teval-logloss:0.22002\n",
      "[13]\ttrain-logloss:0.17816\teval-logloss:0.20474\n",
      "[14]\ttrain-logloss:0.16588\teval-logloss:0.19562\n",
      "[15]\ttrain-logloss:0.15457\teval-logloss:0.18297\n",
      "[16]\ttrain-logloss:0.14389\teval-logloss:0.17189\n",
      "[17]\ttrain-logloss:0.13372\teval-logloss:0.15872\n",
      "[18]\ttrain-logloss:0.12512\teval-logloss:0.15291\n",
      "[19]\ttrain-logloss:0.11706\teval-logloss:0.14660\n",
      "[20]\ttrain-logloss:0.10976\teval-logloss:0.13897\n",
      "[21]\ttrain-logloss:0.10305\teval-logloss:0.13119\n",
      "[22]\ttrain-logloss:0.09703\teval-logloss:0.12473\n",
      "[23]\ttrain-logloss:0.09186\teval-logloss:0.12306\n",
      "[24]\ttrain-logloss:0.08693\teval-logloss:0.11762\n",
      "[25]\ttrain-logloss:0.08257\teval-logloss:0.11456\n",
      "[26]\ttrain-logloss:0.07828\teval-logloss:0.10801\n",
      "[27]\ttrain-logloss:0.07408\teval-logloss:0.10400\n",
      "[28]\ttrain-logloss:0.07072\teval-logloss:0.10237\n",
      "[29]\ttrain-logloss:0.06731\teval-logloss:0.09995\n",
      "[30]\ttrain-logloss:0.06389\teval-logloss:0.09789\n",
      "[31]\ttrain-logloss:0.06092\teval-logloss:0.09679\n",
      "[32]\ttrain-logloss:0.05807\teval-logloss:0.09519\n",
      "[33]\ttrain-logloss:0.05488\teval-logloss:0.09367\n",
      "[34]\ttrain-logloss:0.05248\teval-logloss:0.09247\n",
      "[35]\ttrain-logloss:0.05046\teval-logloss:0.09278\n",
      "[36]\ttrain-logloss:0.04846\teval-logloss:0.09161\n",
      "[37]\ttrain-logloss:0.04656\teval-logloss:0.09155\n",
      "[38]\ttrain-logloss:0.04472\teval-logloss:0.09085\n",
      "[39]\ttrain-logloss:0.04302\teval-logloss:0.09116\n",
      "[40]\ttrain-logloss:0.04131\teval-logloss:0.08935\n",
      "[41]\ttrain-logloss:0.03981\teval-logloss:0.08890\n",
      "[42]\ttrain-logloss:0.03813\teval-logloss:0.08787\n",
      "[43]\ttrain-logloss:0.03673\teval-logloss:0.08784\n",
      "[44]\ttrain-logloss:0.03501\teval-logloss:0.08894\n",
      "[45]\ttrain-logloss:0.03382\teval-logloss:0.08947\n",
      "[46]\ttrain-logloss:0.03258\teval-logloss:0.08894\n",
      "[47]\ttrain-logloss:0.03156\teval-logloss:0.08880\n",
      "[48]\ttrain-logloss:0.03058\teval-logloss:0.08845\n",
      "[49]\ttrain-logloss:0.02963\teval-logloss:0.08918\n",
      "[50]\ttrain-logloss:0.02865\teval-logloss:0.08940\n",
      "[51]\ttrain-logloss:0.02757\teval-logloss:0.08819\n",
      "[52]\ttrain-logloss:0.02680\teval-logloss:0.08758\n",
      "[53]\ttrain-logloss:0.02587\teval-logloss:0.08649\n",
      "[54]\ttrain-logloss:0.02510\teval-logloss:0.08692\n",
      "[55]\ttrain-logloss:0.02441\teval-logloss:0.08703\n",
      "[56]\ttrain-logloss:0.02383\teval-logloss:0.08750\n",
      "[57]\ttrain-logloss:0.02315\teval-logloss:0.08843\n",
      "[58]\ttrain-logloss:0.02249\teval-logloss:0.08835\n",
      "[59]\ttrain-logloss:0.02190\teval-logloss:0.08837\n",
      "[60]\ttrain-logloss:0.02134\teval-logloss:0.08982\n",
      "[61]\ttrain-logloss:0.02074\teval-logloss:0.09166\n",
      "[62]\ttrain-logloss:0.02021\teval-logloss:0.09139\n",
      "[63]\ttrain-logloss:0.01968\teval-logloss:0.09179\n",
      "[64]\ttrain-logloss:0.01928\teval-logloss:0.09188\n",
      "[65]\ttrain-logloss:0.01880\teval-logloss:0.09216\n",
      "[66]\ttrain-logloss:0.01841\teval-logloss:0.09159\n",
      "[67]\ttrain-logloss:0.01799\teval-logloss:0.08993\n",
      "[68]\ttrain-logloss:0.01764\teval-logloss:0.09115\n",
      "[69]\ttrain-logloss:0.01722\teval-logloss:0.09218\n",
      "[70]\ttrain-logloss:0.01689\teval-logloss:0.09265\n",
      "[71]\ttrain-logloss:0.01652\teval-logloss:0.09296\n",
      "[72]\ttrain-logloss:0.01615\teval-logloss:0.09296\n",
      "[73]\ttrain-logloss:0.01578\teval-logloss:0.09290\n",
      "[74]\ttrain-logloss:0.01543\teval-logloss:0.09204\n",
      "[75]\ttrain-logloss:0.01519\teval-logloss:0.09372\n",
      "[76]\ttrain-logloss:0.01490\teval-logloss:0.09222\n",
      "[77]\ttrain-logloss:0.01457\teval-logloss:0.09324\n",
      "[78]\ttrain-logloss:0.01430\teval-logloss:0.09216\n",
      "[79]\ttrain-logloss:0.01410\teval-logloss:0.09372\n",
      "[80]\ttrain-logloss:0.01385\teval-logloss:0.09263\n",
      "[81]\ttrain-logloss:0.01365\teval-logloss:0.09312\n",
      "[82]\ttrain-logloss:0.01344\teval-logloss:0.09238\n",
      "[83]\ttrain-logloss:0.01322\teval-logloss:0.09157\n",
      "[84]\ttrain-logloss:0.01301\teval-logloss:0.09042\n",
      "[85]\ttrain-logloss:0.01284\teval-logloss:0.08952\n",
      "[86]\ttrain-logloss:0.01267\teval-logloss:0.09073\n",
      "[87]\ttrain-logloss:0.01252\teval-logloss:0.09042\n",
      "[88]\ttrain-logloss:0.01236\teval-logloss:0.09123\n",
      "[89]\ttrain-logloss:0.01217\teval-logloss:0.09148\n",
      "[90]\ttrain-logloss:0.01196\teval-logloss:0.09044\n",
      "[91]\ttrain-logloss:0.01181\teval-logloss:0.09080\n",
      "[92]\ttrain-logloss:0.01169\teval-logloss:0.09052\n",
      "[93]\ttrain-logloss:0.01150\teval-logloss:0.08956\n",
      "[94]\ttrain-logloss:0.01136\teval-logloss:0.09069\n",
      "[95]\ttrain-logloss:0.01118\teval-logloss:0.09076\n",
      "[96]\ttrain-logloss:0.01108\teval-logloss:0.09027\n",
      "[97]\ttrain-logloss:0.01099\teval-logloss:0.09078\n",
      "[98]\ttrain-logloss:0.01088\teval-logloss:0.08957\n",
      "[99]\ttrain-logloss:0.01076\teval-logloss:0.09035\n",
      "[100]\ttrain-logloss:0.01063\teval-logloss:0.09098\n",
      "[101]\ttrain-logloss:0.01054\teval-logloss:0.09117\n",
      "[102]\ttrain-logloss:0.01042\teval-logloss:0.09202\n",
      "[103]\ttrain-logloss:0.01032\teval-logloss:0.09087\n",
      "[104]\ttrain-logloss:0.01023\teval-logloss:0.09145\n",
      "[105]\ttrain-logloss:0.01014\teval-logloss:0.09154\n",
      "[106]\ttrain-logloss:0.01005\teval-logloss:0.09044\n",
      "[107]\ttrain-logloss:0.00993\teval-logloss:0.09050\n",
      "[108]\ttrain-logloss:0.00985\teval-logloss:0.08967\n",
      "[109]\ttrain-logloss:0.00978\teval-logloss:0.09024\n",
      "[110]\ttrain-logloss:0.00965\teval-logloss:0.08992\n",
      "[111]\ttrain-logloss:0.00956\teval-logloss:0.08995\n",
      "[112]\ttrain-logloss:0.00948\teval-logloss:0.09013\n",
      "[113]\ttrain-logloss:0.00942\teval-logloss:0.09066\n",
      "[114]\ttrain-logloss:0.00933\teval-logloss:0.09063\n",
      "[115]\ttrain-logloss:0.00925\teval-logloss:0.09019\n",
      "[116]\ttrain-logloss:0.00915\teval-logloss:0.09024\n",
      "[117]\ttrain-logloss:0.00908\teval-logloss:0.08946\n",
      "[118]\ttrain-logloss:0.00901\teval-logloss:0.08950\n",
      "[119]\ttrain-logloss:0.00895\teval-logloss:0.08999\n",
      "[120]\ttrain-logloss:0.00888\teval-logloss:0.09002\n",
      "[121]\ttrain-logloss:0.00881\teval-logloss:0.09021\n",
      "[122]\ttrain-logloss:0.00874\teval-logloss:0.09116\n",
      "[123]\ttrain-logloss:0.00867\teval-logloss:0.09020\n",
      "[124]\ttrain-logloss:0.00862\teval-logloss:0.09059\n",
      "[125]\ttrain-logloss:0.00856\teval-logloss:0.09019\n",
      "[126]\ttrain-logloss:0.00847\teval-logloss:0.09098\n",
      "[127]\ttrain-logloss:0.00842\teval-logloss:0.09076\n",
      "[128]\ttrain-logloss:0.00834\teval-logloss:0.09119\n",
      "[129]\ttrain-logloss:0.00829\teval-logloss:0.09156\n",
      "[130]\ttrain-logloss:0.00824\teval-logloss:0.09139\n",
      "[131]\ttrain-logloss:0.00818\teval-logloss:0.09050\n",
      "[132]\ttrain-logloss:0.00812\teval-logloss:0.09055\n",
      "[133]\ttrain-logloss:0.00808\teval-logloss:0.09033\n",
      "[134]\ttrain-logloss:0.00800\teval-logloss:0.09077\n",
      "[135]\ttrain-logloss:0.00794\teval-logloss:0.09083\n",
      "[136]\ttrain-logloss:0.00789\teval-logloss:0.09088\n",
      "[137]\ttrain-logloss:0.00785\teval-logloss:0.09067\n",
      "[138]\ttrain-logloss:0.00782\teval-logloss:0.09109\n",
      "[139]\ttrain-logloss:0.00778\teval-logloss:0.09076\n",
      "[140]\ttrain-logloss:0.00773\teval-logloss:0.08995\n",
      "[141]\ttrain-logloss:0.00768\teval-logloss:0.09009\n",
      "[142]\ttrain-logloss:0.00766\teval-logloss:0.09011\n",
      "[143]\ttrain-logloss:0.00761\teval-logloss:0.09017\n",
      "[144]\ttrain-logloss:0.00758\teval-logloss:0.08997\n",
      "[145]\ttrain-logloss:0.00755\teval-logloss:0.09000\n",
      "[146]\ttrain-logloss:0.00751\teval-logloss:0.09013\n",
      "[147]\ttrain-logloss:0.00745\teval-logloss:0.09064\n",
      "[148]\ttrain-logloss:0.00740\teval-logloss:0.09032\n",
      "[149]\ttrain-logloss:0.00738\teval-logloss:0.09034\n",
      "[150]\ttrain-logloss:0.00734\teval-logloss:0.08974\n",
      "[151]\ttrain-logloss:0.00728\teval-logloss:0.08976\n",
      "[152]\ttrain-logloss:0.00725\teval-logloss:0.08965\n",
      "[153]\ttrain-logloss:0.00723\teval-logloss:0.08968\n"
     ]
    }
   ],
   "source": [
    "# 훈련 데이터와 검증 데이터 생성. \n",
    "# train 데이터 셋은 ‘train’ , evaluation(test) 데이터 셋은 ‘eval’ 로 명기합니다. \n",
    "wlist = [(dtrain,'train'),(dtest,'eval') ]\n",
    "# 하이퍼 파라미터와 early stopping 파라미터를 train( ) 함수의 파라미터로 전달\n",
    "xgb_model = xgb.train(params = params , dtrain=dtrain , num_boost_round=num_rounds , \\\n",
    "                      early_stopping_rounds=100, evals=wlist )"
   ]
  },
  {
   "cell_type": "code",
   "execution_count": 165,
   "metadata": {},
   "outputs": [
    {
     "name": "stdout",
     "output_type": "stream",
     "text": [
      "predict( ) 수행 결과값을 10개만 표시, 예측 확률 값으로 표시됨\n",
      "[0.992 0.001 0.    1.    1.    0.    0.001 0.224 0.41  0.999]\n",
      "예측값 10개만 표시: [1, 0, 0, 1, 1, 0, 0, 0, 0, 1]\n"
     ]
    }
   ],
   "source": [
    "pred_probs = xgb_model.predict(dtest)\n",
    "print('predict( ) 수행 결과값을 10개만 표시, 예측 확률 값으로 표시됨')\n",
    "print(np.round(pred_probs[:10],3))\n",
    "\n",
    "# 예측 확률이 0.5 보다 크면 1 , 그렇지 않으면 0 으로 예측값 결정하여 List 객체인 preds에 저장 \n",
    "# 임계치를 정해서 해당 값보다 높으면 1로 판단, 낮으면 0으로 판단한다.\n",
    "preds = [ 1 if x > 0.5 else 0 for x in pred_probs ]\n",
    "print('예측값 10개만 표시:',preds[:10])"
   ]
  },
  {
   "cell_type": "code",
   "execution_count": 166,
   "metadata": {},
   "outputs": [
    {
     "name": "stdout",
     "output_type": "stream",
     "text": [
      "[[16  1]\n",
      " [ 1 39]]\n",
      "0.9649122807017544\n",
      "0.975\n",
      "0.975\n",
      "              precision    recall  f1-score   support\n",
      "\n",
      "           0       0.94      0.94      0.94        17\n",
      "           1       0.97      0.97      0.97        40\n",
      "\n",
      "    accuracy                           0.96        57\n",
      "   macro avg       0.96      0.96      0.96        57\n",
      "weighted avg       0.96      0.96      0.96        57\n",
      "\n",
      "0.975\n"
     ]
    }
   ],
   "source": [
    "# 평가 지표 확인\n",
    "from sklearn.metrics import confusion_matrix,accuracy_score\n",
    "from sklearn.metrics import precision_score,recall_score\n",
    "from sklearn.metrics import f1_score,roc_auc_score\n",
    "from sklearn.metrics import classification_report\n",
    "\n",
    "confusion=confusion_matrix(y_test,preds)\n",
    "print(confusion)\n",
    "\n",
    "# 정확도\n",
    "accuracy=accuracy_score(y_test,preds)\n",
    "print(accuracy)\n",
    "\n",
    "# 정밀도\n",
    "precision=precision_score(y_test,preds)\n",
    "print(precision)\n",
    "\n",
    "# 재현율 - 실제 T 중 T로 판단한 개수\n",
    "recall = recall_score(y_test,preds)\n",
    "print(recall)\n",
    "\n",
    "print(classification_report(y_test,preds))\n",
    "\n",
    "# f1-score : 정밀도와 재현율의 조화 평균\n",
    "f1=f1_score(y_test,preds)\n",
    "print(f1)"
   ]
  },
  {
   "cell_type": "code",
   "execution_count": 167,
   "metadata": {},
   "outputs": [
    {
     "name": "stdout",
     "output_type": "stream",
     "text": [
      "오차 행렬\n",
      "[[16  1]\n",
      " [ 1 39]]\n",
      "정확도: 0.9649, 정밀도: 0.9750, 재현율: 0.9750,    F1: 0.9750, AUC:0.9926\n"
     ]
    }
   ],
   "source": [
    "from sklearn.metrics import confusion_matrix, accuracy_score\n",
    "from sklearn.metrics import precision_score, recall_score\n",
    "from sklearn.metrics import f1_score, roc_auc_score\n",
    "\n",
    "def get_clf_eval(y_test, pred=None, pred_proba=None):\n",
    "    confusion = confusion_matrix( y_test, pred)\n",
    "    accuracy = accuracy_score(y_test , pred)\n",
    "    precision = precision_score(y_test , pred)\n",
    "    recall = recall_score(y_test , pred)\n",
    "    f1 = f1_score(y_test,pred)\n",
    "    # ROC-AUC 추가 \n",
    "    roc_auc = roc_auc_score(y_test, pred_proba)\n",
    "    print('오차 행렬')\n",
    "    print(confusion)\n",
    "    # ROC-AUC print 추가\n",
    "    print('정확도: {0:.4f}, 정밀도: {1:.4f}, 재현율: {2:.4f},\\\n",
    "    F1: {3:.4f}, AUC:{4:.4f}'.format(accuracy, precision, recall, f1, roc_auc))\n",
    "    \n",
    "get_clf_eval(y_test , preds, pred_probs)"
   ]
  },
  {
   "cell_type": "code",
   "execution_count": 168,
   "metadata": {},
   "outputs": [
    {
     "data": {
      "text/plain": [
       "<Axes: title={'center': 'Feature importance'}, xlabel='F score', ylabel='Features'>"
      ]
     },
     "execution_count": 168,
     "metadata": {},
     "output_type": "execute_result"
    },
    {
     "data": {
      "image/png": "[encoded data removed]",
      "text/plain": [
       "<Figure size 1000x1200 with 1 Axes>"
      ]
     },
     "metadata": {},
     "output_type": "display_data"
    }
   ],
   "source": [
    "from xgboost import plot_importance\n",
    "import matplotlib.pyplot as plt\n",
    "\n",
    "fig,ax=plt.subplots(figsize=(10,12))\n",
    "plot_importance(xgb_model,ax=ax)"
   ]
  },
  {
   "cell_type": "code",
   "execution_count": 169,
   "metadata": {},
   "outputs": [],
   "source": [
    "# 트리 기반이라 to_graphviz() API를 이용해 시각화 가능.\n",
    "# cv() API를 이용해 교차 검증도 가능하다. "
   ]
  },
  {
   "cell_type": "markdown",
   "metadata": {},
   "source": [
    "# Light GBM"
   ]
  },
  {
   "cell_type": "code",
   "execution_count": 170,
   "metadata": {},
   "outputs": [
    {
     "name": "stdout",
     "output_type": "stream",
     "text": [
      "[1]\tvalid_0's binary_logloss: 0.549362\n",
      "[2]\tvalid_0's binary_logloss: 0.493936\n",
      "[3]\tvalid_0's binary_logloss: 0.442048\n",
      "[4]\tvalid_0's binary_logloss: 0.401232\n",
      "[5]\tvalid_0's binary_logloss: 0.364737\n",
      "[6]\tvalid_0's binary_logloss: 0.337392\n",
      "[7]\tvalid_0's binary_logloss: 0.308468\n",
      "[8]\tvalid_0's binary_logloss: 0.285292\n",
      "[9]\tvalid_0's binary_logloss: 0.26444\n",
      "[10]\tvalid_0's binary_logloss: 0.243656\n",
      "[11]\tvalid_0's binary_logloss: 0.227468\n",
      "[12]\tvalid_0's binary_logloss: 0.213536\n",
      "[13]\tvalid_0's binary_logloss: 0.20074\n",
      "[14]\tvalid_0's binary_logloss: 0.190849\n",
      "[15]\tvalid_0's binary_logloss: 0.183704\n",
      "[16]\tvalid_0's binary_logloss: 0.176076\n",
      "[17]\tvalid_0's binary_logloss: 0.168509\n",
      "[18]\tvalid_0's binary_logloss: 0.163211\n",
      "[19]\tvalid_0's binary_logloss: 0.158848\n",
      "[20]\tvalid_0's binary_logloss: 0.149449\n",
      "[21]\tvalid_0's binary_logloss: 0.145378\n",
      "[22]\tvalid_0's binary_logloss: 0.143931\n",
      "[23]\tvalid_0's binary_logloss: 0.139705\n",
      "[24]\tvalid_0's binary_logloss: 0.136737\n",
      "[25]\tvalid_0's binary_logloss: 0.134318\n",
      "[26]\tvalid_0's binary_logloss: 0.129474\n",
      "[27]\tvalid_0's binary_logloss: 0.127784\n",
      "[28]\tvalid_0's binary_logloss: 0.127371\n",
      "[29]\tvalid_0's binary_logloss: 0.122978\n",
      "[30]\tvalid_0's binary_logloss: 0.121206\n",
      "[31]\tvalid_0's binary_logloss: 0.12076\n",
      "[32]\tvalid_0's binary_logloss: 0.123904\n",
      "[33]\tvalid_0's binary_logloss: 0.121943\n",
      "[34]\tvalid_0's binary_logloss: 0.122589\n",
      "[35]\tvalid_0's binary_logloss: 0.120711\n",
      "[36]\tvalid_0's binary_logloss: 0.121632\n",
      "[37]\tvalid_0's binary_logloss: 0.122477\n",
      "[38]\tvalid_0's binary_logloss: 0.12121\n",
      "[39]\tvalid_0's binary_logloss: 0.119545\n",
      "[40]\tvalid_0's binary_logloss: 0.123089\n",
      "[41]\tvalid_0's binary_logloss: 0.124157\n",
      "[42]\tvalid_0's binary_logloss: 0.122629\n",
      "[43]\tvalid_0's binary_logloss: 0.124347\n",
      "[44]\tvalid_0's binary_logloss: 0.124349\n",
      "[45]\tvalid_0's binary_logloss: 0.125132\n",
      "[46]\tvalid_0's binary_logloss: 0.127139\n",
      "[47]\tvalid_0's binary_logloss: 0.128095\n",
      "[48]\tvalid_0's binary_logloss: 0.12944\n",
      "[49]\tvalid_0's binary_logloss: 0.130184\n",
      "[50]\tvalid_0's binary_logloss: 0.132281\n",
      "[51]\tvalid_0's binary_logloss: 0.134246\n",
      "[52]\tvalid_0's binary_logloss: 0.134935\n",
      "[53]\tvalid_0's binary_logloss: 0.132292\n",
      "[54]\tvalid_0's binary_logloss: 0.133247\n",
      "[55]\tvalid_0's binary_logloss: 0.132572\n",
      "[56]\tvalid_0's binary_logloss: 0.133267\n",
      "[57]\tvalid_0's binary_logloss: 0.128542\n",
      "[58]\tvalid_0's binary_logloss: 0.130023\n",
      "[59]\tvalid_0's binary_logloss: 0.133158\n",
      "[60]\tvalid_0's binary_logloss: 0.136222\n",
      "[61]\tvalid_0's binary_logloss: 0.138047\n",
      "[62]\tvalid_0's binary_logloss: 0.140112\n",
      "[63]\tvalid_0's binary_logloss: 0.139893\n",
      "[64]\tvalid_0's binary_logloss: 0.143109\n",
      "[65]\tvalid_0's binary_logloss: 0.14577\n",
      "[66]\tvalid_0's binary_logloss: 0.147416\n",
      "[67]\tvalid_0's binary_logloss: 0.147261\n",
      "[68]\tvalid_0's binary_logloss: 0.149235\n",
      "[69]\tvalid_0's binary_logloss: 0.151455\n",
      "[70]\tvalid_0's binary_logloss: 0.155111\n",
      "[71]\tvalid_0's binary_logloss: 0.151699\n",
      "[72]\tvalid_0's binary_logloss: 0.148586\n",
      "[73]\tvalid_0's binary_logloss: 0.149751\n",
      "[74]\tvalid_0's binary_logloss: 0.149378\n",
      "[75]\tvalid_0's binary_logloss: 0.145357\n",
      "[76]\tvalid_0's binary_logloss: 0.146727\n",
      "[77]\tvalid_0's binary_logloss: 0.150889\n",
      "[78]\tvalid_0's binary_logloss: 0.152341\n",
      "[79]\tvalid_0's binary_logloss: 0.150389\n",
      "[80]\tvalid_0's binary_logloss: 0.15212\n",
      "[81]\tvalid_0's binary_logloss: 0.153527\n",
      "[82]\tvalid_0's binary_logloss: 0.156135\n",
      "[83]\tvalid_0's binary_logloss: 0.157253\n",
      "[84]\tvalid_0's binary_logloss: 0.15703\n",
      "[85]\tvalid_0's binary_logloss: 0.159436\n",
      "[86]\tvalid_0's binary_logloss: 0.158127\n",
      "[87]\tvalid_0's binary_logloss: 0.155287\n",
      "[88]\tvalid_0's binary_logloss: 0.158724\n",
      "[89]\tvalid_0's binary_logloss: 0.158426\n",
      "[90]\tvalid_0's binary_logloss: 0.15895\n",
      "[91]\tvalid_0's binary_logloss: 0.160272\n",
      "[92]\tvalid_0's binary_logloss: 0.158936\n",
      "[93]\tvalid_0's binary_logloss: 0.159847\n",
      "[94]\tvalid_0's binary_logloss: 0.161036\n",
      "[95]\tvalid_0's binary_logloss: 0.160443\n",
      "[96]\tvalid_0's binary_logloss: 0.161714\n",
      "[97]\tvalid_0's binary_logloss: 0.1637\n",
      "[98]\tvalid_0's binary_logloss: 0.165094\n",
      "[99]\tvalid_0's binary_logloss: 0.167028\n",
      "[100]\tvalid_0's binary_logloss: 0.167555\n",
      "[101]\tvalid_0's binary_logloss: 0.166082\n",
      "[102]\tvalid_0's binary_logloss: 0.167079\n",
      "[103]\tvalid_0's binary_logloss: 0.170629\n",
      "[104]\tvalid_0's binary_logloss: 0.173581\n",
      "[105]\tvalid_0's binary_logloss: 0.17478\n",
      "[106]\tvalid_0's binary_logloss: 0.17928\n",
      "[107]\tvalid_0's binary_logloss: 0.180548\n",
      "[108]\tvalid_0's binary_logloss: 0.183251\n",
      "[109]\tvalid_0's binary_logloss: 0.180445\n",
      "[110]\tvalid_0's binary_logloss: 0.17942\n",
      "[111]\tvalid_0's binary_logloss: 0.182089\n",
      "[112]\tvalid_0's binary_logloss: 0.183893\n",
      "[113]\tvalid_0's binary_logloss: 0.185185\n",
      "[114]\tvalid_0's binary_logloss: 0.187719\n",
      "[115]\tvalid_0's binary_logloss: 0.184294\n",
      "[116]\tvalid_0's binary_logloss: 0.185052\n",
      "[117]\tvalid_0's binary_logloss: 0.181706\n",
      "[118]\tvalid_0's binary_logloss: 0.184808\n",
      "[119]\tvalid_0's binary_logloss: 0.188122\n",
      "[120]\tvalid_0's binary_logloss: 0.183483\n",
      "[121]\tvalid_0's binary_logloss: 0.187348\n",
      "[122]\tvalid_0's binary_logloss: 0.187207\n",
      "[123]\tvalid_0's binary_logloss: 0.183811\n",
      "[124]\tvalid_0's binary_logloss: 0.185588\n",
      "[125]\tvalid_0's binary_logloss: 0.184204\n",
      "[126]\tvalid_0's binary_logloss: 0.188155\n",
      "[127]\tvalid_0's binary_logloss: 0.189416\n",
      "[128]\tvalid_0's binary_logloss: 0.190969\n",
      "[129]\tvalid_0's binary_logloss: 0.188313\n",
      "[130]\tvalid_0's binary_logloss: 0.190524\n",
      "[131]\tvalid_0's binary_logloss: 0.194842\n",
      "[132]\tvalid_0's binary_logloss: 0.193485\n",
      "[133]\tvalid_0's binary_logloss: 0.195565\n",
      "[134]\tvalid_0's binary_logloss: 0.197733\n",
      "[135]\tvalid_0's binary_logloss: 0.199379\n",
      "[136]\tvalid_0's binary_logloss: 0.203316\n",
      "[137]\tvalid_0's binary_logloss: 0.204514\n",
      "[138]\tvalid_0's binary_logloss: 0.202235\n",
      "[139]\tvalid_0's binary_logloss: 0.205083\n"
     ]
    },
    {
     "data": {
      "text/html": [
       "<style>#sk-container-id-9 {color: black;background-color: white;}#sk-container-id-9 pre{padding: 0;}#sk-container-id-9 div.sk-toggleable {background-color: white;}#sk-container-id-9 label.sk-toggleable__label {cursor: pointer;display: block;width: 100%;margin-bottom: 0;padding: 0.3em;box-sizing: border-box;text-align: center;}#sk-container-id-9 label.sk-toggleable__label-arrow:before {content: \"▸\";float: left;margin-right: 0.25em;color: #696969;}#sk-container-id-9 label.sk-toggleable__label-arrow:hover:before {color: black;}#sk-container-id-9 div.sk-estimator:hover label.sk-toggleable__label-arrow:before {color: black;}#sk-container-id-9 div.sk-toggleable__content {max-height: 0;max-width: 0;overflow: hidden;text-align: left;background-color: #f0f8ff;}#sk-container-id-9 div.sk-toggleable__content pre {margin: 0.2em;color: black;border-radius: 0.25em;background-color: #f0f8ff;}#sk-container-id-9 input.sk-toggleable__control:checked~div.sk-toggleable__content {max-height: 200px;max-width: 100%;overflow: auto;}#sk-container-id-9 input.sk-toggleable__control:checked~label.sk-toggleable__label-arrow:before {content: \"▾\";}#sk-container-id-9 div.sk-estimator input.sk-toggleable__control:checked~label.sk-toggleable__label {background-color: #d4ebff;}#sk-container-id-9 div.sk-label input.sk-toggleable__control:checked~label.sk-toggleable__label {background-color: #d4ebff;}#sk-container-id-9 input.sk-hidden--visually {border: 0;clip: rect(1px 1px 1px 1px);clip: rect(1px, 1px, 1px, 1px);height: 1px;margin: -1px;overflow: hidden;padding: 0;position: absolute;width: 1px;}#sk-container-id-9 div.sk-estimator {font-family: monospace;background-color: #f0f8ff;border: 1px dotted black;border-radius: 0.25em;box-sizing: border-box;margin-bottom: 0.5em;}#sk-container-id-9 div.sk-estimator:hover {background-color: #d4ebff;}#sk-container-id-9 div.sk-parallel-item::after {content: \"\";width: 100%;border-bottom: 1px solid gray;flex-grow: 1;}#sk-container-id-9 div.sk-label:hover label.sk-toggleable__label {background-color: #d4ebff;}#sk-container-id-9 div.sk-serial::before {content: \"\";position: absolute;border-left: 1px solid gray;box-sizing: border-box;top: 0;bottom: 0;left: 50%;z-index: 0;}#sk-container-id-9 div.sk-serial {display: flex;flex-direction: column;align-items: center;background-color: white;padding-right: 0.2em;padding-left: 0.2em;position: relative;}#sk-container-id-9 div.sk-item {position: relative;z-index: 1;}#sk-container-id-9 div.sk-parallel {display: flex;align-items: stretch;justify-content: center;background-color: white;position: relative;}#sk-container-id-9 div.sk-item::before, #sk-container-id-9 div.sk-parallel-item::before {content: \"\";position: absolute;border-left: 1px solid gray;box-sizing: border-box;top: 0;bottom: 0;left: 50%;z-index: -1;}#sk-container-id-9 div.sk-parallel-item {display: flex;flex-direction: column;z-index: 1;position: relative;background-color: white;}#sk-container-id-9 div.sk-parallel-item:first-child::after {align-self: flex-end;width: 50%;}#sk-container-id-9 div.sk-parallel-item:last-child::after {align-self: flex-start;width: 50%;}#sk-container-id-9 div.sk-parallel-item:only-child::after {width: 0;}#sk-container-id-9 div.sk-dashed-wrapped {border: 1px dashed gray;margin: 0 0.4em 0.5em 0.4em;box-sizing: border-box;padding-bottom: 0.4em;background-color: white;}#sk-container-id-9 div.sk-label label {font-family: monospace;font-weight: bold;display: inline-block;line-height: 1.2em;}#sk-container-id-9 div.sk-label-container {text-align: center;}#sk-container-id-9 div.sk-container {/* jupyter's `normalize.less` sets `[hidden] { display: none; }` but bootstrap.min.css set `[hidden] { display: none !important; }` so we also need the `!important` here to be able to override the default hidden behavior on the sphinx rendered scikit-learn.org. See: https://github.com/scikit-learn/scikit-learn/issues/21755 */display: inline-block !important;position: relative;}#sk-container-id-9 div.sk-text-repr-fallback {display: none;}</style><div id=\"sk-container-id-9\" class=\"sk-top-container\"><div class=\"sk-text-repr-fallback\"><pre>LGBMClassifier(n_estimators=400)</pre><b>In a Jupyter environment, please rerun this cell to show the HTML representation or trust the notebook. <br />On GitHub, the HTML representation is unable to render, please try loading this page with nbviewer.org.</b></div><div class=\"sk-container\" hidden><div class=\"sk-item\"><div class=\"sk-estimator sk-toggleable\"><input class=\"sk-toggleable__control sk-hidden--visually\" id=\"sk-estimator-id-18\" type=\"checkbox\" checked><label for=\"sk-estimator-id-18\" class=\"sk-toggleable__label sk-toggleable__label-arrow\">LGBMClassifier</label><div class=\"sk-toggleable__content\"><pre>LGBMClassifier(n_estimators=400)</pre></div></div></div></div></div>"
      ],
      "text/plain": [
       "LGBMClassifier(n_estimators=400)"
      ]
     },
     "execution_count": 170,
     "metadata": {},
     "output_type": "execute_result"
    }
   ],
   "source": [
    "from lightgbm import LGBMClassifier\n",
    "\n",
    "# 예측기의 개수를 400으로 해서 LightGBM모델 생성\n",
    "lgbm_clf=LGBMClassifier(n_estimators=400)\n",
    "\n",
    "# 평가 데이터 생ㅇ성\n",
    "evals=[(X_test,y_test)]\n",
    "lgbm_clf.fit(X_train,y_train,early_stopping_rounds=100,eval_metric='logloss',eval_set=evals,verbose=True)"
   ]
  },
  {
   "cell_type": "code",
   "execution_count": 171,
   "metadata": {},
   "outputs": [
    {
     "name": "stdout",
     "output_type": "stream",
     "text": [
      "[1 0 0 1 1 0 0 0 0 1 1 0 1 0 1 0 1 1 1 0 1 1 0 1 1 1 1 1 1 0 1 1 1 1 1 1 0\n",
      " 1 0 1 1 0 1 1 1 1 1 1 1 1 0 0 1 1 1 1 1]\n"
     ]
    }
   ],
   "source": [
    "preds = lgbm_clf.predict(X_test)\n",
    "pred_proba = lgbm_clf.predict_proba(X_test)[:, 1]\n",
    "print(preds)"
   ]
  },
  {
   "cell_type": "code",
   "execution_count": 172,
   "metadata": {},
   "outputs": [
    {
     "name": "stdout",
     "output_type": "stream",
     "text": [
      "오차 행렬\n",
      "[[16  1]\n",
      " [ 1 39]]\n",
      "정확도: 0.9649, 정밀도: 0.9750, 재현율: 0.9750,    F1: 0.9750, AUC:0.9926\n"
     ]
    }
   ],
   "source": [
    "from sklearn.metrics import confusion_matrix, accuracy_score\n",
    "from sklearn.metrics import precision_score, recall_score\n",
    "from sklearn.metrics import f1_score, roc_auc_score\n",
    "\n",
    "def get_clf_eval(y_test, pred=None, pred_proba=None):\n",
    "    confusion = confusion_matrix( y_test, pred)\n",
    "    accuracy = accuracy_score(y_test , pred)\n",
    "    precision = precision_score(y_test , pred)\n",
    "    recall = recall_score(y_test , pred)\n",
    "    f1 = f1_score(y_test,pred)\n",
    "    # ROC-AUC 추가 \n",
    "    roc_auc = roc_auc_score(y_test, pred_proba)\n",
    "    print('오차 행렬')\n",
    "    print(confusion)\n",
    "    # ROC-AUC print 추가\n",
    "    print('정확도: {0:.4f}, 정밀도: {1:.4f}, 재현율: {2:.4f},\\\n",
    "    F1: {3:.4f}, AUC:{4:.4f}'.format(accuracy, precision, recall, f1, roc_auc))\n",
    "    \n",
    "get_clf_eval(y_test , preds, pred_probs)"
   ]
  },
  {
   "cell_type": "markdown",
   "metadata": {},
   "source": [
    "## Stacking"
   ]
  },
  {
   "cell_type": "markdown",
   "metadata": {},
   "source": [
    "#### 위스콘신 유방암 데이터를 가지고 개별 훈련기와 stacking 의 차이를 학습한다. "
   ]
  },
  {
   "cell_type": "code",
   "execution_count": 173,
   "metadata": {},
   "outputs": [],
   "source": [
    "import numpy as np\n",
    "from sklearn.neighbors import KNeighborsClassifier\n",
    "from sklearn.tree import DecisionTreeClassifier\n",
    "from sklearn.linear_model import LogisticRegression\n",
    "from sklearn.ensemble import RandomForestClassifier\n",
    "from sklearn.ensemble import AdaBoostClassifier\n",
    "\n",
    "from sklearn.datasets import load_breast_cancer\n",
    "from sklearn.model_selection import train_test_split\n",
    "from sklearn.metrics import accuracy_score\n",
    "\n",
    "cancer_data = load_breast_cancer()\n",
    "\n",
    "X_data = cancer_data.data\n",
    "y_label = cancer_data.target\n",
    "\n",
    "X_train , X_test , y_train , y_test = train_test_split(X_data , y_label , test_size=0.2 , random_state=0)\n"
   ]
  },
  {
   "cell_type": "code",
   "execution_count": 174,
   "metadata": {},
   "outputs": [],
   "source": [
    "# 개별 ML 모델을 위한 Classifier 생성.\n",
    "knn_clf  = KNeighborsClassifier(n_neighbors=4)\n",
    "rf_clf = RandomForestClassifier(n_estimators=100, random_state=0)\n",
    "dt_clf = DecisionTreeClassifier()\n",
    "ada_clf = AdaBoostClassifier(n_estimators=100)\n",
    "\n",
    "# 최종 Stacking 모델을 위한 Classifier생성. \n",
    "lr_final = LogisticRegression(C=10)"
   ]
  },
  {
   "cell_type": "code",
   "execution_count": 175,
   "metadata": {},
   "outputs": [
    {
     "data": {
      "text/html": [
       "<style>#sk-container-id-10 {color: black;background-color: white;}#sk-container-id-10 pre{padding: 0;}#sk-container-id-10 div.sk-toggleable {background-color: white;}#sk-container-id-10 label.sk-toggleable__label {cursor: pointer;display: block;width: 100%;margin-bottom: 0;padding: 0.3em;box-sizing: border-box;text-align: center;}#sk-container-id-10 label.sk-toggleable__label-arrow:before {content: \"▸\";float: left;margin-right: 0.25em;color: #696969;}#sk-container-id-10 label.sk-toggleable__label-arrow:hover:before {color: black;}#sk-container-id-10 div.sk-estimator:hover label.sk-toggleable__label-arrow:before {color: black;}#sk-container-id-10 div.sk-toggleable__content {max-height: 0;max-width: 0;overflow: hidden;text-align: left;background-color: #f0f8ff;}#sk-container-id-10 div.sk-toggleable__content pre {margin: 0.2em;color: black;border-radius: 0.25em;background-color: #f0f8ff;}#sk-container-id-10 input.sk-toggleable__control:checked~div.sk-toggleable__content {max-height: 200px;max-width: 100%;overflow: auto;}#sk-container-id-10 input.sk-toggleable__control:checked~label.sk-toggleable__label-arrow:before {content: \"▾\";}#sk-container-id-10 div.sk-estimator input.sk-toggleable__control:checked~label.sk-toggleable__label {background-color: #d4ebff;}#sk-container-id-10 div.sk-label input.sk-toggleable__control:checked~label.sk-toggleable__label {background-color: #d4ebff;}#sk-container-id-10 input.sk-hidden--visually {border: 0;clip: rect(1px 1px 1px 1px);clip: rect(1px, 1px, 1px, 1px);height: 1px;margin: -1px;overflow: hidden;padding: 0;position: absolute;width: 1px;}#sk-container-id-10 div.sk-estimator {font-family: monospace;background-color: #f0f8ff;border: 1px dotted black;border-radius: 0.25em;box-sizing: border-box;margin-bottom: 0.5em;}#sk-container-id-10 div.sk-estimator:hover {background-color: #d4ebff;}#sk-container-id-10 div.sk-parallel-item::after {content: \"\";width: 100%;border-bottom: 1px solid gray;flex-grow: 1;}#sk-container-id-10 div.sk-label:hover label.sk-toggleable__label {background-color: #d4ebff;}#sk-container-id-10 div.sk-serial::before {content: \"\";position: absolute;border-left: 1px solid gray;box-sizing: border-box;top: 0;bottom: 0;left: 50%;z-index: 0;}#sk-container-id-10 div.sk-serial {display: flex;flex-direction: column;align-items: center;background-color: white;padding-right: 0.2em;padding-left: 0.2em;position: relative;}#sk-container-id-10 div.sk-item {position: relative;z-index: 1;}#sk-container-id-10 div.sk-parallel {display: flex;align-items: stretch;justify-content: center;background-color: white;position: relative;}#sk-container-id-10 div.sk-item::before, #sk-container-id-10 div.sk-parallel-item::before {content: \"\";position: absolute;border-left: 1px solid gray;box-sizing: border-box;top: 0;bottom: 0;left: 50%;z-index: -1;}#sk-container-id-10 div.sk-parallel-item {display: flex;flex-direction: column;z-index: 1;position: relative;background-color: white;}#sk-container-id-10 div.sk-parallel-item:first-child::after {align-self: flex-end;width: 50%;}#sk-container-id-10 div.sk-parallel-item:last-child::after {align-self: flex-start;width: 50%;}#sk-container-id-10 div.sk-parallel-item:only-child::after {width: 0;}#sk-container-id-10 div.sk-dashed-wrapped {border: 1px dashed gray;margin: 0 0.4em 0.5em 0.4em;box-sizing: border-box;padding-bottom: 0.4em;background-color: white;}#sk-container-id-10 div.sk-label label {font-family: monospace;font-weight: bold;display: inline-block;line-height: 1.2em;}#sk-container-id-10 div.sk-label-container {text-align: center;}#sk-container-id-10 div.sk-container {/* jupyter's `normalize.less` sets `[hidden] { display: none; }` but bootstrap.min.css set `[hidden] { display: none !important; }` so we also need the `!important` here to be able to override the default hidden behavior on the sphinx rendered scikit-learn.org. See: https://github.com/scikit-learn/scikit-learn/issues/21755 */display: inline-block !important;position: relative;}#sk-container-id-10 div.sk-text-repr-fallback {display: none;}</style><div id=\"sk-container-id-10\" class=\"sk-top-container\"><div class=\"sk-text-repr-fallback\"><pre>AdaBoostClassifier(n_estimators=100)</pre><b>In a Jupyter environment, please rerun this cell to show the HTML representation or trust the notebook. <br />On GitHub, the HTML representation is unable to render, please try loading this page with nbviewer.org.</b></div><div class=\"sk-container\" hidden><div class=\"sk-item\"><div class=\"sk-estimator sk-toggleable\"><input class=\"sk-toggleable__control sk-hidden--visually\" id=\"sk-estimator-id-19\" type=\"checkbox\" checked><label for=\"sk-estimator-id-19\" class=\"sk-toggleable__label sk-toggleable__label-arrow\">AdaBoostClassifier</label><div class=\"sk-toggleable__content\"><pre>AdaBoostClassifier(n_estimators=100)</pre></div></div></div></div></div>"
      ],
      "text/plain": [
       "AdaBoostClassifier(n_estimators=100)"
      ]
     },
     "execution_count": 175,
     "metadata": {},
     "output_type": "execute_result"
    }
   ],
   "source": [
    "# 개별 모델들을 학습. \n",
    "knn_clf.fit(X_train, y_train)\n",
    "rf_clf.fit(X_train , y_train)\n",
    "dt_clf.fit(X_train , y_train)\n",
    "ada_clf.fit(X_train, y_train)"
   ]
  },
  {
   "cell_type": "code",
   "execution_count": 176,
   "metadata": {},
   "outputs": [
    {
     "name": "stdout",
     "output_type": "stream",
     "text": [
      "KNN 정확도: 0.9211\n",
      "랜덤 포레스트 정확도: 0.9649\n",
      "결정 트리 정확도: 0.9123\n",
      "에이다부스트 정확도: 0.9561\n"
     ]
    }
   ],
   "source": [
    "# 학습된 개별 모델들이 각자 반환하는 예측 데이터 셋을 생성하고 개별 모델의 정확도 측정. \n",
    "knn_pred = knn_clf.predict(X_test)\n",
    "rf_pred = rf_clf.predict(X_test)\n",
    "dt_pred = dt_clf.predict(X_test)\n",
    "ada_pred = ada_clf.predict(X_test)\n",
    "\n",
    "print('KNN 정확도: {0:.4f}'.format(accuracy_score(y_test, knn_pred)))\n",
    "print('랜덤 포레스트 정확도: {0:.4f}'.format(accuracy_score(y_test, rf_pred)))\n",
    "print('결정 트리 정확도: {0:.4f}'.format(accuracy_score(y_test, dt_pred)))\n",
    "print('에이다부스트 정확도: {0:.4f}'.format(accuracy_score(y_test, ada_pred)))"
   ]
  },
  {
   "cell_type": "code",
   "execution_count": 177,
   "metadata": {},
   "outputs": [
    {
     "name": "stdout",
     "output_type": "stream",
     "text": [
      "(4, 114)\n",
      "(114, 4)\n"
     ]
    }
   ],
   "source": [
    "pred = np.array([knn_pred, rf_pred, dt_pred, ada_pred])\n",
    "print(pred.shape)\n",
    "\n",
    "# transpose를 이용해 행과 열의 위치 교환. 컬럼 레벨로 각 알고리즘의 예측 결과를 피처로 만듦. \n",
    "pred = np.transpose(pred)\n",
    "print(pred.shape)"
   ]
  },
  {
   "cell_type": "code",
   "execution_count": 178,
   "metadata": {},
   "outputs": [
    {
     "name": "stdout",
     "output_type": "stream",
     "text": [
      "최종 메타 모델의 예측 정확도: 0.9737\n"
     ]
    }
   ],
   "source": [
    "lr_final.fit(pred, y_test)\n",
    "final = lr_final.predict(pred)\n",
    "\n",
    "print('최종 메타 모델의 예측 정확도: {0:.4f}'.format(accuracy_score(y_test , final)))"
   ]
  },
  {
   "cell_type": "markdown",
   "metadata": {},
   "source": [
    "# Kaggle Data 분류하기\n",
    "- 범주형 데이터를 구성된 피처를 이용한 이진 분류"
   ]
  },
  {
   "cell_type": "code",
   "execution_count": 179,
   "metadata": {},
   "outputs": [
    {
     "name": "stdout",
     "output_type": "stream",
     "text": [
      "(300000, 24)\n"
     ]
    }
   ],
   "source": [
    "train=pd.read_csv('./kaggle/cat-in-the-dat/train.csv',index_col='id')\n",
    "train\n",
    "train_y=train['target']\n",
    "train_X=train.drop('target',axis=1)\n",
    "print(train.shape)"
   ]
  },
  {
   "cell_type": "code",
   "execution_count": 180,
   "metadata": {},
   "outputs": [
    {
     "name": "stdout",
     "output_type": "stream",
     "text": [
      "(200000, 23)\n"
     ]
    }
   ],
   "source": [
    "test=pd.read_csv('./kaggle/cat-in-the-dat/test.csv',index_col='id')\n",
    "test\n",
    "# test_y=test['target']\n",
    "# test_X=test.drop('target',axis=1)\n",
    "# test_X\n",
    "print(test.shape)"
   ]
  },
  {
   "cell_type": "code",
   "execution_count": 181,
   "metadata": {},
   "outputs": [
    {
     "data": {
      "text/html": [
       "<div>\n",
       "<style scoped>\n",
       "    .dataframe tbody tr th:only-of-type {\n",
       "        vertical-align: middle;\n",
       "    }\n",
       "\n",
       "    .dataframe tbody tr th {\n",
       "        vertical-align: top;\n",
       "    }\n",
       "\n",
       "    .dataframe thead th {\n",
       "        text-align: right;\n",
       "    }\n",
       "</style>\n",
       "<table border=\"1\" class=\"dataframe\">\n",
       "  <thead>\n",
       "    <tr style=\"text-align: right;\">\n",
       "      <th></th>\n",
       "      <th>target</th>\n",
       "    </tr>\n",
       "    <tr>\n",
       "      <th>id</th>\n",
       "      <th></th>\n",
       "    </tr>\n",
       "  </thead>\n",
       "  <tbody>\n",
       "    <tr>\n",
       "      <th>300000</th>\n",
       "      <td>0.5</td>\n",
       "    </tr>\n",
       "    <tr>\n",
       "      <th>300001</th>\n",
       "      <td>0.5</td>\n",
       "    </tr>\n",
       "    <tr>\n",
       "      <th>300002</th>\n",
       "      <td>0.5</td>\n",
       "    </tr>\n",
       "    <tr>\n",
       "      <th>300003</th>\n",
       "      <td>0.5</td>\n",
       "    </tr>\n",
       "    <tr>\n",
       "      <th>300004</th>\n",
       "      <td>0.5</td>\n",
       "    </tr>\n",
       "    <tr>\n",
       "      <th>...</th>\n",
       "      <td>...</td>\n",
       "    </tr>\n",
       "    <tr>\n",
       "      <th>499995</th>\n",
       "      <td>0.5</td>\n",
       "    </tr>\n",
       "    <tr>\n",
       "      <th>499996</th>\n",
       "      <td>0.5</td>\n",
       "    </tr>\n",
       "    <tr>\n",
       "      <th>499997</th>\n",
       "      <td>0.5</td>\n",
       "    </tr>\n",
       "    <tr>\n",
       "      <th>499998</th>\n",
       "      <td>0.5</td>\n",
       "    </tr>\n",
       "    <tr>\n",
       "      <th>499999</th>\n",
       "      <td>0.5</td>\n",
       "    </tr>\n",
       "  </tbody>\n",
       "</table>\n",
       "<p>200000 rows × 1 columns</p>\n",
       "</div>"
      ],
      "text/plain": [
       "        target\n",
       "id            \n",
       "300000     0.5\n",
       "300001     0.5\n",
       "300002     0.5\n",
       "300003     0.5\n",
       "300004     0.5\n",
       "...        ...\n",
       "499995     0.5\n",
       "499996     0.5\n",
       "499997     0.5\n",
       "499998     0.5\n",
       "499999     0.5\n",
       "\n",
       "[200000 rows x 1 columns]"
      ]
     },
     "execution_count": 181,
     "metadata": {},
     "output_type": "execute_result"
    }
   ],
   "source": [
    "# 답안은 클래스가 아니고 확률로 제출한다.\n",
    "submission=pd.read_csv('./kaggle/cat-in-the-dat/sample_submission.csv',index_col='id')\n",
    "submission"
   ]
  },
  {
   "cell_type": "code",
   "execution_count": 182,
   "metadata": {},
   "outputs": [],
   "source": [
    "# 피처의 정보요약 함수 생성\n",
    "def resumtable(df):\n",
    "\tprint('데이터의 구조 ',df.shape)\n",
    "\tsummary=pd.DataFrame(df.dtypes,columns=['데이터 타입'])\n",
    "\tsummary=summary.reset_index()\n",
    "\tsummary=summary.rename(columns={'index':'feature'})\n",
    "\tsummary['결측값 개수']=df.isnull().sum().values\n",
    "\tsummary['고유값 개수']=df.nunique().values\n",
    "\tsummary['첫번째 값']=df.loc[0].values\n",
    "\tsummary['두번째 값']=df.loc[1].values\n",
    "\tsummary['세번째 값']=df.loc[2].values\n",
    "\treturn summary"
   ]
  },
  {
   "cell_type": "code",
   "execution_count": 183,
   "metadata": {},
   "outputs": [
    {
     "name": "stdout",
     "output_type": "stream",
     "text": [
      "데이터의 구조  (300000, 24)\n"
     ]
    },
    {
     "data": {
      "text/html": [
       "<div>\n",
       "<style scoped>\n",
       "    .dataframe tbody tr th:only-of-type {\n",
       "        vertical-align: middle;\n",
       "    }\n",
       "\n",
       "    .dataframe tbody tr th {\n",
       "        vertical-align: top;\n",
       "    }\n",
       "\n",
       "    .dataframe thead th {\n",
       "        text-align: right;\n",
       "    }\n",
       "</style>\n",
       "<table border=\"1\" class=\"dataframe\">\n",
       "  <thead>\n",
       "    <tr style=\"text-align: right;\">\n",
       "      <th></th>\n",
       "      <th>feature</th>\n",
       "      <th>데이터 타입</th>\n",
       "      <th>결측값 개수</th>\n",
       "      <th>고유값 개수</th>\n",
       "      <th>첫번째 값</th>\n",
       "      <th>두번째 값</th>\n",
       "      <th>세번째 값</th>\n",
       "    </tr>\n",
       "  </thead>\n",
       "  <tbody>\n",
       "    <tr>\n",
       "      <th>0</th>\n",
       "      <td>bin_0</td>\n",
       "      <td>int64</td>\n",
       "      <td>0</td>\n",
       "      <td>2</td>\n",
       "      <td>0</td>\n",
       "      <td>0</td>\n",
       "      <td>0</td>\n",
       "    </tr>\n",
       "    <tr>\n",
       "      <th>1</th>\n",
       "      <td>bin_1</td>\n",
       "      <td>int64</td>\n",
       "      <td>0</td>\n",
       "      <td>2</td>\n",
       "      <td>0</td>\n",
       "      <td>1</td>\n",
       "      <td>0</td>\n",
       "    </tr>\n",
       "    <tr>\n",
       "      <th>2</th>\n",
       "      <td>bin_2</td>\n",
       "      <td>int64</td>\n",
       "      <td>0</td>\n",
       "      <td>2</td>\n",
       "      <td>0</td>\n",
       "      <td>0</td>\n",
       "      <td>0</td>\n",
       "    </tr>\n",
       "    <tr>\n",
       "      <th>3</th>\n",
       "      <td>bin_3</td>\n",
       "      <td>object</td>\n",
       "      <td>0</td>\n",
       "      <td>2</td>\n",
       "      <td>T</td>\n",
       "      <td>T</td>\n",
       "      <td>F</td>\n",
       "    </tr>\n",
       "    <tr>\n",
       "      <th>4</th>\n",
       "      <td>bin_4</td>\n",
       "      <td>object</td>\n",
       "      <td>0</td>\n",
       "      <td>2</td>\n",
       "      <td>Y</td>\n",
       "      <td>Y</td>\n",
       "      <td>Y</td>\n",
       "    </tr>\n",
       "    <tr>\n",
       "      <th>5</th>\n",
       "      <td>nom_0</td>\n",
       "      <td>object</td>\n",
       "      <td>0</td>\n",
       "      <td>3</td>\n",
       "      <td>Green</td>\n",
       "      <td>Green</td>\n",
       "      <td>Blue</td>\n",
       "    </tr>\n",
       "    <tr>\n",
       "      <th>6</th>\n",
       "      <td>nom_1</td>\n",
       "      <td>object</td>\n",
       "      <td>0</td>\n",
       "      <td>6</td>\n",
       "      <td>Triangle</td>\n",
       "      <td>Trapezoid</td>\n",
       "      <td>Trapezoid</td>\n",
       "    </tr>\n",
       "    <tr>\n",
       "      <th>7</th>\n",
       "      <td>nom_2</td>\n",
       "      <td>object</td>\n",
       "      <td>0</td>\n",
       "      <td>6</td>\n",
       "      <td>Snake</td>\n",
       "      <td>Hamster</td>\n",
       "      <td>Lion</td>\n",
       "    </tr>\n",
       "    <tr>\n",
       "      <th>8</th>\n",
       "      <td>nom_3</td>\n",
       "      <td>object</td>\n",
       "      <td>0</td>\n",
       "      <td>6</td>\n",
       "      <td>Finland</td>\n",
       "      <td>Russia</td>\n",
       "      <td>Russia</td>\n",
       "    </tr>\n",
       "    <tr>\n",
       "      <th>9</th>\n",
       "      <td>nom_4</td>\n",
       "      <td>object</td>\n",
       "      <td>0</td>\n",
       "      <td>4</td>\n",
       "      <td>Bassoon</td>\n",
       "      <td>Piano</td>\n",
       "      <td>Theremin</td>\n",
       "    </tr>\n",
       "    <tr>\n",
       "      <th>10</th>\n",
       "      <td>nom_5</td>\n",
       "      <td>object</td>\n",
       "      <td>0</td>\n",
       "      <td>222</td>\n",
       "      <td>50f116bcf</td>\n",
       "      <td>b3b4d25d0</td>\n",
       "      <td>3263bdce5</td>\n",
       "    </tr>\n",
       "    <tr>\n",
       "      <th>11</th>\n",
       "      <td>nom_6</td>\n",
       "      <td>object</td>\n",
       "      <td>0</td>\n",
       "      <td>522</td>\n",
       "      <td>3ac1b8814</td>\n",
       "      <td>fbcb50fc1</td>\n",
       "      <td>0922e3cb8</td>\n",
       "    </tr>\n",
       "    <tr>\n",
       "      <th>12</th>\n",
       "      <td>nom_7</td>\n",
       "      <td>object</td>\n",
       "      <td>0</td>\n",
       "      <td>1220</td>\n",
       "      <td>68f6ad3e9</td>\n",
       "      <td>3b6dd5612</td>\n",
       "      <td>a6a36f527</td>\n",
       "    </tr>\n",
       "    <tr>\n",
       "      <th>13</th>\n",
       "      <td>nom_8</td>\n",
       "      <td>object</td>\n",
       "      <td>0</td>\n",
       "      <td>2215</td>\n",
       "      <td>c389000ab</td>\n",
       "      <td>4cd920251</td>\n",
       "      <td>de9c9f684</td>\n",
       "    </tr>\n",
       "    <tr>\n",
       "      <th>14</th>\n",
       "      <td>nom_9</td>\n",
       "      <td>object</td>\n",
       "      <td>0</td>\n",
       "      <td>11981</td>\n",
       "      <td>2f4cb3d51</td>\n",
       "      <td>f83c56c21</td>\n",
       "      <td>ae6800dd0</td>\n",
       "    </tr>\n",
       "    <tr>\n",
       "      <th>15</th>\n",
       "      <td>ord_0</td>\n",
       "      <td>int64</td>\n",
       "      <td>0</td>\n",
       "      <td>3</td>\n",
       "      <td>2</td>\n",
       "      <td>1</td>\n",
       "      <td>1</td>\n",
       "    </tr>\n",
       "    <tr>\n",
       "      <th>16</th>\n",
       "      <td>ord_1</td>\n",
       "      <td>object</td>\n",
       "      <td>0</td>\n",
       "      <td>5</td>\n",
       "      <td>Grandmaster</td>\n",
       "      <td>Grandmaster</td>\n",
       "      <td>Expert</td>\n",
       "    </tr>\n",
       "    <tr>\n",
       "      <th>17</th>\n",
       "      <td>ord_2</td>\n",
       "      <td>object</td>\n",
       "      <td>0</td>\n",
       "      <td>6</td>\n",
       "      <td>Cold</td>\n",
       "      <td>Hot</td>\n",
       "      <td>Lava Hot</td>\n",
       "    </tr>\n",
       "    <tr>\n",
       "      <th>18</th>\n",
       "      <td>ord_3</td>\n",
       "      <td>object</td>\n",
       "      <td>0</td>\n",
       "      <td>15</td>\n",
       "      <td>h</td>\n",
       "      <td>a</td>\n",
       "      <td>h</td>\n",
       "    </tr>\n",
       "    <tr>\n",
       "      <th>19</th>\n",
       "      <td>ord_4</td>\n",
       "      <td>object</td>\n",
       "      <td>0</td>\n",
       "      <td>26</td>\n",
       "      <td>D</td>\n",
       "      <td>A</td>\n",
       "      <td>R</td>\n",
       "    </tr>\n",
       "    <tr>\n",
       "      <th>20</th>\n",
       "      <td>ord_5</td>\n",
       "      <td>object</td>\n",
       "      <td>0</td>\n",
       "      <td>192</td>\n",
       "      <td>kr</td>\n",
       "      <td>bF</td>\n",
       "      <td>Jc</td>\n",
       "    </tr>\n",
       "    <tr>\n",
       "      <th>21</th>\n",
       "      <td>day</td>\n",
       "      <td>int64</td>\n",
       "      <td>0</td>\n",
       "      <td>7</td>\n",
       "      <td>2</td>\n",
       "      <td>7</td>\n",
       "      <td>7</td>\n",
       "    </tr>\n",
       "    <tr>\n",
       "      <th>22</th>\n",
       "      <td>month</td>\n",
       "      <td>int64</td>\n",
       "      <td>0</td>\n",
       "      <td>12</td>\n",
       "      <td>2</td>\n",
       "      <td>8</td>\n",
       "      <td>2</td>\n",
       "    </tr>\n",
       "    <tr>\n",
       "      <th>23</th>\n",
       "      <td>target</td>\n",
       "      <td>int64</td>\n",
       "      <td>0</td>\n",
       "      <td>2</td>\n",
       "      <td>0</td>\n",
       "      <td>0</td>\n",
       "      <td>0</td>\n",
       "    </tr>\n",
       "  </tbody>\n",
       "</table>\n",
       "</div>"
      ],
      "text/plain": [
       "   feature  데이터 타입  결측값 개수  고유값 개수        첫번째 값        두번째 값      세번째 값\n",
       "0    bin_0   int64       0       2            0            0          0\n",
       "1    bin_1   int64       0       2            0            1          0\n",
       "2    bin_2   int64       0       2            0            0          0\n",
       "3    bin_3  object       0       2            T            T          F\n",
       "4    bin_4  object       0       2            Y            Y          Y\n",
       "5    nom_0  object       0       3        Green        Green       Blue\n",
       "6    nom_1  object       0       6     Triangle    Trapezoid  Trapezoid\n",
       "7    nom_2  object       0       6        Snake      Hamster       Lion\n",
       "8    nom_3  object       0       6      Finland       Russia     Russia\n",
       "9    nom_4  object       0       4      Bassoon        Piano   Theremin\n",
       "10   nom_5  object       0     222    50f116bcf    b3b4d25d0  3263bdce5\n",
       "11   nom_6  object       0     522    3ac1b8814    fbcb50fc1  0922e3cb8\n",
       "12   nom_7  object       0    1220    68f6ad3e9    3b6dd5612  a6a36f527\n",
       "13   nom_8  object       0    2215    c389000ab    4cd920251  de9c9f684\n",
       "14   nom_9  object       0   11981    2f4cb3d51    f83c56c21  ae6800dd0\n",
       "15   ord_0   int64       0       3            2            1          1\n",
       "16   ord_1  object       0       5  Grandmaster  Grandmaster     Expert\n",
       "17   ord_2  object       0       6         Cold          Hot   Lava Hot\n",
       "18   ord_3  object       0      15            h            a          h\n",
       "19   ord_4  object       0      26            D            A          R\n",
       "20   ord_5  object       0     192           kr           bF         Jc\n",
       "21     day   int64       0       7            2            7          7\n",
       "22   month   int64       0      12            2            8          2\n",
       "23  target   int64       0       2            0            0          0"
      ]
     },
     "execution_count": 183,
     "metadata": {},
     "output_type": "execute_result"
    }
   ],
   "source": [
    "resumtable(train)"
   ]
  },
  {
   "cell_type": "code",
   "execution_count": 184,
   "metadata": {},
   "outputs": [
    {
     "name": "stdout",
     "output_type": "stream",
     "text": [
      "ord_0고유값: [2 1 3]\n",
      "ord_1고유값: ['Grandmaster' 'Expert' 'Novice' 'Contributor' 'Master']\n",
      "ord_2고유값: ['Cold' 'Hot' 'Lava Hot' 'Boiling Hot' 'Freezing' 'Warm']\n"
     ]
    }
   ],
   "source": [
    "for i in range(3):\n",
    "\tfeature='ord_'+str(i)\n",
    "\t# 문자열이 아닌 데이터를 출력하고자 하는 경우. \n",
    "\tprint(feature+f'고유값: {train[feature].unique()}')"
   ]
  },
  {
   "cell_type": "code",
   "execution_count": 185,
   "metadata": {},
   "outputs": [
    {
     "name": "stdout",
     "output_type": "stream",
     "text": [
      "day 고유값: [2 7 5 4 3 1 6]\n"
     ]
    }
   ],
   "source": [
    "print('day 고유값:',train['day'].unique())"
   ]
  },
  {
   "cell_type": "markdown",
   "metadata": {},
   "source": [
    "## 시각화를 이용한 데이터 탐색"
   ]
  },
  {
   "cell_type": "code",
   "execution_count": 186,
   "metadata": {},
   "outputs": [
    {
     "data": {
      "text/plain": [
       "[Text(0.5, 1.0, 'Target Distribution')]"
      ]
     },
     "execution_count": 186,
     "metadata": {},
     "output_type": "execute_result"
    },
    {
     "data": {
      "image/png": "[encoded data removed]",
      "text/plain": [
       "<Figure size 700x600 with 1 Axes>"
      ]
     },
     "metadata": {},
     "output_type": "display_data"
    }
   ],
   "source": [
    "import seaborn as sns\n",
    "import matplotlib as mpl\n",
    "import matplotlib.pyplot as plt\n",
    "\n",
    "\n",
    "mpl.rc('font',size=15)\n",
    "plt.figure(figsize=(7,6))\n",
    "\n",
    "\n",
    "# 타겟의 분포 확인\n",
    "ax=sns.countplot(x='target',data=train)\n",
    "ax.set(title='Target Distribution')"
   ]
  },
  {
   "cell_type": "markdown",
   "metadata": {},
   "source": [
    "# 그래프 텍스트 출력\n",
    "- 그래프에 텍스트를 출력할 때는 위치를 설정해서 출력\n",
    "- 현재 화면에 그려진 그래프에 대한 정보를 알고자 하는 경우 ```ax.patches``` 속성 이용가능\n",
    "- 막대 그래프의 경우 막대에 대한 정보가 ```patches``` 에 저장.\n",
    "- 막대가 순서대로 0,1,2,3,4번 인덱스에 저장이 된다. "
   ]
  },
  {
   "cell_type": "code",
   "execution_count": 187,
   "metadata": {},
   "outputs": [
    {
     "name": "stdout",
     "output_type": "stream",
     "text": [
      "높이 208236.0\n",
      "너비 0.8\n",
      "왼쪽 테두리의 x좌표 -0.4\n"
     ]
    }
   ],
   "source": [
    "# 첫번째 막대에 대한 정보를 확인\n",
    "rectangle=ax.patches[0]\n",
    "\n",
    "print('높이',rectangle.get_height())\n",
    "print('너비',rectangle.get_width())\n",
    "print('왼쪽 테두리의 x좌표',rectangle.get_x())"
   ]
  },
  {
   "cell_type": "code",
   "execution_count": 188,
   "metadata": {},
   "outputs": [
    {
     "data": {
      "text/plain": [
       "Text(0.5, 1.0, 'Target Distribution')"
      ]
     },
     "execution_count": 188,
     "metadata": {},
     "output_type": "execute_result"
    },
    {
     "data": {
      "image/png": "[encoded data removed]",
      "text/plain": [
       "<Figure size 700x600 with 1 Axes>"
      ]
     },
     "metadata": {},
     "output_type": "display_data"
    }
   ],
   "source": [
    "# 텍스트 출력 - 비율을 표시\n",
    "def write_percent(ax,total_size):\n",
    "\tfor patch in ax.patches:\n",
    "\t\theight=patch.get_height()\n",
    "\t\twidth=patch.get_width()\n",
    "\t\tleft_coord=patch.get_x()\n",
    "\n",
    "\t\tpercent=height/total_size*100\n",
    "\n",
    "\t\tax.text(x=left_coord+width/2.0,y=height+total_size*0.001,s=f'{percent:1.1f}%',ha='center')\n",
    "\n",
    "plt.figure(figsize=(7,6))\n",
    "ax=sns.countplot(x='target',data=train)\n",
    "write_percent(ax,len(train))\n",
    "ax.set_title('Target Distribution')"
   ]
  },
  {
   "cell_type": "code",
   "execution_count": 189,
   "metadata": {},
   "outputs": [
    {
     "ename": "AttributeError",
     "evalue": "'NoneType' object has no attribute 'left'",
     "output_type": "error",
     "traceback": [
      "\u001b[1;31m---------------------------------------------------------------------------\u001b[0m",
      "\u001b[1;31mAttributeError\u001b[0m                            Traceback (most recent call last)",
      "Cell \u001b[1;32mIn[189], line 12\u001b[0m\n\u001b[0;32m      9\u001b[0m bin_features\u001b[39m=\u001b[39m[\u001b[39m'\u001b[39m\u001b[39mbin_0\u001b[39m\u001b[39m'\u001b[39m,\u001b[39m'\u001b[39m\u001b[39mbin_1\u001b[39m\u001b[39m'\u001b[39m,\u001b[39m'\u001b[39m\u001b[39mbin_2\u001b[39m\u001b[39m'\u001b[39m,\u001b[39m'\u001b[39m\u001b[39mbin_3\u001b[39m\u001b[39m'\u001b[39m,\u001b[39m'\u001b[39m\u001b[39mbin_4\u001b[39m\u001b[39m'\u001b[39m]\n\u001b[0;32m     11\u001b[0m \u001b[39mfor\u001b[39;00m idx,feature \u001b[39min\u001b[39;00m \u001b[39menumerate\u001b[39m(bin_features):\n\u001b[1;32m---> 12\u001b[0m \tax\u001b[39m=\u001b[39mplt\u001b[39m.\u001b[39;49msubplot(grid[idx])\n\u001b[0;32m     13\u001b[0m \tsns\u001b[39m.\u001b[39mcountplot(x\u001b[39m=\u001b[39mfeature,data\u001b[39m=\u001b[39mtrain,hue\u001b[39m=\u001b[39m\u001b[39m'\u001b[39m\u001b[39mtarget\u001b[39m\u001b[39m'\u001b[39m,palette\u001b[39m=\u001b[39m\u001b[39m'\u001b[39m\u001b[39mpastel\u001b[39m\u001b[39m'\u001b[39m,ax\u001b[39m=\u001b[39max)\n\u001b[0;32m     14\u001b[0m \tax\u001b[39m.\u001b[39mset_title(\u001b[39mf\u001b[39m\u001b[39m'\u001b[39m\u001b[39m{\u001b[39;00mfeature\u001b[39m}\u001b[39;00m\u001b[39m Distribution by Target\u001b[39m\u001b[39m'\u001b[39m)\n",
      "File \u001b[1;32mc:\\Users\\USER\\anaconda3\\lib\\site-packages\\matplotlib\\pyplot.py:1311\u001b[0m, in \u001b[0;36msubplot\u001b[1;34m(*args, **kwargs)\u001b[0m\n\u001b[0;32m   1308\u001b[0m             \u001b[39mbreak\u001b[39;00m\n\u001b[0;32m   1309\u001b[0m \u001b[39melse\u001b[39;00m:\n\u001b[0;32m   1310\u001b[0m     \u001b[39m# we have exhausted the known Axes and none match, make a new one!\u001b[39;00m\n\u001b[1;32m-> 1311\u001b[0m     ax \u001b[39m=\u001b[39m fig\u001b[39m.\u001b[39madd_subplot(\u001b[39m*\u001b[39margs, \u001b[39m*\u001b[39m\u001b[39m*\u001b[39mkwargs)\n\u001b[0;32m   1313\u001b[0m fig\u001b[39m.\u001b[39msca(ax)\n\u001b[0;32m   1315\u001b[0m axes_to_delete \u001b[39m=\u001b[39m [other \u001b[39mfor\u001b[39;00m other \u001b[39min\u001b[39;00m fig\u001b[39m.\u001b[39maxes\n\u001b[0;32m   1316\u001b[0m                   \u001b[39mif\u001b[39;00m other \u001b[39m!=\u001b[39m ax \u001b[39mand\u001b[39;00m ax\u001b[39m.\u001b[39mbbox\u001b[39m.\u001b[39mfully_overlaps(other\u001b[39m.\u001b[39mbbox)]\n",
      "File \u001b[1;32mc:\\Users\\USER\\anaconda3\\lib\\site-packages\\matplotlib\\figure.py:743\u001b[0m, in \u001b[0;36mFigureBase.add_subplot\u001b[1;34m(self, *args, **kwargs)\u001b[0m\n\u001b[0;32m    740\u001b[0m         args \u001b[39m=\u001b[39m \u001b[39mtuple\u001b[39m(\u001b[39mmap\u001b[39m(\u001b[39mint\u001b[39m, \u001b[39mstr\u001b[39m(args[\u001b[39m0\u001b[39m])))\n\u001b[0;32m    741\u001b[0m     projection_class, pkw \u001b[39m=\u001b[39m \u001b[39mself\u001b[39m\u001b[39m.\u001b[39m_process_projection_requirements(\n\u001b[0;32m    742\u001b[0m         \u001b[39m*\u001b[39margs, \u001b[39m*\u001b[39m\u001b[39m*\u001b[39mkwargs)\n\u001b[1;32m--> 743\u001b[0m     ax \u001b[39m=\u001b[39m projection_class(\u001b[39mself\u001b[39m, \u001b[39m*\u001b[39margs, \u001b[39m*\u001b[39m\u001b[39m*\u001b[39mpkw)\n\u001b[0;32m    744\u001b[0m     key \u001b[39m=\u001b[39m (projection_class, pkw)\n\u001b[0;32m    745\u001b[0m \u001b[39mreturn\u001b[39;00m \u001b[39mself\u001b[39m\u001b[39m.\u001b[39m_add_axes_internal(ax, key)\n",
      "File \u001b[1;32mc:\\Users\\USER\\anaconda3\\lib\\site-packages\\matplotlib\\axes\\_base.py:661\u001b[0m, in \u001b[0;36m_AxesBase.__init__\u001b[1;34m(self, fig, facecolor, frameon, sharex, sharey, label, xscale, yscale, box_aspect, *args, **kwargs)\u001b[0m\n\u001b[0;32m    657\u001b[0m \u001b[39m# The subplotspec needs to be set after the figure (so that\u001b[39;00m\n\u001b[0;32m    658\u001b[0m \u001b[39m# figure-level subplotpars are taken into account), but the figure\u001b[39;00m\n\u001b[0;32m    659\u001b[0m \u001b[39m# needs to be set after self._position is initialized.\u001b[39;00m\n\u001b[0;32m    660\u001b[0m \u001b[39mif\u001b[39;00m subplotspec:\n\u001b[1;32m--> 661\u001b[0m     \u001b[39mself\u001b[39;49m\u001b[39m.\u001b[39;49mset_subplotspec(subplotspec)\n\u001b[0;32m    662\u001b[0m \u001b[39melse\u001b[39;00m:\n\u001b[0;32m    663\u001b[0m     \u001b[39mself\u001b[39m\u001b[39m.\u001b[39m_subplotspec \u001b[39m=\u001b[39m \u001b[39mNone\u001b[39;00m\n",
      "File \u001b[1;32mc:\\Users\\USER\\anaconda3\\lib\\site-packages\\matplotlib\\axes\\_base.py:793\u001b[0m, in \u001b[0;36m_AxesBase.set_subplotspec\u001b[1;34m(self, subplotspec)\u001b[0m\n\u001b[0;32m    791\u001b[0m \u001b[39m\"\"\"Set the `.SubplotSpec`. associated with the subplot.\"\"\"\u001b[39;00m\n\u001b[0;32m    792\u001b[0m \u001b[39mself\u001b[39m\u001b[39m.\u001b[39m_subplotspec \u001b[39m=\u001b[39m subplotspec\n\u001b[1;32m--> 793\u001b[0m \u001b[39mself\u001b[39m\u001b[39m.\u001b[39m_set_position(subplotspec\u001b[39m.\u001b[39;49mget_position(\u001b[39mself\u001b[39;49m\u001b[39m.\u001b[39;49mfigure))\n",
      "File \u001b[1;32mc:\\Users\\USER\\anaconda3\\lib\\site-packages\\matplotlib\\gridspec.py:661\u001b[0m, in \u001b[0;36mSubplotSpec.get_position\u001b[1;34m(self, figure)\u001b[0m\n\u001b[0;32m    658\u001b[0m nrows, ncols \u001b[39m=\u001b[39m gridspec\u001b[39m.\u001b[39mget_geometry()\n\u001b[0;32m    659\u001b[0m rows, cols \u001b[39m=\u001b[39m np\u001b[39m.\u001b[39munravel_index([\u001b[39mself\u001b[39m\u001b[39m.\u001b[39mnum1, \u001b[39mself\u001b[39m\u001b[39m.\u001b[39mnum2], (nrows, ncols))\n\u001b[0;32m    660\u001b[0m fig_bottoms, fig_tops, fig_lefts, fig_rights \u001b[39m=\u001b[39m \\\n\u001b[1;32m--> 661\u001b[0m     gridspec\u001b[39m.\u001b[39;49mget_grid_positions(figure)\n\u001b[0;32m    663\u001b[0m fig_bottom \u001b[39m=\u001b[39m fig_bottoms[rows]\u001b[39m.\u001b[39mmin()\n\u001b[0;32m    664\u001b[0m fig_top \u001b[39m=\u001b[39m fig_tops[rows]\u001b[39m.\u001b[39mmax()\n",
      "File \u001b[1;32mc:\\Users\\USER\\anaconda3\\lib\\site-packages\\matplotlib\\_api\\deprecation.py:384\u001b[0m, in \u001b[0;36mdelete_parameter.<locals>.wrapper\u001b[1;34m(*inner_args, **inner_kwargs)\u001b[0m\n\u001b[0;32m    379\u001b[0m \u001b[39m@functools\u001b[39m\u001b[39m.\u001b[39mwraps(func)\n\u001b[0;32m    380\u001b[0m \u001b[39mdef\u001b[39;00m \u001b[39mwrapper\u001b[39m(\u001b[39m*\u001b[39minner_args, \u001b[39m*\u001b[39m\u001b[39m*\u001b[39minner_kwargs):\n\u001b[0;32m    381\u001b[0m     \u001b[39mif\u001b[39;00m \u001b[39mlen\u001b[39m(inner_args) \u001b[39m<\u001b[39m\u001b[39m=\u001b[39m name_idx \u001b[39mand\u001b[39;00m name \u001b[39mnot\u001b[39;00m \u001b[39min\u001b[39;00m inner_kwargs:\n\u001b[0;32m    382\u001b[0m         \u001b[39m# Early return in the simple, non-deprecated case (much faster than\u001b[39;00m\n\u001b[0;32m    383\u001b[0m         \u001b[39m# calling bind()).\u001b[39;00m\n\u001b[1;32m--> 384\u001b[0m         \u001b[39mreturn\u001b[39;00m func(\u001b[39m*\u001b[39minner_args, \u001b[39m*\u001b[39m\u001b[39m*\u001b[39minner_kwargs)\n\u001b[0;32m    385\u001b[0m     arguments \u001b[39m=\u001b[39m signature\u001b[39m.\u001b[39mbind(\u001b[39m*\u001b[39minner_args, \u001b[39m*\u001b[39m\u001b[39m*\u001b[39minner_kwargs)\u001b[39m.\u001b[39marguments\n\u001b[0;32m    386\u001b[0m     \u001b[39mif\u001b[39;00m is_varargs \u001b[39mand\u001b[39;00m arguments\u001b[39m.\u001b[39mget(name):\n",
      "File \u001b[1;32mc:\\Users\\USER\\anaconda3\\lib\\site-packages\\matplotlib\\gridspec.py:178\u001b[0m, in \u001b[0;36mGridSpecBase.get_grid_positions\u001b[1;34m(self, fig, raw)\u001b[0m\n\u001b[0;32m    176\u001b[0m \u001b[39melse\u001b[39;00m:\n\u001b[0;32m    177\u001b[0m     subplot_params \u001b[39m=\u001b[39m \u001b[39mself\u001b[39m\u001b[39m.\u001b[39mget_subplot_params(fig)\n\u001b[1;32m--> 178\u001b[0m     left \u001b[39m=\u001b[39m subplot_params\u001b[39m.\u001b[39;49mleft\n\u001b[0;32m    179\u001b[0m     right \u001b[39m=\u001b[39m subplot_params\u001b[39m.\u001b[39mright\n\u001b[0;32m    180\u001b[0m     bottom \u001b[39m=\u001b[39m subplot_params\u001b[39m.\u001b[39mbottom\n",
      "\u001b[1;31mAttributeError\u001b[0m: 'NoneType' object has no attribute 'left'"
     ]
    },
    {
     "data": {
      "text/plain": [
       "<Figure size 1000x1600 with 0 Axes>"
      ]
     },
     "metadata": {},
     "output_type": "display_data"
    }
   ],
   "source": [
    "# 여러개의 이진 데이터 분포 확인\n",
    "import matplotlib.gridspec as gridspec # 여러개의 이미지를 출력할 때 사용하는 격자\n",
    "\n",
    "mpl.rc('font',size=12)\n",
    "grid=gridspec.GridSpecBase(3,2) # 행,열\n",
    "plt.figure(figsize=(10,16))\n",
    "plt.subplots_adjust(wspace=0.4,hspace=0.3)\n",
    "\n",
    "bin_features=['bin_0','bin_1','bin_2','bin_3','bin_4']\n",
    "\n",
    "for idx,feature in enumerate(bin_features):\n",
    "\tax=plt.subplot(grid[idx])\n",
    "\tsns.countplot(x=feature,data=train,hue='target',palette='pastel',ax=ax)\n",
    "\tax.set_title(f'{feature} Distribution by Target')\n",
    "\twrite_percent(ax,len(train))"
   ]
  },
  {
   "cell_type": "markdown",
   "metadata": {},
   "source": [
    "### 교차 분석 표"
   ]
  },
  {
   "cell_type": "code",
   "execution_count": 190,
   "metadata": {},
   "outputs": [
    {
     "data": {
      "text/html": [
       "<div>\n",
       "<style scoped>\n",
       "    .dataframe tbody tr th:only-of-type {\n",
       "        vertical-align: middle;\n",
       "    }\n",
       "\n",
       "    .dataframe tbody tr th {\n",
       "        vertical-align: top;\n",
       "    }\n",
       "\n",
       "    .dataframe thead th {\n",
       "        text-align: right;\n",
       "    }\n",
       "</style>\n",
       "<table border=\"1\" class=\"dataframe\">\n",
       "  <thead>\n",
       "    <tr style=\"text-align: right;\">\n",
       "      <th>target</th>\n",
       "      <th>0</th>\n",
       "      <th>1</th>\n",
       "    </tr>\n",
       "    <tr>\n",
       "      <th>nom_0</th>\n",
       "      <th></th>\n",
       "      <th></th>\n",
       "    </tr>\n",
       "  </thead>\n",
       "  <tbody>\n",
       "    <tr>\n",
       "      <th>Blue</th>\n",
       "      <td>72914</td>\n",
       "      <td>23252</td>\n",
       "    </tr>\n",
       "    <tr>\n",
       "      <th>Green</th>\n",
       "      <td>85682</td>\n",
       "      <td>41659</td>\n",
       "    </tr>\n",
       "    <tr>\n",
       "      <th>Red</th>\n",
       "      <td>49640</td>\n",
       "      <td>26853</td>\n",
       "    </tr>\n",
       "  </tbody>\n",
       "</table>\n",
       "</div>"
      ],
      "text/plain": [
       "target      0      1\n",
       "nom_0               \n",
       "Blue    72914  23252\n",
       "Green   85682  41659\n",
       "Red     49640  26853"
      ]
     },
     "execution_count": 190,
     "metadata": {},
     "output_type": "execute_result"
    }
   ],
   "source": [
    "# Cross table\n",
    "pd.crosstab(train['nom_0'],train['target'])\n"
   ]
  },
  {
   "cell_type": "code",
   "execution_count": 191,
   "metadata": {},
   "outputs": [
    {
     "data": {
      "text/html": [
       "<div>\n",
       "<style scoped>\n",
       "    .dataframe tbody tr th:only-of-type {\n",
       "        vertical-align: middle;\n",
       "    }\n",
       "\n",
       "    .dataframe tbody tr th {\n",
       "        vertical-align: top;\n",
       "    }\n",
       "\n",
       "    .dataframe thead th {\n",
       "        text-align: right;\n",
       "    }\n",
       "</style>\n",
       "<table border=\"1\" class=\"dataframe\">\n",
       "  <thead>\n",
       "    <tr style=\"text-align: right;\">\n",
       "      <th>target</th>\n",
       "      <th>0</th>\n",
       "      <th>1</th>\n",
       "    </tr>\n",
       "    <tr>\n",
       "      <th>nom_0</th>\n",
       "      <th></th>\n",
       "      <th></th>\n",
       "    </tr>\n",
       "  </thead>\n",
       "  <tbody>\n",
       "    <tr>\n",
       "      <th>Blue</th>\n",
       "      <td>75.820976</td>\n",
       "      <td>24.179024</td>\n",
       "    </tr>\n",
       "    <tr>\n",
       "      <th>Green</th>\n",
       "      <td>67.285478</td>\n",
       "      <td>32.714522</td>\n",
       "    </tr>\n",
       "    <tr>\n",
       "      <th>Red</th>\n",
       "      <td>64.894827</td>\n",
       "      <td>35.105173</td>\n",
       "    </tr>\n",
       "  </tbody>\n",
       "</table>\n",
       "</div>"
      ],
      "text/plain": [
       "target          0          1\n",
       "nom_0                       \n",
       "Blue    75.820976  24.179024\n",
       "Green   67.285478  32.714522\n",
       "Red     64.894827  35.105173"
      ]
     },
     "execution_count": 191,
     "metadata": {},
     "output_type": "execute_result"
    }
   ],
   "source": [
    "# Cross table - 백분율로 보기\n",
    "cross_tab=pd.crosstab(train['nom_0'],train['target'],normalize='index')*100\n",
    "\n",
    "cross_tab"
   ]
  },
  {
   "cell_type": "code",
   "execution_count": 192,
   "metadata": {},
   "outputs": [
    {
     "data": {
      "text/html": [
       "<div>\n",
       "<style scoped>\n",
       "    .dataframe tbody tr th:only-of-type {\n",
       "        vertical-align: middle;\n",
       "    }\n",
       "\n",
       "    .dataframe tbody tr th {\n",
       "        vertical-align: top;\n",
       "    }\n",
       "\n",
       "    .dataframe thead th {\n",
       "        text-align: right;\n",
       "    }\n",
       "</style>\n",
       "<table border=\"1\" class=\"dataframe\">\n",
       "  <thead>\n",
       "    <tr style=\"text-align: right;\">\n",
       "      <th>target</th>\n",
       "      <th>nom_0</th>\n",
       "      <th>0</th>\n",
       "      <th>1</th>\n",
       "    </tr>\n",
       "  </thead>\n",
       "  <tbody>\n",
       "    <tr>\n",
       "      <th>0</th>\n",
       "      <td>Blue</td>\n",
       "      <td>75.820976</td>\n",
       "      <td>24.179024</td>\n",
       "    </tr>\n",
       "    <tr>\n",
       "      <th>1</th>\n",
       "      <td>Green</td>\n",
       "      <td>67.285478</td>\n",
       "      <td>32.714522</td>\n",
       "    </tr>\n",
       "    <tr>\n",
       "      <th>2</th>\n",
       "      <td>Red</td>\n",
       "      <td>64.894827</td>\n",
       "      <td>35.105173</td>\n",
       "    </tr>\n",
       "  </tbody>\n",
       "</table>\n",
       "</div>"
      ],
      "text/plain": [
       "target  nom_0          0          1\n",
       "0        Blue  75.820976  24.179024\n",
       "1       Green  67.285478  32.714522\n",
       "2         Red  64.894827  35.105173"
      ]
     },
     "execution_count": 192,
     "metadata": {},
     "output_type": "execute_result"
    }
   ],
   "source": [
    "# 인덱스를 일련번호로 수정\n",
    "cross_tab=cross_tab.reset_index()\n",
    "cross_tab"
   ]
  },
  {
   "cell_type": "code",
   "execution_count": 193,
   "metadata": {},
   "outputs": [
    {
     "data": {
      "text/html": [
       "<div>\n",
       "<style scoped>\n",
       "    .dataframe tbody tr th:only-of-type {\n",
       "        vertical-align: middle;\n",
       "    }\n",
       "\n",
       "    .dataframe tbody tr th {\n",
       "        vertical-align: top;\n",
       "    }\n",
       "\n",
       "    .dataframe thead th {\n",
       "        text-align: right;\n",
       "    }\n",
       "</style>\n",
       "<table border=\"1\" class=\"dataframe\">\n",
       "  <thead>\n",
       "    <tr style=\"text-align: right;\">\n",
       "      <th>target</th>\n",
       "      <th>nom_0</th>\n",
       "      <th>0</th>\n",
       "      <th>1</th>\n",
       "    </tr>\n",
       "  </thead>\n",
       "  <tbody>\n",
       "    <tr>\n",
       "      <th>0</th>\n",
       "      <td>Blue</td>\n",
       "      <td>75.820976</td>\n",
       "      <td>24.179024</td>\n",
       "    </tr>\n",
       "    <tr>\n",
       "      <th>1</th>\n",
       "      <td>Green</td>\n",
       "      <td>67.285478</td>\n",
       "      <td>32.714522</td>\n",
       "    </tr>\n",
       "    <tr>\n",
       "      <th>2</th>\n",
       "      <td>Red</td>\n",
       "      <td>64.894827</td>\n",
       "      <td>35.105173</td>\n",
       "    </tr>\n",
       "  </tbody>\n",
       "</table>\n",
       "</div>"
      ],
      "text/plain": [
       "target  nom_0          0          1\n",
       "0        Blue  75.820976  24.179024\n",
       "1       Green  67.285478  32.714522\n",
       "2         Red  64.894827  35.105173"
      ]
     },
     "execution_count": 193,
     "metadata": {},
     "output_type": "execute_result"
    }
   ],
   "source": [
    "# 교차 분석표를 생성하는 함수\n",
    "def get_crosstab(df,feature):\n",
    "\tcross_tab=pd.crosstab(df[feature],df['target'],normalize='index')*100\n",
    "\tcross_tab=cross_tab.reset_index()\n",
    "\treturn cross_tab\n",
    "get_crosstab(train,'nom_0')"
   ]
  },
  {
   "cell_type": "markdown",
   "metadata": {},
   "source": [
    "- 결측치가 없다.\n",
    "- 피처의 의미를 알지 못하기 때문에 제거할수 없다.\n",
    "## 데이터 전처리"
   ]
  },
  {
   "cell_type": "code",
   "execution_count": 194,
   "metadata": {},
   "outputs": [
    {
     "name": "stdout",
     "output_type": "stream",
     "text": [
      "id\n",
      "0         Grandmaster\n",
      "1         Grandmaster\n",
      "2              Expert\n",
      "3         Grandmaster\n",
      "4         Grandmaster\n",
      "             ...     \n",
      "299995    Contributor\n",
      "299996         Novice\n",
      "299997         Novice\n",
      "299998         Master\n",
      "299999    Contributor\n",
      "Name: ord_1, Length: 300000, dtype: object\n"
     ]
    }
   ],
   "source": [
    "# 순서형 인코딩의 자료형을 수정. \n",
    "# ord_n\n",
    "print(train['ord_1'])\n",
    "\n"
   ]
  },
  {
   "cell_type": "code",
   "execution_count": 195,
   "metadata": {},
   "outputs": [],
   "source": [
    "# ord1 은 novice,contirbutor,expert ,master, grandmaster 순으로 카테고리를 설정\n",
    "# ord_2는 Freezing,cold,warn,hot,boiling Hot,Lava Hot 순으로 카테고리를 설정\n",
    "\n",
    "from pandas.api.types import CategoricalDtype\n",
    "\n",
    "ord_1_value=['Novice','Contirbutor','Expert' ,'Master', 'Grandmaster']\n",
    "ord_2_value=[ 'Freezing','Cold','Warm','Hot','Boiling Hot','Lava Hot']\n",
    "\n",
    "# 문자열 list를 타입으로 생성 - enum\n",
    "ord_1_dtype=CategoricalDtype(categories=ord_1_value,ordered=True)\n",
    "ord_2_dtype=CategoricalDtype(categories=ord_2_value,ordered=True)\n",
    "\n",
    "\n",
    "train['ord_1']=train['ord_1'].astype(ord_1_dtype)\n",
    "train['ord_2']=train['ord_2'].astype(ord_2_dtype)\n"
   ]
  },
  {
   "cell_type": "markdown",
   "metadata": {},
   "source": [
    "## 기본 모델링"
   ]
  },
  {
   "cell_type": "code",
   "execution_count": 217,
   "metadata": {},
   "outputs": [
    {
     "data": {
      "text/html": [
       "<div>\n",
       "<style scoped>\n",
       "    .dataframe tbody tr th:only-of-type {\n",
       "        vertical-align: middle;\n",
       "    }\n",
       "\n",
       "    .dataframe tbody tr th {\n",
       "        vertical-align: top;\n",
       "    }\n",
       "\n",
       "    .dataframe thead th {\n",
       "        text-align: right;\n",
       "    }\n",
       "</style>\n",
       "<table border=\"1\" class=\"dataframe\">\n",
       "  <thead>\n",
       "    <tr style=\"text-align: right;\">\n",
       "      <th></th>\n",
       "      <th>bin_0</th>\n",
       "      <th>bin_1</th>\n",
       "      <th>bin_2</th>\n",
       "      <th>bin_3</th>\n",
       "      <th>bin_4</th>\n",
       "      <th>nom_0</th>\n",
       "      <th>nom_1</th>\n",
       "      <th>...</th>\n",
       "      <th>ord_1</th>\n",
       "      <th>ord_2</th>\n",
       "      <th>ord_3</th>\n",
       "      <th>ord_4</th>\n",
       "      <th>ord_5</th>\n",
       "      <th>day</th>\n",
       "      <th>month</th>\n",
       "    </tr>\n",
       "    <tr>\n",
       "      <th>id</th>\n",
       "      <th></th>\n",
       "      <th></th>\n",
       "      <th></th>\n",
       "      <th></th>\n",
       "      <th></th>\n",
       "      <th></th>\n",
       "      <th></th>\n",
       "      <th></th>\n",
       "      <th></th>\n",
       "      <th></th>\n",
       "      <th></th>\n",
       "      <th></th>\n",
       "      <th></th>\n",
       "      <th></th>\n",
       "      <th></th>\n",
       "    </tr>\n",
       "  </thead>\n",
       "  <tbody>\n",
       "    <tr>\n",
       "      <th>0</th>\n",
       "      <td>0</td>\n",
       "      <td>0</td>\n",
       "      <td>0</td>\n",
       "      <td>T</td>\n",
       "      <td>Y</td>\n",
       "      <td>Green</td>\n",
       "      <td>Triangle</td>\n",
       "      <td>...</td>\n",
       "      <td>Grandmaster</td>\n",
       "      <td>Cold</td>\n",
       "      <td>h</td>\n",
       "      <td>D</td>\n",
       "      <td>kr</td>\n",
       "      <td>2</td>\n",
       "      <td>2</td>\n",
       "    </tr>\n",
       "    <tr>\n",
       "      <th>1</th>\n",
       "      <td>0</td>\n",
       "      <td>1</td>\n",
       "      <td>0</td>\n",
       "      <td>T</td>\n",
       "      <td>Y</td>\n",
       "      <td>Green</td>\n",
       "      <td>Trapezoid</td>\n",
       "      <td>...</td>\n",
       "      <td>Grandmaster</td>\n",
       "      <td>Hot</td>\n",
       "      <td>a</td>\n",
       "      <td>A</td>\n",
       "      <td>bF</td>\n",
       "      <td>7</td>\n",
       "      <td>8</td>\n",
       "    </tr>\n",
       "    <tr>\n",
       "      <th>2</th>\n",
       "      <td>0</td>\n",
       "      <td>0</td>\n",
       "      <td>0</td>\n",
       "      <td>F</td>\n",
       "      <td>Y</td>\n",
       "      <td>Blue</td>\n",
       "      <td>Trapezoid</td>\n",
       "      <td>...</td>\n",
       "      <td>Expert</td>\n",
       "      <td>Lava Hot</td>\n",
       "      <td>h</td>\n",
       "      <td>R</td>\n",
       "      <td>Jc</td>\n",
       "      <td>7</td>\n",
       "      <td>2</td>\n",
       "    </tr>\n",
       "    <tr>\n",
       "      <th>3</th>\n",
       "      <td>0</td>\n",
       "      <td>1</td>\n",
       "      <td>0</td>\n",
       "      <td>F</td>\n",
       "      <td>Y</td>\n",
       "      <td>Red</td>\n",
       "      <td>Trapezoid</td>\n",
       "      <td>...</td>\n",
       "      <td>Grandmaster</td>\n",
       "      <td>Boiling Hot</td>\n",
       "      <td>i</td>\n",
       "      <td>D</td>\n",
       "      <td>kW</td>\n",
       "      <td>2</td>\n",
       "      <td>1</td>\n",
       "    </tr>\n",
       "    <tr>\n",
       "      <th>4</th>\n",
       "      <td>0</td>\n",
       "      <td>0</td>\n",
       "      <td>0</td>\n",
       "      <td>F</td>\n",
       "      <td>N</td>\n",
       "      <td>Red</td>\n",
       "      <td>Trapezoid</td>\n",
       "      <td>...</td>\n",
       "      <td>Grandmaster</td>\n",
       "      <td>Freezing</td>\n",
       "      <td>a</td>\n",
       "      <td>R</td>\n",
       "      <td>qP</td>\n",
       "      <td>7</td>\n",
       "      <td>8</td>\n",
       "    </tr>\n",
       "    <tr>\n",
       "      <th>...</th>\n",
       "      <td>...</td>\n",
       "      <td>...</td>\n",
       "      <td>...</td>\n",
       "      <td>...</td>\n",
       "      <td>...</td>\n",
       "      <td>...</td>\n",
       "      <td>...</td>\n",
       "      <td>...</td>\n",
       "      <td>...</td>\n",
       "      <td>...</td>\n",
       "      <td>...</td>\n",
       "      <td>...</td>\n",
       "      <td>...</td>\n",
       "      <td>...</td>\n",
       "      <td>...</td>\n",
       "    </tr>\n",
       "    <tr>\n",
       "      <th>499995</th>\n",
       "      <td>0</td>\n",
       "      <td>0</td>\n",
       "      <td>0</td>\n",
       "      <td>F</td>\n",
       "      <td>N</td>\n",
       "      <td>Green</td>\n",
       "      <td>Square</td>\n",
       "      <td>...</td>\n",
       "      <td>Novice</td>\n",
       "      <td>Lava Hot</td>\n",
       "      <td>j</td>\n",
       "      <td>A</td>\n",
       "      <td>Gb</td>\n",
       "      <td>1</td>\n",
       "      <td>3</td>\n",
       "    </tr>\n",
       "    <tr>\n",
       "      <th>499996</th>\n",
       "      <td>1</td>\n",
       "      <td>0</td>\n",
       "      <td>0</td>\n",
       "      <td>F</td>\n",
       "      <td>Y</td>\n",
       "      <td>Green</td>\n",
       "      <td>Trapezoid</td>\n",
       "      <td>...</td>\n",
       "      <td>Contributor</td>\n",
       "      <td>Lava Hot</td>\n",
       "      <td>f</td>\n",
       "      <td>S</td>\n",
       "      <td>Ed</td>\n",
       "      <td>2</td>\n",
       "      <td>2</td>\n",
       "    </tr>\n",
       "    <tr>\n",
       "      <th>499997</th>\n",
       "      <td>0</td>\n",
       "      <td>1</td>\n",
       "      <td>1</td>\n",
       "      <td>T</td>\n",
       "      <td>Y</td>\n",
       "      <td>Green</td>\n",
       "      <td>Trapezoid</td>\n",
       "      <td>...</td>\n",
       "      <td>Novice</td>\n",
       "      <td>Boiling Hot</td>\n",
       "      <td>g</td>\n",
       "      <td>V</td>\n",
       "      <td>TR</td>\n",
       "      <td>3</td>\n",
       "      <td>1</td>\n",
       "    </tr>\n",
       "    <tr>\n",
       "      <th>499998</th>\n",
       "      <td>1</td>\n",
       "      <td>0</td>\n",
       "      <td>0</td>\n",
       "      <td>T</td>\n",
       "      <td>Y</td>\n",
       "      <td>Blue</td>\n",
       "      <td>Star</td>\n",
       "      <td>...</td>\n",
       "      <td>Grandmaster</td>\n",
       "      <td>Boiling Hot</td>\n",
       "      <td>g</td>\n",
       "      <td>X</td>\n",
       "      <td>Ye</td>\n",
       "      <td>2</td>\n",
       "      <td>1</td>\n",
       "    </tr>\n",
       "    <tr>\n",
       "      <th>499999</th>\n",
       "      <td>0</td>\n",
       "      <td>0</td>\n",
       "      <td>0</td>\n",
       "      <td>T</td>\n",
       "      <td>Y</td>\n",
       "      <td>Green</td>\n",
       "      <td>Star</td>\n",
       "      <td>...</td>\n",
       "      <td>Novice</td>\n",
       "      <td>Freezing</td>\n",
       "      <td>l</td>\n",
       "      <td>J</td>\n",
       "      <td>ex</td>\n",
       "      <td>2</td>\n",
       "      <td>2</td>\n",
       "    </tr>\n",
       "  </tbody>\n",
       "</table>\n",
       "<p>500000 rows × 23 columns</p>\n",
       "</div>"
      ],
      "text/plain": [
       "        bin_0  bin_1  bin_2 bin_3 bin_4  nom_0      nom_1  ...        ord_1  \\\n",
       "id                                                         ...                \n",
       "0           0      0      0     T     Y  Green   Triangle  ...  Grandmaster   \n",
       "1           0      1      0     T     Y  Green  Trapezoid  ...  Grandmaster   \n",
       "2           0      0      0     F     Y   Blue  Trapezoid  ...       Expert   \n",
       "3           0      1      0     F     Y    Red  Trapezoid  ...  Grandmaster   \n",
       "4           0      0      0     F     N    Red  Trapezoid  ...  Grandmaster   \n",
       "...       ...    ...    ...   ...   ...    ...        ...  ...          ...   \n",
       "499995      0      0      0     F     N  Green     Square  ...       Novice   \n",
       "499996      1      0      0     F     Y  Green  Trapezoid  ...  Contributor   \n",
       "499997      0      1      1     T     Y  Green  Trapezoid  ...       Novice   \n",
       "499998      1      0      0     T     Y   Blue       Star  ...  Grandmaster   \n",
       "499999      0      0      0     T     Y  Green       Star  ...       Novice   \n",
       "\n",
       "              ord_2 ord_3 ord_4 ord_5 day month  \n",
       "id                                               \n",
       "0              Cold     h     D    kr   2     2  \n",
       "1               Hot     a     A    bF   7     8  \n",
       "2          Lava Hot     h     R    Jc   7     2  \n",
       "3       Boiling Hot     i     D    kW   2     1  \n",
       "4          Freezing     a     R    qP   7     8  \n",
       "...             ...   ...   ...   ...  ..   ...  \n",
       "499995     Lava Hot     j     A    Gb   1     3  \n",
       "499996     Lava Hot     f     S    Ed   2     2  \n",
       "499997  Boiling Hot     g     V    TR   3     1  \n",
       "499998  Boiling Hot     g     X    Ye   2     1  \n",
       "499999     Freezing     l     J    ex   2     2  \n",
       "\n",
       "[500000 rows x 23 columns]"
      ]
     },
     "execution_count": 217,
     "metadata": {},
     "output_type": "execute_result"
    }
   ],
   "source": [
    "## 전처리\n",
    "# 훈련 데이터와 테스트 데이터를 합친다.\n",
    "all_data=pd.concat([train,test])\n",
    "all_data=all_data.drop('target',axis=1)\n",
    "all_data"
   ]
  },
  {
   "cell_type": "code",
   "execution_count": 218,
   "metadata": {},
   "outputs": [],
   "source": [
    "# 범주형 데이터를 원핫인코딩을 진행한다.\n",
    "from sklearn.preprocessing import OneHotEncoder\n",
    "\n",
    "encoder=OneHotEncoder()\n",
    "all_data_encoded=encoder.fit_transform(all_data)"
   ]
  },
  {
   "cell_type": "code",
   "execution_count": 219,
   "metadata": {},
   "outputs": [],
   "source": [
    "# 훈련 데이터와 테스트 데이터 분리\n",
    "num_train=len(train)\n",
    "X_train=all_data_encoded[:num_train]\n",
    "X_test=all_data_encoded[num_train:]\n",
    "y=train['target']"
   ]
  },
  {
   "cell_type": "code",
   "execution_count": 220,
   "metadata": {},
   "outputs": [],
   "source": [
    "# 훈련에 사용할 데이터와 validation set 을 위한 데이터 분리\n",
    "from sklearn.model_selection import train_test_split\n",
    "\n",
    "# 층화 추출을 통해 테스트데이터와 검증용 데이터 생성\n",
    "X_train,X_valid,y_train,y_valid=train_test_split(X_train,y,test_size=0.1,random_state=42,stratify=y)"
   ]
  },
  {
   "cell_type": "markdown",
   "metadata": {},
   "source": [
    "## 모델 생성 및 훈련\\"
   ]
  },
  {
   "cell_type": "code",
   "execution_count": 221,
   "metadata": {},
   "outputs": [
    {
     "data": {
      "text/html": [
       "<style>#sk-container-id-12 {color: black;background-color: white;}#sk-container-id-12 pre{padding: 0;}#sk-container-id-12 div.sk-toggleable {background-color: white;}#sk-container-id-12 label.sk-toggleable__label {cursor: pointer;display: block;width: 100%;margin-bottom: 0;padding: 0.3em;box-sizing: border-box;text-align: center;}#sk-container-id-12 label.sk-toggleable__label-arrow:before {content: \"▸\";float: left;margin-right: 0.25em;color: #696969;}#sk-container-id-12 label.sk-toggleable__label-arrow:hover:before {color: black;}#sk-container-id-12 div.sk-estimator:hover label.sk-toggleable__label-arrow:before {color: black;}#sk-container-id-12 div.sk-toggleable__content {max-height: 0;max-width: 0;overflow: hidden;text-align: left;background-color: #f0f8ff;}#sk-container-id-12 div.sk-toggleable__content pre {margin: 0.2em;color: black;border-radius: 0.25em;background-color: #f0f8ff;}#sk-container-id-12 input.sk-toggleable__control:checked~div.sk-toggleable__content {max-height: 200px;max-width: 100%;overflow: auto;}#sk-container-id-12 input.sk-toggleable__control:checked~label.sk-toggleable__label-arrow:before {content: \"▾\";}#sk-container-id-12 div.sk-estimator input.sk-toggleable__control:checked~label.sk-toggleable__label {background-color: #d4ebff;}#sk-container-id-12 div.sk-label input.sk-toggleable__control:checked~label.sk-toggleable__label {background-color: #d4ebff;}#sk-container-id-12 input.sk-hidden--visually {border: 0;clip: rect(1px 1px 1px 1px);clip: rect(1px, 1px, 1px, 1px);height: 1px;margin: -1px;overflow: hidden;padding: 0;position: absolute;width: 1px;}#sk-container-id-12 div.sk-estimator {font-family: monospace;background-color: #f0f8ff;border: 1px dotted black;border-radius: 0.25em;box-sizing: border-box;margin-bottom: 0.5em;}#sk-container-id-12 div.sk-estimator:hover {background-color: #d4ebff;}#sk-container-id-12 div.sk-parallel-item::after {content: \"\";width: 100%;border-bottom: 1px solid gray;flex-grow: 1;}#sk-container-id-12 div.sk-label:hover label.sk-toggleable__label {background-color: #d4ebff;}#sk-container-id-12 div.sk-serial::before {content: \"\";position: absolute;border-left: 1px solid gray;box-sizing: border-box;top: 0;bottom: 0;left: 50%;z-index: 0;}#sk-container-id-12 div.sk-serial {display: flex;flex-direction: column;align-items: center;background-color: white;padding-right: 0.2em;padding-left: 0.2em;position: relative;}#sk-container-id-12 div.sk-item {position: relative;z-index: 1;}#sk-container-id-12 div.sk-parallel {display: flex;align-items: stretch;justify-content: center;background-color: white;position: relative;}#sk-container-id-12 div.sk-item::before, #sk-container-id-12 div.sk-parallel-item::before {content: \"\";position: absolute;border-left: 1px solid gray;box-sizing: border-box;top: 0;bottom: 0;left: 50%;z-index: -1;}#sk-container-id-12 div.sk-parallel-item {display: flex;flex-direction: column;z-index: 1;position: relative;background-color: white;}#sk-container-id-12 div.sk-parallel-item:first-child::after {align-self: flex-end;width: 50%;}#sk-container-id-12 div.sk-parallel-item:last-child::after {align-self: flex-start;width: 50%;}#sk-container-id-12 div.sk-parallel-item:only-child::after {width: 0;}#sk-container-id-12 div.sk-dashed-wrapped {border: 1px dashed gray;margin: 0 0.4em 0.5em 0.4em;box-sizing: border-box;padding-bottom: 0.4em;background-color: white;}#sk-container-id-12 div.sk-label label {font-family: monospace;font-weight: bold;display: inline-block;line-height: 1.2em;}#sk-container-id-12 div.sk-label-container {text-align: center;}#sk-container-id-12 div.sk-container {/* jupyter's `normalize.less` sets `[hidden] { display: none; }` but bootstrap.min.css set `[hidden] { display: none !important; }` so we also need the `!important` here to be able to override the default hidden behavior on the sphinx rendered scikit-learn.org. See: https://github.com/scikit-learn/scikit-learn/issues/21755 */display: inline-block !important;position: relative;}#sk-container-id-12 div.sk-text-repr-fallback {display: none;}</style><div id=\"sk-container-id-12\" class=\"sk-top-container\"><div class=\"sk-text-repr-fallback\"><pre>LogisticRegression(max_iter=1000, random_state=123)</pre><b>In a Jupyter environment, please rerun this cell to show the HTML representation or trust the notebook. <br />On GitHub, the HTML representation is unable to render, please try loading this page with nbviewer.org.</b></div><div class=\"sk-container\" hidden><div class=\"sk-item\"><div class=\"sk-estimator sk-toggleable\"><input class=\"sk-toggleable__control sk-hidden--visually\" id=\"sk-estimator-id-21\" type=\"checkbox\" checked><label for=\"sk-estimator-id-21\" class=\"sk-toggleable__label sk-toggleable__label-arrow\">LogisticRegression</label><div class=\"sk-toggleable__content\"><pre>LogisticRegression(max_iter=1000, random_state=123)</pre></div></div></div></div></div>"
      ],
      "text/plain": [
       "LogisticRegression(max_iter=1000, random_state=123)"
      ]
     },
     "execution_count": 221,
     "metadata": {},
     "output_type": "execute_result"
    }
   ],
   "source": [
    "# 이진 분류 이므로 모든 분류기 사용 가능\n",
    "from sklearn.linear_model import LogisticRegression\n",
    "\n",
    "# 모델 생성\n",
    "logistic_model=LogisticRegression(max_iter=1000,random_state=123)\n",
    "# 훈련\n",
    "logistic_model.fit(X_train,y_train)\n"
   ]
  },
  {
   "cell_type": "code",
   "execution_count": 222,
   "metadata": {},
   "outputs": [
    {
     "data": {
      "text/plain": [
       "array([0, 0, 1, ..., 0, 0, 1], dtype=int64)"
      ]
     },
     "execution_count": 222,
     "metadata": {},
     "output_type": "execute_result"
    }
   ],
   "source": [
    "logistic_model.predict(X_valid)"
   ]
  },
  {
   "cell_type": "code",
   "execution_count": 223,
   "metadata": {},
   "outputs": [
    {
     "data": {
      "text/plain": [
       "array([[0.6135743 , 0.3864257 ],\n",
       "       [0.87985541, 0.12014459],\n",
       "       [0.44565163, 0.55434837],\n",
       "       ...,\n",
       "       [0.94715845, 0.05284155],\n",
       "       [0.91200368, 0.08799632],\n",
       "       [0.36084552, 0.63915448]])"
      ]
     },
     "execution_count": 223,
     "metadata": {},
     "output_type": "execute_result"
    }
   ],
   "source": [
    "logistic_model.predict_proba(X_valid)"
   ]
  },
  {
   "cell_type": "markdown",
   "metadata": {},
   "source": [
    "### 평가 지표"
   ]
  },
  {
   "cell_type": "code",
   "execution_count": 224,
   "metadata": {},
   "outputs": [
    {
     "name": "stdout",
     "output_type": "stream",
     "text": [
      "평가점수 0.7949633345067274\n"
     ]
    }
   ],
   "source": [
    "# 평가 지표\n",
    "y_valid_preds=logistic_model.predict_proba(X_valid)[:,1]\n",
    "#roc_auc\n",
    "from sklearn.metrics import roc_auc_score\n",
    "\n",
    "roc_auc=roc_auc_score(y_valid,y_valid_preds)\n",
    "print('평가점수',roc_auc)\n"
   ]
  },
  {
   "cell_type": "code",
   "execution_count": 225,
   "metadata": {},
   "outputs": [],
   "source": [
    "# 제출할 결과 파일 생성\n",
    "y_preds=logistic_model.predict_proba(X_test)[:,1]\n",
    "submission['target']=y_preds\n",
    "\n",
    "submission.to_csv('submission.csv')"
   ]
  },
  {
   "cell_type": "markdown",
   "metadata": {},
   "source": [
    "- kaggle에 제출\n",
    "public score  : 대회 진행중 test데이터 가지고 수행한 점수\n",
    "private score : test데이터가 아닌거 가지고 수행한 결과 - 대회 진행중에는 공개 안됨."
   ]
  },
  {
   "cell_type": "markdown",
   "metadata": {},
   "source": [
    "# 모델 수정"
   ]
  },
  {
   "cell_type": "code",
   "execution_count": 226,
   "metadata": {},
   "outputs": [
    {
     "data": {
      "text/html": [
       "<div>\n",
       "<style scoped>\n",
       "    .dataframe tbody tr th:only-of-type {\n",
       "        vertical-align: middle;\n",
       "    }\n",
       "\n",
       "    .dataframe tbody tr th {\n",
       "        vertical-align: top;\n",
       "    }\n",
       "\n",
       "    .dataframe thead th {\n",
       "        text-align: right;\n",
       "    }\n",
       "</style>\n",
       "<table border=\"1\" class=\"dataframe\">\n",
       "  <thead>\n",
       "    <tr style=\"text-align: right;\">\n",
       "      <th></th>\n",
       "      <th>bin_0</th>\n",
       "      <th>bin_1</th>\n",
       "      <th>bin_2</th>\n",
       "      <th>bin_3</th>\n",
       "      <th>bin_4</th>\n",
       "      <th>nom_0</th>\n",
       "      <th>nom_1</th>\n",
       "      <th>...</th>\n",
       "      <th>ord_1</th>\n",
       "      <th>ord_2</th>\n",
       "      <th>ord_3</th>\n",
       "      <th>ord_4</th>\n",
       "      <th>ord_5</th>\n",
       "      <th>day</th>\n",
       "      <th>month</th>\n",
       "    </tr>\n",
       "    <tr>\n",
       "      <th>id</th>\n",
       "      <th></th>\n",
       "      <th></th>\n",
       "      <th></th>\n",
       "      <th></th>\n",
       "      <th></th>\n",
       "      <th></th>\n",
       "      <th></th>\n",
       "      <th></th>\n",
       "      <th></th>\n",
       "      <th></th>\n",
       "      <th></th>\n",
       "      <th></th>\n",
       "      <th></th>\n",
       "      <th></th>\n",
       "      <th></th>\n",
       "    </tr>\n",
       "  </thead>\n",
       "  <tbody>\n",
       "    <tr>\n",
       "      <th>0</th>\n",
       "      <td>0</td>\n",
       "      <td>0</td>\n",
       "      <td>0</td>\n",
       "      <td>T</td>\n",
       "      <td>Y</td>\n",
       "      <td>Green</td>\n",
       "      <td>Triangle</td>\n",
       "      <td>...</td>\n",
       "      <td>Grandmaster</td>\n",
       "      <td>Cold</td>\n",
       "      <td>h</td>\n",
       "      <td>D</td>\n",
       "      <td>kr</td>\n",
       "      <td>2</td>\n",
       "      <td>2</td>\n",
       "    </tr>\n",
       "    <tr>\n",
       "      <th>1</th>\n",
       "      <td>0</td>\n",
       "      <td>1</td>\n",
       "      <td>0</td>\n",
       "      <td>T</td>\n",
       "      <td>Y</td>\n",
       "      <td>Green</td>\n",
       "      <td>Trapezoid</td>\n",
       "      <td>...</td>\n",
       "      <td>Grandmaster</td>\n",
       "      <td>Hot</td>\n",
       "      <td>a</td>\n",
       "      <td>A</td>\n",
       "      <td>bF</td>\n",
       "      <td>7</td>\n",
       "      <td>8</td>\n",
       "    </tr>\n",
       "    <tr>\n",
       "      <th>2</th>\n",
       "      <td>0</td>\n",
       "      <td>0</td>\n",
       "      <td>0</td>\n",
       "      <td>F</td>\n",
       "      <td>Y</td>\n",
       "      <td>Blue</td>\n",
       "      <td>Trapezoid</td>\n",
       "      <td>...</td>\n",
       "      <td>Expert</td>\n",
       "      <td>Lava Hot</td>\n",
       "      <td>h</td>\n",
       "      <td>R</td>\n",
       "      <td>Jc</td>\n",
       "      <td>7</td>\n",
       "      <td>2</td>\n",
       "    </tr>\n",
       "    <tr>\n",
       "      <th>3</th>\n",
       "      <td>0</td>\n",
       "      <td>1</td>\n",
       "      <td>0</td>\n",
       "      <td>F</td>\n",
       "      <td>Y</td>\n",
       "      <td>Red</td>\n",
       "      <td>Trapezoid</td>\n",
       "      <td>...</td>\n",
       "      <td>Grandmaster</td>\n",
       "      <td>Boiling Hot</td>\n",
       "      <td>i</td>\n",
       "      <td>D</td>\n",
       "      <td>kW</td>\n",
       "      <td>2</td>\n",
       "      <td>1</td>\n",
       "    </tr>\n",
       "    <tr>\n",
       "      <th>4</th>\n",
       "      <td>0</td>\n",
       "      <td>0</td>\n",
       "      <td>0</td>\n",
       "      <td>F</td>\n",
       "      <td>N</td>\n",
       "      <td>Red</td>\n",
       "      <td>Trapezoid</td>\n",
       "      <td>...</td>\n",
       "      <td>Grandmaster</td>\n",
       "      <td>Freezing</td>\n",
       "      <td>a</td>\n",
       "      <td>R</td>\n",
       "      <td>qP</td>\n",
       "      <td>7</td>\n",
       "      <td>8</td>\n",
       "    </tr>\n",
       "  </tbody>\n",
       "</table>\n",
       "<p>5 rows × 23 columns</p>\n",
       "</div>"
      ],
      "text/plain": [
       "    bin_0  bin_1  bin_2 bin_3 bin_4  nom_0      nom_1  ...        ord_1  \\\n",
       "id                                                     ...                \n",
       "0       0      0      0     T     Y  Green   Triangle  ...  Grandmaster   \n",
       "1       0      1      0     T     Y  Green  Trapezoid  ...  Grandmaster   \n",
       "2       0      0      0     F     Y   Blue  Trapezoid  ...       Expert   \n",
       "3       0      1      0     F     Y    Red  Trapezoid  ...  Grandmaster   \n",
       "4       0      0      0     F     N    Red  Trapezoid  ...  Grandmaster   \n",
       "\n",
       "          ord_2 ord_3 ord_4 ord_5 day month  \n",
       "id                                           \n",
       "0          Cold     h     D    kr   2     2  \n",
       "1           Hot     a     A    bF   7     8  \n",
       "2      Lava Hot     h     R    Jc   7     2  \n",
       "3   Boiling Hot     i     D    kW   2     1  \n",
       "4      Freezing     a     R    qP   7     8  \n",
       "\n",
       "[5 rows x 23 columns]"
      ]
     },
     "execution_count": 226,
     "metadata": {},
     "output_type": "execute_result"
    }
   ],
   "source": [
    "# 데이터 확인\n",
    "all_data.head()"
   ]
  },
  {
   "cell_type": "code",
   "execution_count": 227,
   "metadata": {},
   "outputs": [
    {
     "name": "stdout",
     "output_type": "stream",
     "text": [
      "    bin_0  bin_1  bin_2 bin_3 bin_4  nom_0      nom_1  ... ord_3 ord_4 ord_5  \\\n",
      "id                                                     ...                     \n",
      "0       0      0      0     T     Y  Green   Triangle  ...     h     D    kr   \n",
      "1       0      1      0     T     Y  Green  Trapezoid  ...     a     A    bF   \n",
      "2       0      0      0     F     Y   Blue  Trapezoid  ...     h     R    Jc   \n",
      "3       0      1      0     F     Y    Red  Trapezoid  ...     i     D    kW   \n",
      "4       0      0      0     F     N    Red  Trapezoid  ...     a     R    qP   \n",
      "\n",
      "   day month bin3 bin4  \n",
      "id                      \n",
      "0    2     2    1    1  \n",
      "1    7     8    1    1  \n",
      "2    7     2    0    1  \n",
      "3    2     1    0    1  \n",
      "4    7     8    0    0  \n",
      "\n",
      "[5 rows x 25 columns]\n"
     ]
    }
   ],
   "source": [
    "# 이진 피처 인코딩을 수정\n",
    "# 숫자가 아닌 데이터를 숫자로 변환\n",
    "# 문자로 되어있는 경우 숫자로 수정하는것이 좋다.\n",
    "all_data['bin3']=all_data['bin_3'].map({'F':0,'T':1})\n",
    "all_data['bin4']=all_data['bin_4'].map({'N':0,'Y':1})\n",
    "\n",
    "print(all_data.head())"
   ]
  },
  {
   "cell_type": "code",
   "execution_count": 228,
   "metadata": {},
   "outputs": [],
   "source": [
    "# 순서형 피처 인코딩을 수정\n",
    "ord1dict={}\n",
    "ord2dict={}\n",
    "\n",
    "ord_1_value=['Novice','Contirbutor','Expert' ,'Master', 'Grandmaster']\n",
    "ord_2_value=[ 'Freezing','Cold','Warm','Hot','Boiling Hot','Lava Hot']\n",
    "\n",
    "for idx,val in enumerate(ord_1_value):\n",
    "\tord1dict[val]=idx\n",
    "\n",
    "for idx,val in enumerate(ord_2_value):\n",
    "\tord2dict[val]=idx"
   ]
  },
  {
   "cell_type": "code",
   "execution_count": 229,
   "metadata": {},
   "outputs": [
    {
     "name": "stdout",
     "output_type": "stream",
     "text": [
      "{'Novice': 0, 'Contirbutor': 1, 'Expert': 2, 'Master': 3, 'Grandmaster': 4}\n",
      "{'Freezing': 0, 'Cold': 1, 'Warm': 2, 'Hot': 3, 'Boiling Hot': 4, 'Lava Hot': 5}\n"
     ]
    }
   ],
   "source": [
    "print(ord1dict)\n",
    "\n",
    "print(ord2dict)"
   ]
  },
  {
   "cell_type": "code",
   "execution_count": 230,
   "metadata": {},
   "outputs": [],
   "source": [
    "\n",
    "all_data['ord_1']=all_data['ord_1'].map(ord1dict)\n",
    "all_data['ord_2']=all_data['ord_2'].map(ord2dict)"
   ]
  },
  {
   "cell_type": "code",
   "execution_count": 231,
   "metadata": {},
   "outputs": [
    {
     "name": "stdout",
     "output_type": "stream",
     "text": [
      "ord_3\n",
      "['a' 'b' 'c' 'd' 'e' 'f' 'g' 'h' 'i' 'j' 'k' 'l' 'm' 'n' 'o']\n",
      "ord_4\n",
      "['A' 'B' 'C' 'D' 'E' 'F' 'G' 'H' 'I' 'J' 'K' 'L' 'M' 'N' 'O' 'P' 'Q' 'R'\n",
      " 'S' 'T' 'U' 'V' 'W' 'X' 'Y' 'Z']\n",
      "ord_5\n",
      "['AP' 'Ai' 'Aj' 'BA' 'BE' 'Bb' 'Bd' 'Bn' 'CL' 'CM' 'CU' 'CZ' 'Cl' 'DH'\n",
      " 'DN' 'Dc' 'Dx' 'Ed' 'Eg' 'Er' 'FI' 'Fd' 'Fo' 'GD' 'GJ' 'Gb' 'Gx' 'Hj'\n",
      " 'IK' 'Id' 'JX' 'Jc' 'Jf' 'Jt' 'KR' 'KZ' 'Kf' 'Kq' 'LE' 'MC' 'MO' 'MV'\n",
      " 'Mf' 'Ml' 'Mx' 'NV' 'Nf' 'Nk' 'OR' 'Ob' 'Os' 'PA' 'PQ' 'PZ' 'Ps' 'QM'\n",
      " 'Qb' 'Qh' 'Qo' 'RG' 'RL' 'RP' 'Rm' 'Ry' 'SB' 'Sc' 'TR' 'TZ' 'To' 'UO'\n",
      " 'Uk' 'Uu' 'Vf' 'Vx' 'WE' 'Wc' 'Wv' 'XI' 'Xh' 'Xi' 'YC' 'Yb' 'Ye' 'ZR'\n",
      " 'ZS' 'Zc' 'Zq' 'aF' 'aM' 'aO' 'aP' 'ac' 'av' 'bF' 'bJ' 'be' 'cA' 'cG'\n",
      " 'cW' 'ck' 'cp' 'dB' 'dE' 'dN' 'dO' 'dP' 'dQ' 'dZ' 'dh' 'eG' 'eQ' 'eb'\n",
      " 'eg' 'ek' 'ex' 'fO' 'fh' 'gJ' 'gM' 'hL' 'hT' 'hh' 'hp' 'iT' 'ih' 'jS'\n",
      " 'jV' 'je' 'jp' 'kC' 'kE' 'kK' 'kL' 'kU' 'kW' 'ke' 'kr' 'kw' 'lF' 'lL'\n",
      " 'll' 'lx' 'mb' 'mc' 'mm' 'nX' 'nh' 'oC' 'oG' 'oH' 'oK' 'od' 'on' 'pa'\n",
      " 'ps' 'qA' 'qJ' 'qK' 'qP' 'qX' 'qo' 'qv' 'qw' 'rZ' 'ri' 'rp' 'sD' 'sV'\n",
      " 'sY' 'sn' 'su' 'tM' 'tP' 'tv' 'uJ' 'uS' 'ud' 'us' 'ut' 'ux' 'uy' 'vK'\n",
      " 'vq' 'vy' 'wu' 'wy' 'xP' 'xy' 'yN' 'yY' 'yc' 'zU']\n"
     ]
    }
   ],
   "source": [
    "# ord_3,4,5 눈 순서가 있는 범주형 이므로 원핫인코딩 대신 ordinal encoding을 수행한다. \n",
    "\n",
    "from sklearn.preprocessing import OrdinalEncoder\n",
    "\n",
    "ord_345=['ord_3','ord_4','ord_5']\n",
    "ord_encoder=OrdinalEncoder()\n",
    "\n",
    "all_data[ord_345]=ord_encoder.fit_transform(all_data[ord_345])\n",
    "\n",
    "for feature,categories in zip(ord_345,ord_encoder.categories_):\n",
    "\tprint(feature)\n",
    "\tprint(categories)"
   ]
  },
  {
   "cell_type": "code",
   "execution_count": 232,
   "metadata": {},
   "outputs": [
    {
     "name": "stdout",
     "output_type": "stream",
     "text": [
      "        bin_0  bin_1  bin_2 bin_3 bin_4  ord_0  ord_1  ord_2  ord_3  ord_4  \\\n",
      "id                                                                           \n",
      "0           0      0      0     T     Y      2    4.0      1    7.0    3.0   \n",
      "1           0      1      0     T     Y      1    4.0      3    0.0    0.0   \n",
      "2           0      0      0     F     Y      1    2.0      5    7.0   17.0   \n",
      "3           0      1      0     F     Y      1    4.0      4    8.0    3.0   \n",
      "4           0      0      0     F     N      1    4.0      0    0.0   17.0   \n",
      "...       ...    ...    ...   ...   ...    ...    ...    ...    ...    ...   \n",
      "499995      0      0      0     F     N      1    0.0      5    9.0    0.0   \n",
      "499996      1      0      0     F     Y      1    NaN      5    5.0   18.0   \n",
      "499997      0      1      1     T     Y      1    0.0      4    6.0   21.0   \n",
      "499998      1      0      0     T     Y      2    4.0      4    6.0   23.0   \n",
      "499999      0      0      0     T     Y      2    0.0      0   11.0    9.0   \n",
      "\n",
      "        ord_5  day  month  bin3  bin4  \n",
      "id                                     \n",
      "0       136.0    2      2     1     1  \n",
      "1        93.0    7      8     1     1  \n",
      "2        31.0    7      2     0     1  \n",
      "3       134.0    2      1     0     1  \n",
      "4       158.0    7      8     0     0  \n",
      "...       ...  ...    ...   ...   ...  \n",
      "499995   25.0    1      3     0     0  \n",
      "499996   17.0    2      2     0     1  \n",
      "499997   66.0    3      1     1     1  \n",
      "499998   82.0    2      1     1     1  \n",
      "499999  114.0    2      2     1     1  \n",
      "\n",
      "[500000 rows x 15 columns]\n"
     ]
    }
   ],
   "source": [
    "# 명목형 목록 인코딩\n",
    "\n",
    "nom_features=['nom_'+str(i) for i in range(10)]\n",
    "\n",
    "from sklearn.preprocessing import OneHotEncoder\n",
    "\n",
    "ohe=OneHotEncoder()\n",
    "enccoded_nom_matrix=ohe.fit_transform(all_data[nom_features])\n",
    "all_data=all_data.drop(nom_features,axis=1)\n",
    "\n",
    "print(all_data)"
   ]
  },
  {
   "cell_type": "markdown",
   "metadata": {},
   "source": [
    "### 날짜 목록 인코딩"
   ]
  },
  {
   "cell_type": "code",
   "execution_count": 233,
   "metadata": {},
   "outputs": [
    {
     "name": "stdout",
     "output_type": "stream",
     "text": [
      "[[1. 1.]\n",
      " [6. 7.]\n",
      " [6. 1.]\n",
      " ...\n",
      " [2. 0.]\n",
      " [1. 0.]\n",
      " [1. 1.]]\n"
     ]
    }
   ],
   "source": [
    "date_features=['day','month']\n",
    "encoded_date_matrix=ord_encoder.fit_transform(all_data[date_features])\n",
    "all_data=all_data.drop(date_features,axis=1)\n",
    "print(encoded_date_matrix)"
   ]
  },
  {
   "cell_type": "code",
   "execution_count": 234,
   "metadata": {},
   "outputs": [
    {
     "data": {
      "text/html": [
       "<div>\n",
       "<style scoped>\n",
       "    .dataframe tbody tr th:only-of-type {\n",
       "        vertical-align: middle;\n",
       "    }\n",
       "\n",
       "    .dataframe tbody tr th {\n",
       "        vertical-align: top;\n",
       "    }\n",
       "\n",
       "    .dataframe thead th {\n",
       "        text-align: right;\n",
       "    }\n",
       "</style>\n",
       "<table border=\"1\" class=\"dataframe\">\n",
       "  <thead>\n",
       "    <tr style=\"text-align: right;\">\n",
       "      <th></th>\n",
       "      <th>ord_0</th>\n",
       "      <th>ord_1</th>\n",
       "      <th>ord_2</th>\n",
       "      <th>ord_3</th>\n",
       "      <th>ord_4</th>\n",
       "      <th>ord_5</th>\n",
       "    </tr>\n",
       "    <tr>\n",
       "      <th>id</th>\n",
       "      <th></th>\n",
       "      <th></th>\n",
       "      <th></th>\n",
       "      <th></th>\n",
       "      <th></th>\n",
       "      <th></th>\n",
       "    </tr>\n",
       "  </thead>\n",
       "  <tbody>\n",
       "    <tr>\n",
       "      <th>0</th>\n",
       "      <td>0.5</td>\n",
       "      <td>1.0</td>\n",
       "      <td>0.2</td>\n",
       "      <td>0.500000</td>\n",
       "      <td>0.12</td>\n",
       "      <td>0.712042</td>\n",
       "    </tr>\n",
       "    <tr>\n",
       "      <th>1</th>\n",
       "      <td>0.0</td>\n",
       "      <td>1.0</td>\n",
       "      <td>0.6</td>\n",
       "      <td>0.000000</td>\n",
       "      <td>0.00</td>\n",
       "      <td>0.486911</td>\n",
       "    </tr>\n",
       "    <tr>\n",
       "      <th>2</th>\n",
       "      <td>0.0</td>\n",
       "      <td>0.5</td>\n",
       "      <td>1.0</td>\n",
       "      <td>0.500000</td>\n",
       "      <td>0.68</td>\n",
       "      <td>0.162304</td>\n",
       "    </tr>\n",
       "    <tr>\n",
       "      <th>3</th>\n",
       "      <td>0.0</td>\n",
       "      <td>1.0</td>\n",
       "      <td>0.8</td>\n",
       "      <td>0.571429</td>\n",
       "      <td>0.12</td>\n",
       "      <td>0.701571</td>\n",
       "    </tr>\n",
       "    <tr>\n",
       "      <th>4</th>\n",
       "      <td>0.0</td>\n",
       "      <td>1.0</td>\n",
       "      <td>0.0</td>\n",
       "      <td>0.000000</td>\n",
       "      <td>0.68</td>\n",
       "      <td>0.827225</td>\n",
       "    </tr>\n",
       "    <tr>\n",
       "      <th>...</th>\n",
       "      <td>...</td>\n",
       "      <td>...</td>\n",
       "      <td>...</td>\n",
       "      <td>...</td>\n",
       "      <td>...</td>\n",
       "      <td>...</td>\n",
       "    </tr>\n",
       "    <tr>\n",
       "      <th>499995</th>\n",
       "      <td>0.0</td>\n",
       "      <td>0.0</td>\n",
       "      <td>1.0</td>\n",
       "      <td>0.642857</td>\n",
       "      <td>0.00</td>\n",
       "      <td>0.130890</td>\n",
       "    </tr>\n",
       "    <tr>\n",
       "      <th>499996</th>\n",
       "      <td>0.0</td>\n",
       "      <td>NaN</td>\n",
       "      <td>1.0</td>\n",
       "      <td>0.357143</td>\n",
       "      <td>0.72</td>\n",
       "      <td>0.089005</td>\n",
       "    </tr>\n",
       "    <tr>\n",
       "      <th>499997</th>\n",
       "      <td>0.0</td>\n",
       "      <td>0.0</td>\n",
       "      <td>0.8</td>\n",
       "      <td>0.428571</td>\n",
       "      <td>0.84</td>\n",
       "      <td>0.345550</td>\n",
       "    </tr>\n",
       "    <tr>\n",
       "      <th>499998</th>\n",
       "      <td>0.5</td>\n",
       "      <td>1.0</td>\n",
       "      <td>0.8</td>\n",
       "      <td>0.428571</td>\n",
       "      <td>0.92</td>\n",
       "      <td>0.429319</td>\n",
       "    </tr>\n",
       "    <tr>\n",
       "      <th>499999</th>\n",
       "      <td>0.5</td>\n",
       "      <td>0.0</td>\n",
       "      <td>0.0</td>\n",
       "      <td>0.785714</td>\n",
       "      <td>0.36</td>\n",
       "      <td>0.596859</td>\n",
       "    </tr>\n",
       "  </tbody>\n",
       "</table>\n",
       "<p>500000 rows × 6 columns</p>\n",
       "</div>"
      ],
      "text/plain": [
       "        ord_0  ord_1  ord_2     ord_3  ord_4     ord_5\n",
       "id                                                    \n",
       "0         0.5    1.0    0.2  0.500000   0.12  0.712042\n",
       "1         0.0    1.0    0.6  0.000000   0.00  0.486911\n",
       "2         0.0    0.5    1.0  0.500000   0.68  0.162304\n",
       "3         0.0    1.0    0.8  0.571429   0.12  0.701571\n",
       "4         0.0    1.0    0.0  0.000000   0.68  0.827225\n",
       "...       ...    ...    ...       ...    ...       ...\n",
       "499995    0.0    0.0    1.0  0.642857   0.00  0.130890\n",
       "499996    0.0    NaN    1.0  0.357143   0.72  0.089005\n",
       "499997    0.0    0.0    0.8  0.428571   0.84  0.345550\n",
       "499998    0.5    1.0    0.8  0.428571   0.92  0.429319\n",
       "499999    0.5    0.0    0.0  0.785714   0.36  0.596859\n",
       "\n",
       "[500000 rows x 6 columns]"
      ]
     },
     "execution_count": 234,
     "metadata": {},
     "output_type": "execute_result"
    }
   ],
   "source": [
    "# 순서형 목록은 스케일링 - 0~1 사이 min-max\n",
    "\n",
    "from sklearn.preprocessing import MinMaxScaler\n",
    "\n",
    "ord_features=['ord_'+str(i) for i in range(6)]\n",
    "all_data[ord_features]=MinMaxScaler().fit_transform(all_data[ord_features])\n",
    "all_data[ord_features]"
   ]
  },
  {
   "cell_type": "code",
   "execution_count": 236,
   "metadata": {},
   "outputs": [
    {
     "ename": "TypeError",
     "evalue": "no supported conversion for types: (dtype('O'),)",
     "output_type": "error",
     "traceback": [
      "\u001b[1;31m---------------------------------------------------------------------------\u001b[0m",
      "\u001b[1;31mTypeError\u001b[0m                                 Traceback (most recent call last)",
      "File \u001b[1;32mc:\\Users\\USER\\anaconda3\\lib\\site-packages\\scipy\\sparse\\_base.py:376\u001b[0m, in \u001b[0;36mspmatrix.asformat\u001b[1;34m(self, format, copy)\u001b[0m\n\u001b[0;32m    375\u001b[0m \u001b[39mtry\u001b[39;00m:\n\u001b[1;32m--> 376\u001b[0m     \u001b[39mreturn\u001b[39;00m convert_method(copy\u001b[39m=\u001b[39;49mcopy)\n\u001b[0;32m    377\u001b[0m \u001b[39mexcept\u001b[39;00m \u001b[39mTypeError\u001b[39;00m:\n",
      "File \u001b[1;32mc:\\Users\\USER\\anaconda3\\lib\\site-packages\\scipy\\sparse\\_coo.py:403\u001b[0m, in \u001b[0;36mcoo_matrix.tocsr\u001b[1;34m(self, copy)\u001b[0m\n\u001b[0;32m    402\u001b[0m indices \u001b[39m=\u001b[39m np\u001b[39m.\u001b[39mempty_like(col, dtype\u001b[39m=\u001b[39midx_dtype)\n\u001b[1;32m--> 403\u001b[0m data \u001b[39m=\u001b[39m np\u001b[39m.\u001b[39mempty_like(\u001b[39mself\u001b[39m\u001b[39m.\u001b[39mdata, dtype\u001b[39m=\u001b[39mupcast(\u001b[39mself\u001b[39;49m\u001b[39m.\u001b[39;49mdtype))\n\u001b[0;32m    405\u001b[0m coo_tocsr(M, N, \u001b[39mself\u001b[39m\u001b[39m.\u001b[39mnnz, row, col, \u001b[39mself\u001b[39m\u001b[39m.\u001b[39mdata,\n\u001b[0;32m    406\u001b[0m           indptr, indices, data)\n",
      "File \u001b[1;32mc:\\Users\\USER\\anaconda3\\lib\\site-packages\\scipy\\sparse\\_sputils.py:53\u001b[0m, in \u001b[0;36mupcast\u001b[1;34m(*args)\u001b[0m\n\u001b[0;32m     51\u001b[0m         \u001b[39mreturn\u001b[39;00m t\n\u001b[1;32m---> 53\u001b[0m \u001b[39mraise\u001b[39;00m \u001b[39mTypeError\u001b[39;00m(\u001b[39m'\u001b[39m\u001b[39mno supported conversion for types: \u001b[39m\u001b[39m%r\u001b[39;00m\u001b[39m'\u001b[39m \u001b[39m%\u001b[39m (args,))\n",
      "\u001b[1;31mTypeError\u001b[0m: no supported conversion for types: (dtype('O'),)",
      "\nDuring handling of the above exception, another exception occurred:\n",
      "\u001b[1;31mTypeError\u001b[0m                                 Traceback (most recent call last)",
      "Cell \u001b[1;32mIn[236], line 4\u001b[0m\n\u001b[0;32m      1\u001b[0m \u001b[39m# 인코딩한 데이터와 스케일링 한 데이터 합치기\u001b[39;00m\n\u001b[0;32m      2\u001b[0m \u001b[39mfrom\u001b[39;00m \u001b[39mscipy\u001b[39;00m \u001b[39mimport\u001b[39;00m sparse\n\u001b[1;32m----> 4\u001b[0m all_data_sprs\u001b[39m=\u001b[39msparse\u001b[39m.\u001b[39mhstack([sparse\u001b[39m.\u001b[39;49mcsr_matrix(all_data),\n\u001b[0;32m      5\u001b[0m encoded_nom_matrix,\n\u001b[0;32m      6\u001b[0m encoded_date_matrix],\n\u001b[0;32m      7\u001b[0m \u001b[39mformat\u001b[39m\u001b[39m=\u001b[39m\u001b[39m'\u001b[39m\u001b[39mcsr\u001b[39m\u001b[39m'\u001b[39m)\n\u001b[0;32m      9\u001b[0m all_data_sprs\n",
      "File \u001b[1;32mc:\\Users\\USER\\anaconda3\\lib\\site-packages\\scipy\\sparse\\_compressed.py:84\u001b[0m, in \u001b[0;36m_cs_matrix.__init__\u001b[1;34m(self, arg1, shape, dtype, copy)\u001b[0m\n\u001b[0;32m     81\u001b[0m     \u001b[39mexcept\u001b[39;00m \u001b[39mException\u001b[39;00m \u001b[39mas\u001b[39;00m e:\n\u001b[0;32m     82\u001b[0m         \u001b[39mraise\u001b[39;00m \u001b[39mValueError\u001b[39;00m(\u001b[39m\"\u001b[39m\u001b[39munrecognized \u001b[39m\u001b[39m{}\u001b[39;00m\u001b[39m_matrix constructor usage\u001b[39m\u001b[39m\"\u001b[39m\n\u001b[0;32m     83\u001b[0m                          \u001b[39m\"\u001b[39m\u001b[39m\"\u001b[39m\u001b[39m.\u001b[39mformat(\u001b[39mself\u001b[39m\u001b[39m.\u001b[39mformat)) \u001b[39mfrom\u001b[39;00m \u001b[39me\u001b[39;00m\n\u001b[1;32m---> 84\u001b[0m     \u001b[39mself\u001b[39m\u001b[39m.\u001b[39m_set_self(\u001b[39mself\u001b[39;49m\u001b[39m.\u001b[39;49m\u001b[39m__class__\u001b[39;49m(\n\u001b[0;32m     85\u001b[0m         \u001b[39mself\u001b[39;49m\u001b[39m.\u001b[39;49m_coo_container(arg1, dtype\u001b[39m=\u001b[39;49mdtype)\n\u001b[0;32m     86\u001b[0m     ))\n\u001b[0;32m     88\u001b[0m \u001b[39m# Read matrix dimensions given, if any\u001b[39;00m\n\u001b[0;32m     89\u001b[0m \u001b[39mif\u001b[39;00m shape \u001b[39mis\u001b[39;00m \u001b[39mnot\u001b[39;00m \u001b[39mNone\u001b[39;00m:\n",
      "File \u001b[1;32mc:\\Users\\USER\\anaconda3\\lib\\site-packages\\scipy\\sparse\\_compressed.py:33\u001b[0m, in \u001b[0;36m_cs_matrix.__init__\u001b[1;34m(self, arg1, shape, dtype, copy)\u001b[0m\n\u001b[0;32m     31\u001b[0m         arg1 \u001b[39m=\u001b[39m arg1\u001b[39m.\u001b[39mcopy()\n\u001b[0;32m     32\u001b[0m     \u001b[39melse\u001b[39;00m:\n\u001b[1;32m---> 33\u001b[0m         arg1 \u001b[39m=\u001b[39m arg1\u001b[39m.\u001b[39;49masformat(\u001b[39mself\u001b[39;49m\u001b[39m.\u001b[39;49mformat)\n\u001b[0;32m     34\u001b[0m     \u001b[39mself\u001b[39m\u001b[39m.\u001b[39m_set_self(arg1)\n\u001b[0;32m     36\u001b[0m \u001b[39melif\u001b[39;00m \u001b[39misinstance\u001b[39m(arg1, \u001b[39mtuple\u001b[39m):\n",
      "File \u001b[1;32mc:\\Users\\USER\\anaconda3\\lib\\site-packages\\scipy\\sparse\\_base.py:378\u001b[0m, in \u001b[0;36mspmatrix.asformat\u001b[1;34m(self, format, copy)\u001b[0m\n\u001b[0;32m    376\u001b[0m     \u001b[39mreturn\u001b[39;00m convert_method(copy\u001b[39m=\u001b[39mcopy)\n\u001b[0;32m    377\u001b[0m \u001b[39mexcept\u001b[39;00m \u001b[39mTypeError\u001b[39;00m:\n\u001b[1;32m--> 378\u001b[0m     \u001b[39mreturn\u001b[39;00m convert_method()\n",
      "File \u001b[1;32mc:\\Users\\USER\\anaconda3\\lib\\site-packages\\scipy\\sparse\\_coo.py:403\u001b[0m, in \u001b[0;36mcoo_matrix.tocsr\u001b[1;34m(self, copy)\u001b[0m\n\u001b[0;32m    401\u001b[0m indptr \u001b[39m=\u001b[39m np\u001b[39m.\u001b[39mempty(M \u001b[39m+\u001b[39m \u001b[39m1\u001b[39m, dtype\u001b[39m=\u001b[39midx_dtype)\n\u001b[0;32m    402\u001b[0m indices \u001b[39m=\u001b[39m np\u001b[39m.\u001b[39mempty_like(col, dtype\u001b[39m=\u001b[39midx_dtype)\n\u001b[1;32m--> 403\u001b[0m data \u001b[39m=\u001b[39m np\u001b[39m.\u001b[39mempty_like(\u001b[39mself\u001b[39m\u001b[39m.\u001b[39mdata, dtype\u001b[39m=\u001b[39mupcast(\u001b[39mself\u001b[39;49m\u001b[39m.\u001b[39;49mdtype))\n\u001b[0;32m    405\u001b[0m coo_tocsr(M, N, \u001b[39mself\u001b[39m\u001b[39m.\u001b[39mnnz, row, col, \u001b[39mself\u001b[39m\u001b[39m.\u001b[39mdata,\n\u001b[0;32m    406\u001b[0m           indptr, indices, data)\n\u001b[0;32m    408\u001b[0m x \u001b[39m=\u001b[39m \u001b[39mself\u001b[39m\u001b[39m.\u001b[39m_csr_container((data, indices, indptr), shape\u001b[39m=\u001b[39m\u001b[39mself\u001b[39m\u001b[39m.\u001b[39mshape)\n",
      "File \u001b[1;32mc:\\Users\\USER\\anaconda3\\lib\\site-packages\\scipy\\sparse\\_sputils.py:53\u001b[0m, in \u001b[0;36mupcast\u001b[1;34m(*args)\u001b[0m\n\u001b[0;32m     50\u001b[0m         _upcast_memo[\u001b[39mhash\u001b[39m(args)] \u001b[39m=\u001b[39m t\n\u001b[0;32m     51\u001b[0m         \u001b[39mreturn\u001b[39;00m t\n\u001b[1;32m---> 53\u001b[0m \u001b[39mraise\u001b[39;00m \u001b[39mTypeError\u001b[39;00m(\u001b[39m'\u001b[39m\u001b[39mno supported conversion for types: \u001b[39m\u001b[39m%r\u001b[39;00m\u001b[39m'\u001b[39m \u001b[39m%\u001b[39m (args,))\n",
      "\u001b[1;31mTypeError\u001b[0m: no supported conversion for types: (dtype('O'),)"
     ]
    }
   ],
   "source": [
    "# 인코딩한 데이터와 스케일링 한 데이터 합치기\n",
    "from scipy import sparse\n",
    "\n",
    "all_data_sprs=sparse.hstack([sparse.csr_matrix(all_data),\n",
    "encoded_nom_matrix,\n",
    "encoded_date_matrix],\n",
    "format='csr')\n",
    "\n",
    "all_data_sprs"
   ]
  },
  {
   "cell_type": "code",
   "execution_count": null,
   "metadata": {},
   "outputs": [],
   "source": []
  },
  {
   "cell_type": "markdown",
   "metadata": {},
   "source": [
    "## Hyper parameter tuning"
   ]
  },
  {
   "cell_type": "code",
   "execution_count": 1,
   "metadata": {},
   "outputs": [],
   "source": [
    "from sklearn.model_selection import GridSearchCV"
   ]
  },
  {
   "cell_type": "code",
   "execution_count": 2,
   "metadata": {},
   "outputs": [
    {
     "ename": "NameError",
     "evalue": "name 'LogisticRegression' is not defined",
     "output_type": "error",
     "traceback": [
      "\u001b[1;31m---------------------------------------------------------------------------\u001b[0m",
      "\u001b[1;31mNameError\u001b[0m                                 Traceback (most recent call last)",
      "Cell \u001b[1;32mIn[2], line 1\u001b[0m\n\u001b[1;32m----> 1\u001b[0m logistic_model\u001b[39m=\u001b[39mLogisticRegression()\n\u001b[0;32m      2\u001b[0m lr_params\u001b[39m=\u001b[39m{\n\u001b[0;32m      3\u001b[0m \t\u001b[39m'\u001b[39m\u001b[39mC\u001b[39m\u001b[39m'\u001b[39m:[\u001b[39m0.1\u001b[39m,\u001b[39m0.125\u001b[39m,\u001b[39m0.2\u001b[39m],\n\u001b[0;32m      4\u001b[0m \t\u001b[39m'\u001b[39m\u001b[39mmax_iter\u001b[39m\u001b[39m'\u001b[39m:[\u001b[39m800\u001b[39m,\u001b[39m900\u001b[39m,\u001b[39m1000\u001b[39m],\n\u001b[0;32m      5\u001b[0m \t\u001b[39m'\u001b[39m\u001b[39msolver\u001b[39m\u001b[39m'\u001b[39m:[\u001b[39m'\u001b[39m\u001b[39mlibnear\u001b[39m\u001b[39m'\u001b[39m],\n\u001b[0;32m      6\u001b[0m \t\u001b[39m'\u001b[39m\u001b[39mrandom_state\u001b[39m\u001b[39m'\u001b[39m:[\u001b[39m42\u001b[39m]\n\u001b[0;32m      7\u001b[0m }\n\u001b[0;32m      9\u001b[0m grid_logistic\u001b[39m=\u001b[39mGridSearchCV(estimator\u001b[39m=\u001b[39mlogistic_model,\n\u001b[0;32m     10\u001b[0m \t\t\t\t\t\t   params_grid\u001b[39m=\u001b[39mlr_params,\n\u001b[0;32m     11\u001b[0m \t\t\t\t\t\t   scoring\u001b[39m=\u001b[39m\u001b[39m'\u001b[39m\u001b[39mroc_auc\u001b[39m\u001b[39m'\u001b[39m,\n\u001b[0;32m     12\u001b[0m \t\t\t\t\t\t   cv\u001b[39m=\u001b[39m\u001b[39m5\u001b[39m)\n",
      "\u001b[1;31mNameError\u001b[0m: name 'LogisticRegression' is not defined"
     ]
    }
   ],
   "source": [
    "logistic_model=LogisticRegression()\n",
    "lr_params={\n",
    "\t'C':[0.1,0.125,0.2],\n",
    "\t'max_iter':[800,900,1000],\n",
    "\t'solver':['libnear'],\n",
    "\t'random_state':[42]\n",
    "}\n",
    "\n",
    "grid_logistic=GridSearchCV(estimator=logistic_model,\n",
    "\t\t\t\t\t\t   params_grid=lr_params,\n",
    "\t\t\t\t\t\t   scoring='roc_auc',\n",
    "\t\t\t\t\t\t   cv=5)\n",
    "\n",
    "grid_logistic.fit(X_train,y_train)\n",
    "print(grid_logistic.best_params_)"
   ]
  },
  {
   "cell_type": "code",
   "execution_count": null,
   "metadata": {},
   "outputs": [],
   "source": []
  }
 ],
 "metadata": {
  "kernelspec": {
   "display_name": "base",
   "language": "python",
   "name": "python3"
  },
  "language_info": {
   "codemirror_mode": {
    "name": "ipython",
    "version": 3
   },
   "file_extension": ".py",
   "mimetype": "text/x-python",
   "name": "python",
   "nbconvert_exporter": "python",
   "pygments_lexer": "ipython3",
   "version": "3.10.9"
  },
  "orig_nbformat": 4
 },
 "nbformat": 4,
 "nbformat_minor": 2
}
